{
 "cells": [
  {
   "cell_type": "markdown",
   "metadata": {},
   "source": [
    "# Capstone Project"
   ]
  },
  {
   "cell_type": "markdown",
   "metadata": {},
   "source": [
    "For this project, I'm diving into a large amount of text and applying some unsupervised/clustering techniques for classification.\n",
    "\n",
    "This dataset contains 200 articles from 10 different Grantland writers from 2013-2015. Grantland, spearheaded by sports aficionado Bill Simmons from 2001 to 2015, was once the premier hub for sports and pop culture talk at ESPN before its shutdown.\n",
    "\n",
    "I would like to see if the natural language processing techniques that I have learned in this section can find patters in the writers' content and group articles accordingly."
   ]
  },
  {
   "cell_type": "code",
   "execution_count": 6,
   "metadata": {
    "collapsed": false
   },
   "outputs": [],
   "source": [
    "import requests\n",
    "from bs4 import BeautifulSoup\n",
    "import re"
   ]
  },
  {
   "cell_type": "code",
   "execution_count": 96,
   "metadata": {
    "collapsed": true
   },
   "outputs": [],
   "source": [
    "import numpy as np\n",
    "import pandas as pd\n",
    "import matplotlib.pyplot as plt\n",
    "%matplotlib inline"
   ]
  },
  {
   "cell_type": "code",
   "execution_count": 8,
   "metadata": {
    "collapsed": true
   },
   "outputs": [],
   "source": [
    "import nltk\n",
    "from nltk.stem import PorterStemmer\n",
    "import string"
   ]
  },
  {
   "cell_type": "markdown",
   "metadata": {},
   "source": [
    "The 2 code cells below conduct the scraping of grantland's website and the creation of a csv file based upon the data collected."
   ]
  },
  {
   "cell_type": "code",
   "execution_count": 9,
   "metadata": {
    "collapsed": false
   },
   "outputs": [],
   "source": [
    "#grabs url links from neighbor file\n",
    "\n",
    "from articles import (anderson, baker, barnwell, browne, \n",
    "goldsberry, lowe, mays, serrano, sharp, simmons)"
   ]
  },
  {
   "cell_type": "code",
   "execution_count": 12,
   "metadata": {
    "collapsed": false
   },
   "outputs": [],
   "source": [
    "# creates csv based on beautiful soup scrape of grantland website\n",
    "\n",
    "# def add_article(html,  author):\n",
    "#     \"\"\"Creates Api call and creates list of articles\"\"\"\n",
    "#     page = requests.get(html)\n",
    "#     soup = BeautifulSoup(page.content, 'html.parser')\n",
    "#     article = soup.find(class_='blog-body')\n",
    "#     publish_date = soup.find('time').attrs['datetime']\n",
    "#     title = soup.find('h2').get_text()\n",
    "#     topic = soup.find(class_='category').get_text()\n",
    "    \n",
    "#     sentences = [ptag.get_text() for ptag in article.select('p')]\n",
    "\n",
    "#     sentences_formatted = ' '.join(sentences)\n",
    "    \n",
    "#     articles_df.append((title, sentences_formatted, publish_date, topic, author))\n",
    "   \n",
    "\n",
    "# list_of_articles = [anderson, baker, barnwell, browne, \n",
    "#                     goldsberry, lowe, mays, serrano, sharp, simmons]\n",
    "\n",
    "# authors = ['Anderson', 'Baker', 'Barnwell', 'Browne', \n",
    "#            'Goldsberry', 'Lowe', 'Mays', 'Serrano', 'Sharp', 'Simmons']\n",
    "\n",
    "# articles_df = []\n",
    "\n",
    "# #10 authors\n",
    "# for i in range(10):\n",
    "#     writer = authors[i]\n",
    "\n",
    "#     #  20 articles per\n",
    "#     for j in range(20):\n",
    "#         add_article(list_of_articles[i][j], writer)\n",
    "        \n",
    "\n",
    "# #create dataframe with scraped data\n",
    "# df = pd.DataFrame(columns=['title', 'article', 'publish_date', 'topic', 'author'], \n",
    "#                           data=articles_df)\n",
    "\n",
    "# #create csv\n",
    "# df.to_csv('grantland.csv')"
   ]
  },
  {
   "cell_type": "code",
   "execution_count": 13,
   "metadata": {
    "collapsed": true
   },
   "outputs": [],
   "source": [
    "# special encoding due to issue with left apostrophe\n",
    "data = pd.read_csv('grantland.csv', encoding='windows-1252', index_col=0)"
   ]
  },
  {
   "cell_type": "code",
   "execution_count": 14,
   "metadata": {
    "collapsed": false
   },
   "outputs": [
    {
     "data": {
      "text/html": [
       "<div>\n",
       "<table border=\"1\" class=\"dataframe\">\n",
       "  <thead>\n",
       "    <tr style=\"text-align: right;\">\n",
       "      <th></th>\n",
       "      <th>title</th>\n",
       "      <th>article</th>\n",
       "      <th>publish_date</th>\n",
       "      <th>topic</th>\n",
       "      <th>author</th>\n",
       "    </tr>\n",
       "  </thead>\n",
       "  <tbody>\n",
       "    <tr>\n",
       "      <th>0</th>\n",
       "      <td>College Football Week 4 Preview: Mesquite-Fire...</td>\n",
       "      <td>How’s everybody recovering from the emotional ...</td>\n",
       "      <td>2015-09-24T09:44:54+00:00</td>\n",
       "      <td>College Football</td>\n",
       "      <td>Anderson</td>\n",
       "    </tr>\n",
       "    <tr>\n",
       "      <th>1</th>\n",
       "      <td>College Football Week 8 Wrap: A Giddy, Gloriou...</td>\n",
       "      <td>It’s one thing to have written this warning, o...</td>\n",
       "      <td>2015-10-26T09:44:24+00:00</td>\n",
       "      <td>College Football</td>\n",
       "      <td>Anderson</td>\n",
       "    </tr>\n",
       "    <tr>\n",
       "      <th>2</th>\n",
       "      <td>Are the Golden Bears About to Break Through?</td>\n",
       "      <td>Stefan McClure was having an unusual Saturday....</td>\n",
       "      <td>2015-10-07T12:26:35+00:00</td>\n",
       "      <td>College Football</td>\n",
       "      <td>Anderson</td>\n",
       "    </tr>\n",
       "    <tr>\n",
       "      <th>3</th>\n",
       "      <td>The Scarlet Program: Disarray, Dysfunction, an...</td>\n",
       "      <td>Kevin, Matt, and Mark came to Rutgers to see a...</td>\n",
       "      <td>2015-09-30T10:36:04+00:00</td>\n",
       "      <td>College Football</td>\n",
       "      <td>Anderson</td>\n",
       "    </tr>\n",
       "    <tr>\n",
       "      <th>4</th>\n",
       "      <td>What to Watch: A Guide to College Football’s O...</td>\n",
       "      <td>Brothers and sisters, we made it. We’re out of...</td>\n",
       "      <td>2015-09-03T10:10:47+00:00</td>\n",
       "      <td>College Football</td>\n",
       "      <td>Anderson</td>\n",
       "    </tr>\n",
       "  </tbody>\n",
       "</table>\n",
       "</div>"
      ],
      "text/plain": [
       "                                               title  \\\n",
       "0  College Football Week 4 Preview: Mesquite-Fire...   \n",
       "1  College Football Week 8 Wrap: A Giddy, Gloriou...   \n",
       "2       Are the Golden Bears About to Break Through?   \n",
       "3  The Scarlet Program: Disarray, Dysfunction, an...   \n",
       "4  What to Watch: A Guide to College Football’s O...   \n",
       "\n",
       "                                             article  \\\n",
       "0  How’s everybody recovering from the emotional ...   \n",
       "1  It’s one thing to have written this warning, o...   \n",
       "2  Stefan McClure was having an unusual Saturday....   \n",
       "3  Kevin, Matt, and Mark came to Rutgers to see a...   \n",
       "4  Brothers and sisters, we made it. We’re out of...   \n",
       "\n",
       "                publish_date             topic    author  \n",
       "0  2015-09-24T09:44:54+00:00  College Football  Anderson  \n",
       "1  2015-10-26T09:44:24+00:00  College Football  Anderson  \n",
       "2  2015-10-07T12:26:35+00:00  College Football  Anderson  \n",
       "3  2015-09-30T10:36:04+00:00  College Football  Anderson  \n",
       "4  2015-09-03T10:10:47+00:00  College Football  Anderson  "
      ]
     },
     "execution_count": 14,
     "metadata": {},
     "output_type": "execute_result"
    }
   ],
   "source": [
    "data.head()"
   ]
  },
  {
   "cell_type": "code",
   "execution_count": 15,
   "metadata": {
    "collapsed": false
   },
   "outputs": [
    {
     "name": "stdout",
     "output_type": "stream",
     "text": [
      "<class 'pandas.core.frame.DataFrame'>\n",
      "Int64Index: 200 entries, 0 to 199\n",
      "Data columns (total 5 columns):\n",
      "title           200 non-null object\n",
      "article         200 non-null object\n",
      "publish_date    200 non-null object\n",
      "topic           200 non-null object\n",
      "author          200 non-null object\n",
      "dtypes: object(5)\n",
      "memory usage: 9.4+ KB\n"
     ]
    }
   ],
   "source": [
    "data.info()"
   ]
  },
  {
   "cell_type": "code",
   "execution_count": 16,
   "metadata": {
    "collapsed": true
   },
   "outputs": [],
   "source": [
    "# converts data column to datetime type -> probably unnecesary \n",
    "data['publish_date'] = pd.to_datetime(data['publish_date'])"
   ]
  },
  {
   "cell_type": "code",
   "execution_count": 17,
   "metadata": {
    "collapsed": false
   },
   "outputs": [
    {
     "data": {
      "text/html": [
       "<div>\n",
       "<table border=\"1\" class=\"dataframe\">\n",
       "  <thead>\n",
       "    <tr style=\"text-align: right;\">\n",
       "      <th></th>\n",
       "      <th>title</th>\n",
       "      <th>article</th>\n",
       "      <th>publish_date</th>\n",
       "      <th>topic</th>\n",
       "      <th>author</th>\n",
       "    </tr>\n",
       "  </thead>\n",
       "  <tbody>\n",
       "    <tr>\n",
       "      <th>0</th>\n",
       "      <td>College Football Week 4 Preview: Mesquite-Fire...</td>\n",
       "      <td>How’s everybody recovering from the emotional ...</td>\n",
       "      <td>2015-09-24 09:44:54</td>\n",
       "      <td>College Football</td>\n",
       "      <td>Anderson</td>\n",
       "    </tr>\n",
       "    <tr>\n",
       "      <th>1</th>\n",
       "      <td>College Football Week 8 Wrap: A Giddy, Gloriou...</td>\n",
       "      <td>It’s one thing to have written this warning, o...</td>\n",
       "      <td>2015-10-26 09:44:24</td>\n",
       "      <td>College Football</td>\n",
       "      <td>Anderson</td>\n",
       "    </tr>\n",
       "    <tr>\n",
       "      <th>2</th>\n",
       "      <td>Are the Golden Bears About to Break Through?</td>\n",
       "      <td>Stefan McClure was having an unusual Saturday....</td>\n",
       "      <td>2015-10-07 12:26:35</td>\n",
       "      <td>College Football</td>\n",
       "      <td>Anderson</td>\n",
       "    </tr>\n",
       "    <tr>\n",
       "      <th>3</th>\n",
       "      <td>The Scarlet Program: Disarray, Dysfunction, an...</td>\n",
       "      <td>Kevin, Matt, and Mark came to Rutgers to see a...</td>\n",
       "      <td>2015-09-30 10:36:04</td>\n",
       "      <td>College Football</td>\n",
       "      <td>Anderson</td>\n",
       "    </tr>\n",
       "    <tr>\n",
       "      <th>4</th>\n",
       "      <td>What to Watch: A Guide to College Football’s O...</td>\n",
       "      <td>Brothers and sisters, we made it. We’re out of...</td>\n",
       "      <td>2015-09-03 10:10:47</td>\n",
       "      <td>College Football</td>\n",
       "      <td>Anderson</td>\n",
       "    </tr>\n",
       "    <tr>\n",
       "      <th>5</th>\n",
       "      <td>Deshaun Watson Goes Electric: But Can the Seco...</td>\n",
       "      <td>Clemson’s football team has just wrapped up a ...</td>\n",
       "      <td>2015-08-27 11:49:22</td>\n",
       "      <td>2015 College Football Preview</td>\n",
       "      <td>Anderson</td>\n",
       "    </tr>\n",
       "    <tr>\n",
       "      <th>6</th>\n",
       "      <td>The Malzahn Ripple Effect: More Than Just a Jo...</td>\n",
       "      <td>It’s August, that time of year when our fancy ...</td>\n",
       "      <td>2015-08-21 10:08:04</td>\n",
       "      <td>2015 College Football Preview</td>\n",
       "      <td>Anderson</td>\n",
       "    </tr>\n",
       "    <tr>\n",
       "      <th>7</th>\n",
       "      <td>You Are a Hater Just for Reading This Headline...</td>\n",
       "      <td>“Everybody has great offseasons, right?” asked...</td>\n",
       "      <td>2015-08-18 08:47:11</td>\n",
       "      <td>2015 College Football Preview</td>\n",
       "      <td>Anderson</td>\n",
       "    </tr>\n",
       "    <tr>\n",
       "      <th>8</th>\n",
       "      <td>Big 12 Bombers Reload: TCU and Baylor Face the...</td>\n",
       "      <td>In the waning days of spring football practice...</td>\n",
       "      <td>2015-05-18 14:11:44</td>\n",
       "      <td>College Football</td>\n",
       "      <td>Anderson</td>\n",
       "    </tr>\n",
       "    <tr>\n",
       "      <th>9</th>\n",
       "      <td>Snakes on the Plains: The Strange, Surprisingl...</td>\n",
       "      <td>The late morning is thick with humidity; this ...</td>\n",
       "      <td>2015-04-27 08:36:29</td>\n",
       "      <td>The Great Outdoors</td>\n",
       "      <td>Anderson</td>\n",
       "    </tr>\n",
       "    <tr>\n",
       "      <th>10</th>\n",
       "      <td>College Football Preview, Week 8: Between the ...</td>\n",
       "      <td>Week 8 finds the college football season at it...</td>\n",
       "      <td>2015-10-22 08:35:40</td>\n",
       "      <td>College Football</td>\n",
       "      <td>Anderson</td>\n",
       "    </tr>\n",
       "    <tr>\n",
       "      <th>11</th>\n",
       "      <td>College Football Preview, Week 7: That’s a Goo...</td>\n",
       "      <td>This is one of those weird weeks where we’re p...</td>\n",
       "      <td>2015-10-15 08:18:52</td>\n",
       "      <td>College Football</td>\n",
       "      <td>Anderson</td>\n",
       "    </tr>\n",
       "    <tr>\n",
       "      <th>12</th>\n",
       "      <td>College Football Week 5 Preview: Welcome to Oc...</td>\n",
       "      <td>The great news is, if you’re reading this, you...</td>\n",
       "      <td>2015-10-01 10:05:24</td>\n",
       "      <td>College Football</td>\n",
       "      <td>Anderson</td>\n",
       "    </tr>\n",
       "    <tr>\n",
       "      <th>13</th>\n",
       "      <td>State of the Bluegrass: When Will Kentucky Foo...</td>\n",
       "      <td>The heat has broken in Lexington; the humidity...</td>\n",
       "      <td>2015-09-25 09:38:45</td>\n",
       "      <td>College Football</td>\n",
       "      <td>Anderson</td>\n",
       "    </tr>\n",
       "    <tr>\n",
       "      <th>14</th>\n",
       "      <td>College Football Week 3 Wrap: 10 Takeaways Fro...</td>\n",
       "      <td>First, a formal apology for the recommendation...</td>\n",
       "      <td>2015-09-21 09:27:35</td>\n",
       "      <td>College Football</td>\n",
       "      <td>Anderson</td>\n",
       "    </tr>\n",
       "    <tr>\n",
       "      <th>15</th>\n",
       "      <td>Volunteer Work: Tennessee Football and the Dev...</td>\n",
       "      <td>No. 19 Oklahoma 31, no. 23 Tennessee 24. Seems...</td>\n",
       "      <td>2015-09-16 13:35:22</td>\n",
       "      <td>College Football</td>\n",
       "      <td>Anderson</td>\n",
       "    </tr>\n",
       "    <tr>\n",
       "      <th>16</th>\n",
       "      <td>College Football Week 2 Preview: Angry Ducks, ...</td>\n",
       "      <td>Wasn’t that fun? Nice little opening week, wit...</td>\n",
       "      <td>2015-09-10 10:42:47</td>\n",
       "      <td>College Football</td>\n",
       "      <td>Anderson</td>\n",
       "    </tr>\n",
       "    <tr>\n",
       "      <th>17</th>\n",
       "      <td>Here There Be Dragons: The Return of UAB Football</td>\n",
       "      <td>There’s a digital clock on the wall on the lef...</td>\n",
       "      <td>2015-09-09 09:11:58</td>\n",
       "      <td>College Football</td>\n",
       "      <td>Anderson</td>\n",
       "    </tr>\n",
       "    <tr>\n",
       "      <th>18</th>\n",
       "      <td>What to Watch: A Guide to College Football’s O...</td>\n",
       "      <td>Brothers and sisters, we made it. We’re out of...</td>\n",
       "      <td>2015-09-03 10:10:47</td>\n",
       "      <td>College Football</td>\n",
       "      <td>Anderson</td>\n",
       "    </tr>\n",
       "    <tr>\n",
       "      <th>19</th>\n",
       "      <td>Adopt a 2015 College Football Team: Because Ev...</td>\n",
       "      <td>With the countdown to the 2015 college footbal...</td>\n",
       "      <td>2015-09-01 08:50:33</td>\n",
       "      <td>2015 College Football Preview</td>\n",
       "      <td>Anderson</td>\n",
       "    </tr>\n",
       "    <tr>\n",
       "      <th>20</th>\n",
       "      <td>The Sun Is Rising in Buffalo</td>\n",
       "      <td>Jack Eichel is a teenager, and he will remain ...</td>\n",
       "      <td>2015-10-14 15:08:24</td>\n",
       "      <td>NHL</td>\n",
       "      <td>Baker</td>\n",
       "    </tr>\n",
       "    <tr>\n",
       "      <th>21</th>\n",
       "      <td>Odell Beckham Jr., Ryan Tannehill, and What Ha...</td>\n",
       "      <td>Of all the judgments levied against Giants wid...</td>\n",
       "      <td>2015-10-09 13:33:04</td>\n",
       "      <td>NFL</td>\n",
       "      <td>Baker</td>\n",
       "    </tr>\n",
       "    <tr>\n",
       "      <th>22</th>\n",
       "      <td>The Patrick Kane Situation Takes a Dark Turn i...</td>\n",
       "      <td>UPDATE: Late Thursday evening, Attorney Thomas...</td>\n",
       "      <td>2015-09-24 15:41:23</td>\n",
       "      <td>NHL</td>\n",
       "      <td>Baker</td>\n",
       "    </tr>\n",
       "    <tr>\n",
       "      <th>23</th>\n",
       "      <td>Celebrating the Holy Marriage of Hockey and Do...</td>\n",
       "      <td>If you’re wondering why there are two off days...</td>\n",
       "      <td>2015-06-05 15:45:50</td>\n",
       "      <td>NHL</td>\n",
       "      <td>Baker</td>\n",
       "    </tr>\n",
       "    <tr>\n",
       "      <th>24</th>\n",
       "      <td>Pierre le Fou: The Giants, Jason Pierre-Paul, ...</td>\n",
       "      <td>Sunday night’s Giants-Cowboys game was riddled...</td>\n",
       "      <td>2015-09-15 09:02:37</td>\n",
       "      <td>NFL</td>\n",
       "      <td>Baker</td>\n",
       "    </tr>\n",
       "    <tr>\n",
       "      <th>25</th>\n",
       "      <td>Urban Renewal: The Return of David Wright</td>\n",
       "      <td>Recently the food and restaurant website Eater...</td>\n",
       "      <td>2015-08-26 12:18:30</td>\n",
       "      <td>MLB</td>\n",
       "      <td>Baker</td>\n",
       "    </tr>\n",
       "    <tr>\n",
       "      <th>26</th>\n",
       "      <td>Say Good Night to the Bad Guys: An Appreciatio...</td>\n",
       "      <td>Imagine if sports fans ever turned our judgmen...</td>\n",
       "      <td>2015-08-06 09:44:27</td>\n",
       "      <td>D-Bags</td>\n",
       "      <td>Baker</td>\n",
       "    </tr>\n",
       "    <tr>\n",
       "      <th>27</th>\n",
       "      <td>Praise the Lloyd: Carli and Team USA Put on a ...</td>\n",
       "      <td>We were barely a sixth of the way through the ...</td>\n",
       "      <td>2015-07-06 14:51:12</td>\n",
       "      <td>Soccer</td>\n",
       "      <td>Baker</td>\n",
       "    </tr>\n",
       "    <tr>\n",
       "      <th>28</th>\n",
       "      <td>2-0: The U.S. Women Exorcise Their World Cup D...</td>\n",
       "      <td>If you’re in the market for discarded chairs a...</td>\n",
       "      <td>2015-07-01 12:37:19</td>\n",
       "      <td>2015 Women's World Cup</td>\n",
       "      <td>Baker</td>\n",
       "    </tr>\n",
       "    <tr>\n",
       "      <th>29</th>\n",
       "      <td>We Went There: The Darkness of Defeat in the T...</td>\n",
       "      <td>Whether it’s a college roommate’s stereo or th...</td>\n",
       "      <td>2015-06-16 11:27:44</td>\n",
       "      <td>NHL</td>\n",
       "      <td>Baker</td>\n",
       "    </tr>\n",
       "    <tr>\n",
       "      <th>...</th>\n",
       "      <td>...</td>\n",
       "      <td>...</td>\n",
       "      <td>...</td>\n",
       "      <td>...</td>\n",
       "      <td>...</td>\n",
       "    </tr>\n",
       "    <tr>\n",
       "      <th>170</th>\n",
       "      <td>Dear Scott Skiles: Please Just Put Mario Hezon...</td>\n",
       "      <td>There are a lot of questions that will be answ...</td>\n",
       "      <td>2015-10-20 12:51:16</td>\n",
       "      <td>2015 NBA Preview</td>\n",
       "      <td>Sharp</td>\n",
       "    </tr>\n",
       "    <tr>\n",
       "      <th>171</th>\n",
       "      <td>It’s Otto Porter Season in Washington, D.C.</td>\n",
       "      <td>As a Wizards fan, even I have to admit that th...</td>\n",
       "      <td>2015-10-13 12:20:07</td>\n",
       "      <td>2015 NBA Preview</td>\n",
       "      <td>Sharp</td>\n",
       "    </tr>\n",
       "    <tr>\n",
       "      <th>172</th>\n",
       "      <td>We Need to Talk About Marcus Camby</td>\n",
       "      <td>Earlier this week, someone tried to tell me th...</td>\n",
       "      <td>2015-09-25 13:59:51</td>\n",
       "      <td>NBA</td>\n",
       "      <td>Sharp</td>\n",
       "    </tr>\n",
       "    <tr>\n",
       "      <th>173</th>\n",
       "      <td>Kam Chancellor, the Unstoppable Force vs. the ...</td>\n",
       "      <td>It’s hard to name many football players who ha...</td>\n",
       "      <td>2015-09-08 13:41:22</td>\n",
       "      <td>2015 NFL Preview</td>\n",
       "      <td>Sharp</td>\n",
       "    </tr>\n",
       "    <tr>\n",
       "      <th>174</th>\n",
       "      <td>Welcome to Football’s Pro Wrestling Era</td>\n",
       "      <td>Thursday night. Foxborough. Brady. Belichick. ...</td>\n",
       "      <td>2015-09-10 11:56:50</td>\n",
       "      <td>NFL</td>\n",
       "      <td>Sharp</td>\n",
       "    </tr>\n",
       "    <tr>\n",
       "      <th>175</th>\n",
       "      <td>Who Are the Most Interesting Quarterbacks in t...</td>\n",
       "      <td>We know what we’re getting with most of the qu...</td>\n",
       "      <td>2015-08-27 12:43:00</td>\n",
       "      <td>2015 NFL Preview</td>\n",
       "      <td>Sharp</td>\n",
       "    </tr>\n",
       "    <tr>\n",
       "      <th>176</th>\n",
       "      <td>Draymond Green and Hassan Whiteside Are Here t...</td>\n",
       "      <td>Here is a very quick update from the NBA world...</td>\n",
       "      <td>2015-08-26 15:39:30</td>\n",
       "      <td>NBA</td>\n",
       "      <td>Sharp</td>\n",
       "    </tr>\n",
       "    <tr>\n",
       "      <th>177</th>\n",
       "      <td>RG3 and the Dumbest Team in Football</td>\n",
       "      <td>I don’t know if I’ve ever seen a head coach be...</td>\n",
       "      <td>2015-08-21 12:15:25</td>\n",
       "      <td>NFL</td>\n",
       "      <td>Sharp</td>\n",
       "    </tr>\n",
       "    <tr>\n",
       "      <th>178</th>\n",
       "      <td>The Bucks, the Federal Government, and a Billi...</td>\n",
       "      <td>Public financing for stadiums is having a bit ...</td>\n",
       "      <td>2015-08-19 10:29:35</td>\n",
       "      <td>NBA</td>\n",
       "      <td>Sharp</td>\n",
       "    </tr>\n",
       "    <tr>\n",
       "      <th>179</th>\n",
       "      <td>Who’s That Guy? The Colts’ Duron Carter, the M...</td>\n",
       "      <td>The most intriguing rookie in the NFL might be...</td>\n",
       "      <td>2015-08-12 12:32:40</td>\n",
       "      <td>NFL</td>\n",
       "      <td>Sharp</td>\n",
       "    </tr>\n",
       "    <tr>\n",
       "      <th>180</th>\n",
       "      <td>Sorry You’re Working Today: NFL Wild-Card Week...</td>\n",
       "      <td>New Year’s Day is my own personal Groundhog Da...</td>\n",
       "      <td>2015-01-02 16:48:11</td>\n",
       "      <td>2015 NFL Playoffs</td>\n",
       "      <td>Simmons</td>\n",
       "    </tr>\n",
       "    <tr>\n",
       "      <th>181</th>\n",
       "      <td>The Tale of Two Flaccos</td>\n",
       "      <td>Hey Simmons, I got you a belated Christmas/Hap...</td>\n",
       "      <td>2015-01-09 09:34:58</td>\n",
       "      <td>2015 NFL Playoffs</td>\n",
       "      <td>Simmons</td>\n",
       "    </tr>\n",
       "    <tr>\n",
       "      <th>182</th>\n",
       "      <td>The Divisional Mailbag</td>\n",
       "      <td>If you missed my Friday-morning piece about Jo...</td>\n",
       "      <td>2015-01-09 16:11:33</td>\n",
       "      <td>2015 NFL Playoffs</td>\n",
       "      <td>Simmons</td>\n",
       "    </tr>\n",
       "    <tr>\n",
       "      <th>183</th>\n",
       "      <td>That Championship Mailbag: 2015 Edition</td>\n",
       "      <td>If you missed my Friday piece about the Brady-...</td>\n",
       "      <td>2015-01-16 16:52:48</td>\n",
       "      <td>2015 NFL Playoffs</td>\n",
       "      <td>Simmons</td>\n",
       "    </tr>\n",
       "    <tr>\n",
       "      <th>184</th>\n",
       "      <td>NBA Bag: 10 Steps to Tanking Perfection</td>\n",
       "      <td>Editor’s note: Every Wednesday from now until...</td>\n",
       "      <td>2014-03-05 14:24:28</td>\n",
       "      <td>NBA</td>\n",
       "      <td>Simmons</td>\n",
       "    </tr>\n",
       "    <tr>\n",
       "      <th>185</th>\n",
       "      <td>Welcome to the Super Bag</td>\n",
       "      <td>You know what really sucks? This is an especia...</td>\n",
       "      <td>2015-01-30 16:15:41</td>\n",
       "      <td>2015 NFL Playoffs</td>\n",
       "      <td>Simmons</td>\n",
       "    </tr>\n",
       "    <tr>\n",
       "      <th>186</th>\n",
       "      <td>Retro Running Diary: Super Bowl XLIX</td>\n",
       "      <td>Super Bowl XLIX was like the last episode of T...</td>\n",
       "      <td>2015-02-04 13:30:01</td>\n",
       "      <td>New England Patriots</td>\n",
       "      <td>Simmons</td>\n",
       "    </tr>\n",
       "    <tr>\n",
       "      <th>187</th>\n",
       "      <td>The NBA’s Furious 17: Capturing the Noncontend...</td>\n",
       "      <td>The NBA’s final regular-season week usually re...</td>\n",
       "      <td>2015-04-10 15:21:33</td>\n",
       "      <td>NBA</td>\n",
       "      <td>Simmons</td>\n",
       "    </tr>\n",
       "    <tr>\n",
       "      <th>188</th>\n",
       "      <td>The Saturday Decision</td>\n",
       "      <td>During Eddie Murphy’s first SNL season, Joe Pi...</td>\n",
       "      <td>2015-05-01 16:27:23</td>\n",
       "      <td>2015 NBA Playoffs</td>\n",
       "      <td>Simmons</td>\n",
       "    </tr>\n",
       "    <tr>\n",
       "      <th>189</th>\n",
       "      <td>The Tim Duncan Question</td>\n",
       "      <td>When my father retired as a school superintend...</td>\n",
       "      <td>2015-05-05 12:10:43</td>\n",
       "      <td>2015 NBA Playoffs</td>\n",
       "      <td>Simmons</td>\n",
       "    </tr>\n",
       "    <tr>\n",
       "      <th>190</th>\n",
       "      <td>The Mailbag Reunion Tour Continues</td>\n",
       "      <td>Before we tackle a few mailbag questions, I ne...</td>\n",
       "      <td>2015-04-24 13:42:57</td>\n",
       "      <td>2015 NBA Playoffs</td>\n",
       "      <td>Simmons</td>\n",
       "    </tr>\n",
       "    <tr>\n",
       "      <th>191</th>\n",
       "      <td>This Is the End: Time for the Week 17 Picks</td>\n",
       "      <td>I want to find you the perfect Super Bowl bet....</td>\n",
       "      <td>2014-12-24 13:32:52</td>\n",
       "      <td>NFL</td>\n",
       "      <td>Simmons</td>\n",
       "    </tr>\n",
       "    <tr>\n",
       "      <th>192</th>\n",
       "      <td>NBA Bag: 10 Steps to Tanking Perfection</td>\n",
       "      <td>Editor’s note: Every Wednesday from now until...</td>\n",
       "      <td>2014-03-05 14:24:28</td>\n",
       "      <td>NBA</td>\n",
       "      <td>Simmons</td>\n",
       "    </tr>\n",
       "    <tr>\n",
       "      <th>193</th>\n",
       "      <td>Are Manning and Brady Cheating? How Rule Chang...</td>\n",
       "      <td>Did you enjoy the misleading headline we came ...</td>\n",
       "      <td>2014-10-31 17:48:55</td>\n",
       "      <td>NFL</td>\n",
       "      <td>Simmons</td>\n",
       "    </tr>\n",
       "    <tr>\n",
       "      <th>194</th>\n",
       "      <td>2014 NFL Gambling Guide</td>\n",
       "      <td>Football, football, football, football! FOOTBA...</td>\n",
       "      <td>2014-09-05 12:00:50</td>\n",
       "      <td>NFL</td>\n",
       "      <td>Simmons</td>\n",
       "    </tr>\n",
       "    <tr>\n",
       "      <th>195</th>\n",
       "      <td>Simmons on the Road: It’s All on LeBron</td>\n",
       "      <td>Greetings from Indiana, the home of Larry Lege...</td>\n",
       "      <td>2014-05-19 21:07:42</td>\n",
       "      <td>NBA</td>\n",
       "      <td>Simmons</td>\n",
       "    </tr>\n",
       "    <tr>\n",
       "      <th>196</th>\n",
       "      <td>The NBA Draft Lottery Karma Rankings</td>\n",
       "      <td>Here are your odds for tonight’s NBA draft lot...</td>\n",
       "      <td>2014-05-20 14:55:21</td>\n",
       "      <td>NBA</td>\n",
       "      <td>Simmons</td>\n",
       "    </tr>\n",
       "    <tr>\n",
       "      <th>197</th>\n",
       "      <td>The ‘Would You Trade Wiggins for Love?’ Shoota...</td>\n",
       "      <td>Bill Simmons: With my beloved Celtics stuck in...</td>\n",
       "      <td>2014-07-17 12:05:09</td>\n",
       "      <td>NBA</td>\n",
       "      <td>Simmons</td>\n",
       "    </tr>\n",
       "    <tr>\n",
       "      <th>198</th>\n",
       "      <td>The Week of NFL Reckoning</td>\n",
       "      <td>It’s Week 11! I love Week 11! Here’s what happ...</td>\n",
       "      <td>2014-11-14 16:47:37</td>\n",
       "      <td>NFL</td>\n",
       "      <td>Simmons</td>\n",
       "    </tr>\n",
       "    <tr>\n",
       "      <th>199</th>\n",
       "      <td>Finding the Cleveland Misery Tipping Point</td>\n",
       "      <td>Every time I mention in my football column tha...</td>\n",
       "      <td>2014-12-19 15:43:03</td>\n",
       "      <td>NFL</td>\n",
       "      <td>Simmons</td>\n",
       "    </tr>\n",
       "  </tbody>\n",
       "</table>\n",
       "<p>200 rows × 5 columns</p>\n",
       "</div>"
      ],
      "text/plain": [
       "                                                 title  \\\n",
       "0    College Football Week 4 Preview: Mesquite-Fire...   \n",
       "1    College Football Week 8 Wrap: A Giddy, Gloriou...   \n",
       "2         Are the Golden Bears About to Break Through?   \n",
       "3    The Scarlet Program: Disarray, Dysfunction, an...   \n",
       "4    What to Watch: A Guide to College Football’s O...   \n",
       "5    Deshaun Watson Goes Electric: But Can the Seco...   \n",
       "6    The Malzahn Ripple Effect: More Than Just a Jo...   \n",
       "7    You Are a Hater Just for Reading This Headline...   \n",
       "8    Big 12 Bombers Reload: TCU and Baylor Face the...   \n",
       "9    Snakes on the Plains: The Strange, Surprisingl...   \n",
       "10   College Football Preview, Week 8: Between the ...   \n",
       "11   College Football Preview, Week 7: That’s a Goo...   \n",
       "12   College Football Week 5 Preview: Welcome to Oc...   \n",
       "13   State of the Bluegrass: When Will Kentucky Foo...   \n",
       "14   College Football Week 3 Wrap: 10 Takeaways Fro...   \n",
       "15   Volunteer Work: Tennessee Football and the Dev...   \n",
       "16   College Football Week 2 Preview: Angry Ducks, ...   \n",
       "17   Here There Be Dragons: The Return of UAB Football   \n",
       "18   What to Watch: A Guide to College Football’s O...   \n",
       "19   Adopt a 2015 College Football Team: Because Ev...   \n",
       "20                        The Sun Is Rising in Buffalo   \n",
       "21   Odell Beckham Jr., Ryan Tannehill, and What Ha...   \n",
       "22   The Patrick Kane Situation Takes a Dark Turn i...   \n",
       "23   Celebrating the Holy Marriage of Hockey and Do...   \n",
       "24   Pierre le Fou: The Giants, Jason Pierre-Paul, ...   \n",
       "25           Urban Renewal: The Return of David Wright   \n",
       "26   Say Good Night to the Bad Guys: An Appreciatio...   \n",
       "27   Praise the Lloyd: Carli and Team USA Put on a ...   \n",
       "28   2-0: The U.S. Women Exorcise Their World Cup D...   \n",
       "29   We Went There: The Darkness of Defeat in the T...   \n",
       "..                                                 ...   \n",
       "170  Dear Scott Skiles: Please Just Put Mario Hezon...   \n",
       "171        It’s Otto Porter Season in Washington, D.C.   \n",
       "172                 We Need to Talk About Marcus Camby   \n",
       "173  Kam Chancellor, the Unstoppable Force vs. the ...   \n",
       "174            Welcome to Football’s Pro Wrestling Era   \n",
       "175  Who Are the Most Interesting Quarterbacks in t...   \n",
       "176  Draymond Green and Hassan Whiteside Are Here t...   \n",
       "177               RG3 and the Dumbest Team in Football   \n",
       "178  The Bucks, the Federal Government, and a Billi...   \n",
       "179  Who’s That Guy? The Colts’ Duron Carter, the M...   \n",
       "180  Sorry You’re Working Today: NFL Wild-Card Week...   \n",
       "181                            The Tale of Two Flaccos   \n",
       "182                             The Divisional Mailbag   \n",
       "183            That Championship Mailbag: 2015 Edition   \n",
       "184            NBA Bag: 10 Steps to Tanking Perfection   \n",
       "185                           Welcome to the Super Bag   \n",
       "186               Retro Running Diary: Super Bowl XLIX   \n",
       "187  The NBA’s Furious 17: Capturing the Noncontend...   \n",
       "188                              The Saturday Decision   \n",
       "189                            The Tim Duncan Question   \n",
       "190                 The Mailbag Reunion Tour Continues   \n",
       "191        This Is the End: Time for the Week 17 Picks   \n",
       "192            NBA Bag: 10 Steps to Tanking Perfection   \n",
       "193  Are Manning and Brady Cheating? How Rule Chang...   \n",
       "194                            2014 NFL Gambling Guide   \n",
       "195            Simmons on the Road: It’s All on LeBron   \n",
       "196               The NBA Draft Lottery Karma Rankings   \n",
       "197  The ‘Would You Trade Wiggins for Love?’ Shoota...   \n",
       "198                          The Week of NFL Reckoning   \n",
       "199         Finding the Cleveland Misery Tipping Point   \n",
       "\n",
       "                                               article        publish_date  \\\n",
       "0    How’s everybody recovering from the emotional ... 2015-09-24 09:44:54   \n",
       "1    It’s one thing to have written this warning, o... 2015-10-26 09:44:24   \n",
       "2    Stefan McClure was having an unusual Saturday.... 2015-10-07 12:26:35   \n",
       "3    Kevin, Matt, and Mark came to Rutgers to see a... 2015-09-30 10:36:04   \n",
       "4    Brothers and sisters, we made it. We’re out of... 2015-09-03 10:10:47   \n",
       "5    Clemson’s football team has just wrapped up a ... 2015-08-27 11:49:22   \n",
       "6    It’s August, that time of year when our fancy ... 2015-08-21 10:08:04   \n",
       "7    “Everybody has great offseasons, right?” asked... 2015-08-18 08:47:11   \n",
       "8    In the waning days of spring football practice... 2015-05-18 14:11:44   \n",
       "9    The late morning is thick with humidity; this ... 2015-04-27 08:36:29   \n",
       "10   Week 8 finds the college football season at it... 2015-10-22 08:35:40   \n",
       "11   This is one of those weird weeks where we’re p... 2015-10-15 08:18:52   \n",
       "12   The great news is, if you’re reading this, you... 2015-10-01 10:05:24   \n",
       "13   The heat has broken in Lexington; the humidity... 2015-09-25 09:38:45   \n",
       "14   First, a formal apology for the recommendation... 2015-09-21 09:27:35   \n",
       "15   No. 19 Oklahoma 31, no. 23 Tennessee 24. Seems... 2015-09-16 13:35:22   \n",
       "16   Wasn’t that fun? Nice little opening week, wit... 2015-09-10 10:42:47   \n",
       "17   There’s a digital clock on the wall on the lef... 2015-09-09 09:11:58   \n",
       "18   Brothers and sisters, we made it. We’re out of... 2015-09-03 10:10:47   \n",
       "19   With the countdown to the 2015 college footbal... 2015-09-01 08:50:33   \n",
       "20   Jack Eichel is a teenager, and he will remain ... 2015-10-14 15:08:24   \n",
       "21   Of all the judgments levied against Giants wid... 2015-10-09 13:33:04   \n",
       "22   UPDATE: Late Thursday evening, Attorney Thomas... 2015-09-24 15:41:23   \n",
       "23   If you’re wondering why there are two off days... 2015-06-05 15:45:50   \n",
       "24   Sunday night’s Giants-Cowboys game was riddled... 2015-09-15 09:02:37   \n",
       "25   Recently the food and restaurant website Eater... 2015-08-26 12:18:30   \n",
       "26   Imagine if sports fans ever turned our judgmen... 2015-08-06 09:44:27   \n",
       "27   We were barely a sixth of the way through the ... 2015-07-06 14:51:12   \n",
       "28   If you’re in the market for discarded chairs a... 2015-07-01 12:37:19   \n",
       "29   Whether it’s a college roommate’s stereo or th... 2015-06-16 11:27:44   \n",
       "..                                                 ...                 ...   \n",
       "170  There are a lot of questions that will be answ... 2015-10-20 12:51:16   \n",
       "171  As a Wizards fan, even I have to admit that th... 2015-10-13 12:20:07   \n",
       "172  Earlier this week, someone tried to tell me th... 2015-09-25 13:59:51   \n",
       "173  It’s hard to name many football players who ha... 2015-09-08 13:41:22   \n",
       "174  Thursday night. Foxborough. Brady. Belichick. ... 2015-09-10 11:56:50   \n",
       "175  We know what we’re getting with most of the qu... 2015-08-27 12:43:00   \n",
       "176  Here is a very quick update from the NBA world... 2015-08-26 15:39:30   \n",
       "177  I don’t know if I’ve ever seen a head coach be... 2015-08-21 12:15:25   \n",
       "178  Public financing for stadiums is having a bit ... 2015-08-19 10:29:35   \n",
       "179  The most intriguing rookie in the NFL might be... 2015-08-12 12:32:40   \n",
       "180  New Year’s Day is my own personal Groundhog Da... 2015-01-02 16:48:11   \n",
       "181  Hey Simmons, I got you a belated Christmas/Hap... 2015-01-09 09:34:58   \n",
       "182  If you missed my Friday-morning piece about Jo... 2015-01-09 16:11:33   \n",
       "183  If you missed my Friday piece about the Brady-... 2015-01-16 16:52:48   \n",
       "184   Editor’s note: Every Wednesday from now until... 2014-03-05 14:24:28   \n",
       "185  You know what really sucks? This is an especia... 2015-01-30 16:15:41   \n",
       "186  Super Bowl XLIX was like the last episode of T... 2015-02-04 13:30:01   \n",
       "187  The NBA’s final regular-season week usually re... 2015-04-10 15:21:33   \n",
       "188  During Eddie Murphy’s first SNL season, Joe Pi... 2015-05-01 16:27:23   \n",
       "189  When my father retired as a school superintend... 2015-05-05 12:10:43   \n",
       "190  Before we tackle a few mailbag questions, I ne... 2015-04-24 13:42:57   \n",
       "191  I want to find you the perfect Super Bowl bet.... 2014-12-24 13:32:52   \n",
       "192   Editor’s note: Every Wednesday from now until... 2014-03-05 14:24:28   \n",
       "193  Did you enjoy the misleading headline we came ... 2014-10-31 17:48:55   \n",
       "194  Football, football, football, football! FOOTBA... 2014-09-05 12:00:50   \n",
       "195  Greetings from Indiana, the home of Larry Lege... 2014-05-19 21:07:42   \n",
       "196  Here are your odds for tonight’s NBA draft lot... 2014-05-20 14:55:21   \n",
       "197  Bill Simmons: With my beloved Celtics stuck in... 2014-07-17 12:05:09   \n",
       "198  It’s Week 11! I love Week 11! Here’s what happ... 2014-11-14 16:47:37   \n",
       "199  Every time I mention in my football column tha... 2014-12-19 15:43:03   \n",
       "\n",
       "                             topic    author  \n",
       "0                 College Football  Anderson  \n",
       "1                 College Football  Anderson  \n",
       "2                 College Football  Anderson  \n",
       "3                 College Football  Anderson  \n",
       "4                 College Football  Anderson  \n",
       "5    2015 College Football Preview  Anderson  \n",
       "6    2015 College Football Preview  Anderson  \n",
       "7    2015 College Football Preview  Anderson  \n",
       "8                 College Football  Anderson  \n",
       "9               The Great Outdoors  Anderson  \n",
       "10                College Football  Anderson  \n",
       "11                College Football  Anderson  \n",
       "12                College Football  Anderson  \n",
       "13                College Football  Anderson  \n",
       "14                College Football  Anderson  \n",
       "15                College Football  Anderson  \n",
       "16                College Football  Anderson  \n",
       "17                College Football  Anderson  \n",
       "18                College Football  Anderson  \n",
       "19   2015 College Football Preview  Anderson  \n",
       "20                             NHL     Baker  \n",
       "21                             NFL     Baker  \n",
       "22                             NHL     Baker  \n",
       "23                             NHL     Baker  \n",
       "24                             NFL     Baker  \n",
       "25                             MLB     Baker  \n",
       "26                          D-Bags     Baker  \n",
       "27                          Soccer     Baker  \n",
       "28          2015 Women's World Cup     Baker  \n",
       "29                             NHL     Baker  \n",
       "..                             ...       ...  \n",
       "170               2015 NBA Preview     Sharp  \n",
       "171               2015 NBA Preview     Sharp  \n",
       "172                            NBA     Sharp  \n",
       "173               2015 NFL Preview     Sharp  \n",
       "174                            NFL     Sharp  \n",
       "175               2015 NFL Preview     Sharp  \n",
       "176                            NBA     Sharp  \n",
       "177                            NFL     Sharp  \n",
       "178                            NBA     Sharp  \n",
       "179                            NFL     Sharp  \n",
       "180              2015 NFL Playoffs   Simmons  \n",
       "181              2015 NFL Playoffs   Simmons  \n",
       "182              2015 NFL Playoffs   Simmons  \n",
       "183              2015 NFL Playoffs   Simmons  \n",
       "184                            NBA   Simmons  \n",
       "185              2015 NFL Playoffs   Simmons  \n",
       "186           New England Patriots   Simmons  \n",
       "187                            NBA   Simmons  \n",
       "188              2015 NBA Playoffs   Simmons  \n",
       "189              2015 NBA Playoffs   Simmons  \n",
       "190              2015 NBA Playoffs   Simmons  \n",
       "191                            NFL   Simmons  \n",
       "192                            NBA   Simmons  \n",
       "193                            NFL   Simmons  \n",
       "194                            NFL   Simmons  \n",
       "195                            NBA   Simmons  \n",
       "196                            NBA   Simmons  \n",
       "197                            NBA   Simmons  \n",
       "198                            NFL   Simmons  \n",
       "199                            NFL   Simmons  \n",
       "\n",
       "[200 rows x 5 columns]"
      ]
     },
     "execution_count": 17,
     "metadata": {},
     "output_type": "execute_result"
    }
   ],
   "source": [
    "data"
   ]
  },
  {
   "cell_type": "code",
   "execution_count": 46,
   "metadata": {
    "collapsed": true
   },
   "outputs": [],
   "source": [
    "# these are the two columns that we really need\n",
    "articles = list(data['article'])\n",
    "authors = list(data['author'])\n",
    "topics = list(data['topic'])"
   ]
  },
  {
   "cell_type": "code",
   "execution_count": 19,
   "metadata": {
    "collapsed": true
   },
   "outputs": [],
   "source": [
    "from sklearn.model_selection import train_test_split"
   ]
  },
  {
   "cell_type": "code",
   "execution_count": 20,
   "metadata": {
    "collapsed": true
   },
   "outputs": [],
   "source": [
    "articles_train, articles_test, authors_train, authors_test = train_test_split(\n",
    "    articles, authors, test_size=0.3, random_state=42, stratify=authors)"
   ]
  },
  {
   "cell_type": "code",
   "execution_count": 21,
   "metadata": {
    "collapsed": false
   },
   "outputs": [
    {
     "data": {
      "text/plain": [
       "Lowe          6\n",
       "Simmons       6\n",
       "Browne        6\n",
       "Sharp         6\n",
       "Baker         6\n",
       "Barnwell      6\n",
       "Goldsberry    6\n",
       "Mays          6\n",
       "Serrano       6\n",
       "Anderson      6\n",
       "Name: 0, dtype: int64"
      ]
     },
     "execution_count": 21,
     "metadata": {},
     "output_type": "execute_result"
    }
   ],
   "source": [
    "pd.DataFrame(authors_test)[0].value_counts()"
   ]
  },
  {
   "cell_type": "code",
   "execution_count": 22,
   "metadata": {
    "collapsed": true
   },
   "outputs": [],
   "source": [
    "from sklearn.feature_extraction.text import CountVectorizer"
   ]
  },
  {
   "cell_type": "code",
   "execution_count": 23,
   "metadata": {
    "collapsed": true
   },
   "outputs": [],
   "source": [
    "# convert the text to a bag of words vector\n",
    "vectorizer = CountVectorizer()\n",
    "\n",
    "# teaching the vectorizer which tokens to vectorize on\n",
    "vectorizer.fit(articles_train)\n",
    "\n",
    "# vectorizing the speeches\n",
    "train_features = vectorizer.transform(articles_train)"
   ]
  },
  {
   "cell_type": "code",
   "execution_count": 24,
   "metadata": {
    "collapsed": true
   },
   "outputs": [],
   "source": [
    "from sklearn.naive_bayes import MultinomialNB"
   ]
  },
  {
   "cell_type": "code",
   "execution_count": 25,
   "metadata": {
    "collapsed": false
   },
   "outputs": [
    {
     "data": {
      "text/plain": [
       "MultinomialNB(alpha=1.0, class_prior=None, fit_prior=True)"
      ]
     },
     "execution_count": 25,
     "metadata": {},
     "output_type": "execute_result"
    }
   ],
   "source": [
    "# create and train classifier\n",
    "clf = MultinomialNB()\n",
    "clf.fit(train_features.toarray(), authors_train)"
   ]
  },
  {
   "cell_type": "code",
   "execution_count": 26,
   "metadata": {
    "collapsed": false
   },
   "outputs": [
    {
     "data": {
      "text/plain": [
       "0.68333333333333335"
      ]
     },
     "execution_count": 26,
     "metadata": {},
     "output_type": "execute_result"
    }
   ],
   "source": [
    "# score classifier against test data\n",
    "test_features = vectorizer.transform(articles_test)\n",
    "clf.score(test_features, authors_test)"
   ]
  },
  {
   "cell_type": "code",
   "execution_count": 27,
   "metadata": {
    "collapsed": true
   },
   "outputs": [],
   "source": [
    "# make use of stemming -> reducing words to their roots\n",
    "stemmer = PorterStemmer()\n",
    "\n",
    "def tokenize_and_stem(text):\n",
    "    tokens = nltk.tokenize.word_tokenize(text)\n",
    "    \n",
    "    # strip out punctuation and make lowercase\n",
    "    tokens = [token.lower().strip(string.punctuation)\n",
    "             for token in tokens if token.isalnum()]\n",
    "    \n",
    "    # now stem the tokens\n",
    "    tokens = [stemmer.stem(token) for token in tokens]\n",
    "    \n",
    "    return tokens"
   ]
  },
  {
   "cell_type": "code",
   "execution_count": 28,
   "metadata": {
    "collapsed": true
   },
   "outputs": [],
   "source": [
    "# allows passing of tokenizer argument\n",
    "vectorizer2 = CountVectorizer(tokenizer=tokenize_and_stem)"
   ]
  },
  {
   "cell_type": "code",
   "execution_count": 29,
   "metadata": {
    "collapsed": false
   },
   "outputs": [],
   "source": [
    "train_features_tokenized = vectorizer2.fit_transform(articles_train)"
   ]
  },
  {
   "cell_type": "code",
   "execution_count": 30,
   "metadata": {
    "collapsed": false
   },
   "outputs": [
    {
     "data": {
      "text/plain": [
       "0.71666666666666667"
      ]
     },
     "execution_count": 30,
     "metadata": {},
     "output_type": "execute_result"
    }
   ],
   "source": [
    "classifier = MultinomialNB()\n",
    "classifier.fit(train_features_tokenized, authors_train)\n",
    "\n",
    "# test new classifier\n",
    "test_features_tokenized = vectorizer2.transform(articles_test)\n",
    "classifier.score(test_features_tokenized, authors_test)"
   ]
  },
  {
   "cell_type": "markdown",
   "metadata": {},
   "source": [
    "We can create a basic function for more rapid testing of classification models. We will use this method to search for the model that returns the best score."
   ]
  },
  {
   "cell_type": "code",
   "execution_count": 31,
   "metadata": {
    "collapsed": true
   },
   "outputs": [],
   "source": [
    "def train_classifier(X_train, y_train, X_test, y_test, classifier):\n",
    "    train_features = CountVectorizer(tokenizer=tokenize_and_stem).fit_transform(X_train)\n",
    "    \n",
    "    classifier.fit(train_features_tokenized, y_train)\n",
    "    \n",
    "    return classifier"
   ]
  },
  {
   "cell_type": "code",
   "execution_count": 32,
   "metadata": {
    "collapsed": true
   },
   "outputs": [],
   "source": [
    "from sklearn.svm import SVC"
   ]
  },
  {
   "cell_type": "code",
   "execution_count": 33,
   "metadata": {
    "collapsed": false
   },
   "outputs": [
    {
     "name": "stdout",
     "output_type": "stream",
     "text": [
      "0.866666666667\n"
     ]
    }
   ],
   "source": [
    "classifier = train_classifier(articles_train, authors_train, articles_test, authors_test, \n",
    "                              SVC(kernel='linear'))\n",
    "print(classifier.score(test_features_tokenized, authors_test))"
   ]
  },
  {
   "cell_type": "code",
   "execution_count": 34,
   "metadata": {
    "collapsed": true
   },
   "outputs": [],
   "source": [
    "from sklearn.linear_model import LogisticRegression"
   ]
  },
  {
   "cell_type": "code",
   "execution_count": 35,
   "metadata": {
    "collapsed": false
   },
   "outputs": [
    {
     "name": "stdout",
     "output_type": "stream",
     "text": [
      "0.9\n"
     ]
    }
   ],
   "source": [
    "classifier = train_classifier(articles_train, authors_train, articles_test, authors_test, \n",
    "                              LogisticRegression())\n",
    "print(classifier.score(test_features_tokenized, authors_test))"
   ]
  },
  {
   "cell_type": "markdown",
   "metadata": {},
   "source": [
    "The Logistic Regression model performs the best amongst all of our classification models. I have extracted the model in order to take a closer look at which authors were mistaken within the model."
   ]
  },
  {
   "cell_type": "code",
   "execution_count": 36,
   "metadata": {
    "collapsed": false
   },
   "outputs": [
    {
     "name": "stdout",
     "output_type": "stream",
     "text": [
      "0.9\n",
      "Predicted: Simmons\n",
      "Actual: Simmons\n",
      "Article:\n",
      "\n",
      "\n",
      "Predicted: Baker\n",
      "Actual: Sharp\n",
      "Article:\n",
      "Public financing for stadiums is having a bit of a moment right now. Charlie Pierce did a great job highlighting the issues surrounding the Milwaukee Bucks’ proposed arena deal last week on Grantland. And this weekend, the New York Times ran an article highlighting the fraught economic situation in Wisconsin. The article begins by taking us back and discussing how the NBA threatened to move the Bucks to Las Vegas or Seattle if the team’s owners couldn’t come to terms on a publicly financed arena deal. It reminds us of the stakes (“If economists left and right share any single view, however, it’s that local and state governments should eliminate subsidies to arenas and stadiums”) and the context (“From start to desultory end, Milwaukee offered a case study in all that is wrong with our arena-shakedown age”). And then, in granular detail, writer Michael Powell details the failed grassroots opposition to the arena and the eventual triumph of Bucks ownership, whose pledges of loyalty last year turned into a $500 million stadium this year. While one of the Bucks owners oversees a mortgage company that once owned abandoned foreclosed homes on one side of town, on the other side, the city (along with the state and county) will pay hundreds of millions for a stadium. Read the whole thing. With a combination of reporting and bone-dry sarcasm, it’s one of the most damning indictments of stadium subsidies you’ll find anywhere. But like most of the damning indictments of stadium subsidies, we never get to the real problem, or the most realistic way to solve it. POPULOUS/KNTB/EUA Don’t blame the owners of the Bucks. This is a tough ask, I know. It’s easy to look at billionaire hedge fund managers like Wesley Edens and Marc Lasry — who pressure Milwaukee officials while their lending companies foreclose on homes elsewhere in the city — and gawk at the audacity and hypocrisy on display. But this is how professional sports operate, and it’s been like this for decades. Owners aren’t crazy for demanding local money to help build a stadium; they’d be crazy not to do it. If cash-printing franchises like the Yankees and Cowboys are building stadiums with massive handouts from local governments, why should anyone expect the owners of the Milwaukee Bucks to adhere to a higher moral obligation? Teams have real leverage. There are a fixed number of franchises in every sport, demand outstrips supply, and leagues are quick to cosign relocation threats, because it helps establish public funding as the standard model for everyone. That same model helps ensure that cities will continue having these problems, too. As long as teams don’t own stadiums, it makes it even easier to threaten relocation again a decade or two down the line — it’s not like the owners would be abandoning a stadium that they spent hundreds of millions to build. And so the cycle continues. In every sport, every year. It comes down to a case of idealism vs. realism. In a vacuum, it’s easy to downplay the value of new stadiums to local economies. It’s harder to quantify the vacuum left behind when one of these teams leaves town for a new home that will pay to attract them. It’s why the Bucks stadium deal ultimately had bipartisan support among local politicians. Cities and states have a choice of either participating in the pro sports business or watching it go elsewhere. Supporting billionaires may look bad, but losing a billion-dollar corporation and the national relevance that comes with it isn’t necessarily a better alternative. So, somewhere between reading about the billionaire businessmen playing a game that’s rigged in their favor and the state politicians who are left choosing between two bad options, a question occurred to me. Isn’t this what the federal government is for? If there’s interstate commerce that wreaks havoc on state and local governments as a rule, shouldn’t Congress step in to legislate the business back to sanity? Even a local politician who helped craft the Bucks stadium deal admitted to the Times, “If Congress considered a law that would prevent any public financing for sports stadiums, I would support that.” The most productive solution to date emerged without much fanfare earlier this year, buried in the 2016 budget proposal that the Obama administration presented to Congress. As the Wall Street Journal reported in March, the budget included a proposed ban on using tax-exempt municipal bonds to fund stadium projects. This is the way almost all cities have paid for stadiums over the past few decades. The Minnesota Vikings, for instance, are using $468 million in bonds to build what will be a billion-dollar stadium. The $250 million that’s going to the Bucks is composed of “$55 million in state bonds; $47 million from the city of Milwaukee; $55 million in bonds from Milwaukee County and $93 million in bonds from Wisconsin Center District,” according to Bloomberg. In a separate look at the issue, in 2012, Bloomberg calculated that $17 billion of tax-exempt bonds have been issued for stadiums since 1986, costing federal taxpayers about $4 billion in subsidies to bondholders over the lifetime of the debt. Saving that money is obviously one benefit for the federal government, but the real imperative should be saving local and state governments from themselves and all the shakedowns that have become standard in pro sports. If local governments can’t be trusted to stop offering welfare to billionaire owners, the federal government can take away the tools they use to make those payments. Almost as soon as President Obama’s budget proposal was released, it was loudly dismissed by congressional Republicans. This isn’t surprising: Modern presidential budget proposals are mostly symbolic and not presented with any real notion they’ll get passed. But the municipal bond restriction quietly baked into the budget still makes sense. And given the money that both Republican and Democratic state governments are expected to raise for pro sports, there’s no reason it shouldn’t have bipartisan support in Congress. Billionaire owners don’t deserve public handouts to subsidize their investments. When they buy into pro sports, owners inherit teams that appreciate in value by hundreds of millions of dollars every decade, with TV rights skyrocketing and all kinds of ancillary revenue streams springing from their investment. In exchange for those benefits, it’s fair to ask them to invest in infrastructure and assume some of the risk. It’s how the business should work. Absent federal regulation, though, it’s naive to expect anyone involved to behave any differently from what just happened in Milwaukee. These scenarios feel outrageous and inexplicable, but they are also close to inevitable. There’s too much money on the line to expect charity from owners, and there’s too much civic pride and political capital on the line to expect local politicians to take a hard stance and send teams elsewhere. It just seems like we’ve been focusing our energy in the wrong places with this issue. Any time a team asks for public help building a new stadium, we point to the net worth of the owners in question, but not the 30 years of precedent for publicly funded stadiums that have already been built. Maybe raising awareness about these shameless stadium deals will make it harder to sell them politically, but that didn’t work in Milwaukee, and in Missouri the governor and the St. Louis Rams just skirted a public vote altogether on $400 million of proposed funding for a new stadium. At some point, it’s time to start asking why Congress allows this to happen to a new city every year. Whether it’s banning bonds from being used in these deals or some other kind of intervention, this is the only step that could really change things. In the meantime, demonizing owners or blaming local politicians doesn’t tell the full story. The Bucks’ owners may not be the bleeding-heart saviors they were advertised as last year, but they’re also not the blackhearted shakedown artists you’re hearing about now. Their stadium deal didn’t game the system; that is the system. If you want to get outraged at anyone, start with the people who can change it.\n",
      "\n",
      "\n",
      "Predicted: Mays\n",
      "Actual: Barnwell\n",
      "Article:\n",
      "Let’s just get it out of the way: Even I think the term “football babies” is a little creepy, but it’s going to be the way we get into this Friday’s picks column. No, this isn’t a reference to that unrelenting, awful “Bengal babies” NFL Shop commercial from last season; it’s our shared way of comparing players and teams to similar-yet-more-impressive archetypes. I’m guessing it predates Harold Miner taking the “Baby Jordan” nickname, but that’s the classic example. That Miner comparison also points out how the idea can go horribly wrong. In a football context, it usually works in terms of comparing a player at one position to a younger, still-developing player at the same spot in the lineup. As an example, let’s use a player on bye this week. It’s totally fair to think of Cincinnati tight end Tyler Eifert as the baby Rob Gronkowski. Eifert’s athleticism, size, and soft hands make him virtually uncoverable at times, as is the case with Gronk. He has been similarly productive this season; Eifert is on pace for a 75-catch, 912-yard, 16-touchdown season, which is a small step down from Gronk’s 82-1,124-12 line from 2014. They even wear the same enormous elbow brace. Of course, Eifert isn’t quite up there with Gronkowski. His production, while impressive, doesn’t reach Gronk’s historically lofty heights. Eifert hasn’t done it as long as Gronk has, so it’s tougher to put him on a pedestal with Gronkowski. And he isn’t anywhere near as effective as a blocker. Gronkowski is quietly one of the best blocking tight ends in football, while Eifert’s most memorable moment as a blocker this year was when Elvis Dumervil blew by him for a strip-sack that produced a Ravens defensive touchdown. That’s why he’s Baby Gronk. I’m going to run through this week’s picks and identify a player in each matchup who can claim to be a slightly lesser version of a similar player (or archetype, or something silly). They won’t all work quite as well as Gronkowski-to-Eifert, but that has never stopped me before. I started the week off by taking the Seahawks -6.5 last night. As always, the home teams are in CAPS and the odds listed are the consensus lines from vegasinsider.com … Baby Joe Philbin: Gus Bradley If the Jaguars lose this week, it’s not out of the question that they could follow their in-state brethren’s lead and leave their head coach in London. The returns on the Bradley era in Jacksonville were never supposed to be quick, but things are looking dire for the third consecutive season. The Jags are 1-5, and their one win was by three points over those same dreadful Dolphins. It was one thing when the Jaguars were being held back by an offense that was dead on arrival and a roster that was bereft of talent, but that’s not the case anymore. Blake Bortles made some terrible decisions last week, but he’s comfortably better this year than he was last season; after posting a league-worst 25.2 QBR last year, he’s up to 60.9 so far in 2015. Instead, the defense has been struggling, even after adding multiple veteran free agents this offseason. The Jags are 27th in DVOA through six weeks, and even if some of that is due to the fact that they played the Patriots, the second-best offense they’ve faced over that time frame is … Carolina? Bradley failed to adjust during the second half last week, when nominal no. 1 corner Davon House was locked up against DeAndre Hopkins and repeatedly torched. I don’t think the Jaguars should give serious thought to firing Bradley before the end of the season, even if there’s a ready-made replacement on staff in offensive line coach Doug Marrone. At some point, though, his seat has to start getting hot. He’s started 8-30 (.211) as head coach, similar to the three-year runs of recent failed defensive wizards turned head coaches like Steve Spagnuolo and Rod Marinelli (each 10-38, a .208 win percentage). Dennis Allen was 8-28 when the Raiders fired him last year. The only coach since the NFL merger to get a fourth season with the same team after three seasons with a worse winning percentage than Bradley is John McKay, who was coaching the expansion Bucs. It’s hard to imagine a must-win game for Bradley and the Jaguars, but given that he’s facing a Bills team that will be starting EJ Manuel at quarterback, this is a sure-would-be-nice-to-win week for the struggling Jags head coach. Baby J.J. Watt: Aaron Donald OK, you already know this one, given that we were making comparisons between Watt and Donald before the 2014 draft after Donald’s freakish performance during the 2014 combine. Donald’s subsequent performance as Defensive Rookie of the Year only sealed things. So let’s twist this a bit and go back in Rams history to find a comparison for a player who is currently on bye: Baby Steven Jackson: Matt Forte This is less about Forte’s skill level (which is higher than Jackson’s) and more about where he is in his career, toiling as one of the league’s most underrated backs for a perennially frustrating football team. Like Jackson, Forte’s versatile skill set made him the focus of the offense on some pretty good teams early in his career; while Jackson (amazingly) never managed to play on a single NFL team with a winning record, the relative best seasons of his career came when the Rams hit .500 with a pair of seasons early in his career. Jackson was able to keep his production at a relatively high level, even while the team around him collapsed, which it’s fair to say the Bears have done around Forte. They’ve both even struggled around the goal line as pros, producing rushing touchdown totals that pale in comparison to their carry figures. Forte’s had higher highs, but they share a similar story. Baby Brandon Weeden: Alex Smith No, it’s not good when I’m saying you’re the poor man’s version of a backup who was already benched for Matt Cassel in a panic, but that’s where we are with Smith during a very disappointing 2015 season. Smith is completing 62.4 percent of his passes, which doesn’t sound all that bad, but he’s throwing some of the shortest passes in football. For comparison, here are the other 10 quarterbacks at the bottom of the air yard charts and what they’re averaging in terms of completion percentage: The other nine quarterbacks in that group have an average completion percentage six full percentage points higher than Smith. Failing to complete short passes is a recipe for disaster, and given Smith’s usual propensity for taking sacks to avoid turnovers, his QBR is down to a lowly 34.3. Only Sam Bradford (31.6) sits below Smith in the QBR charts. Baby Dan Henning: Dan Campbell Insert your favorite run-happy coach from the past, since Campbell decided his way to rebuild the Dolphins overnight was to go back to the sluggish offenses he ran as a player under Bill Parcells in Dallas. I mentioned last week that the Dolphins were the league’s most pass-happy team on first down, throwing the ball 71.2 percent of the time under Joe Philbin. While the Dolphins were in a favorable game situation most of the way, on first downs against the Titans last week, they ran the ball 11 times and threw it on 15 occasions. Campbell reemphasized second tight end Dion Sims (38 snaps) at the expense of Greg Jennings (nine snaps) and gave defensive tackle Earl Mitchell as many snaps on offense (six) as wide receiver DeVante Parker, the team’s first-round pick this year. It’s tempting to credit Campbell’s shifts for their success, but it’s often true that interim coaches quickly look better than the guys they replaced by sheer regression toward the mean; teams that play poorly enough to justify their head coach’s sacking in midseason improve, but so do teams that play similarly poorly without firing their head coach. The biggest difference between the Philbin Dolphins and the Campbell version after one week, truthfully, was what a healthy Cameron Wake did up front on defense. Baby Marshawn Lynch: Chris Ivory You have to admit, this one fits. Ivory is playing the best football of his career, but when he’s at this level, he looks a lot like Seattle’s star back, and it’s not just the hair. Lynch’s punishing style requires no introduction, but his career really shifted midway through his second season with the Seahawks, when he met with Tom Cable and became a far more patient back. Likewise, Ivory has always been a burly, bruising bowling ball of knives, but what looks different this year is how he’s attacking the line of scrimmage. Ivory is taking more time behind the line to find his running lane and he’s getting farther upfield before taking contact in the process; he’s averaging 2.73 yards before contact this season, up from 2.06 yards before contact in 2014. The Jets also had success last week pitching him the ball on plays designed to go up the middle, allowing Ivory to get to top speed quicker than he would on a traditional handoff. It also doesn’t hurt the comparison when you consider that Ivory is playing behind a line that includes James Carpenter and Breno Giacomini, both of whom cut their teeth blocking for Lynch in Seattle. The Pats rank 29th in rush defense DVOA, so if the Jets expect to win in New England, they’ll probably need to give the Pats a steady dose of Ivory. Baby Antonio Brown: Stefon Diggs OK, let’s take this one slow. This is more like embryonic Antonio Brown, given that we’re really just two games into Diggs’s career, but you can see how it’s easy to compare their respective stories. Brown was a sixth-round pick coming out of a lesser school (Central Michigan) who fell in the draft because he was undersized and had a reputation as a hothead. Diggs, who went to Maryland, lacks ideal size and fell to the fifth round due to concerns over his character. He was taken 23 picks after Vince Mayle, whom the Browns released before the end of training camp. It would be incredibly unfair to compare anybody to Brown after two games, but you can already begin to see why Mike Wallace, who played with both Brown and Diggs, made the comparison this week. Diggs is already naturally using his athleticism and route-running ability to create separation; there’s a reason he’s gotten nine targets in each of his first two games. Charles Johnson is back this week, but Diggs is keeping his starting job. He might not be Antonio Brown, but there’s something here. Baby Richard Sherman: Desmond Trufant Dan Quinn’s defense hasn’t been great through six weeks, but even 20th in DVOA is a huge step forward for a unit that was dead last under Mike Nolan last year. They’ve been far healthier on the defensive side of the ball this year, and they’ve finally developed the beginnings of a pass rush after drafting Vic Beasley in the first round, but their one true star is at cornerback. Nobody is noticing how great Trufant is, but that’s because teams simply aren’t throwing the football in his direction. When Quinn was with the Seahawks, he almost always kept Sherman in his preferred spot at left cornerback, facing the right side of the offense. It’s only in recent weeks that new Seahawks coordinator Kris Richard has moved Sherman around the formation, doing so against the Bengals two weeks ago and then, last night, against Torrey Smith during Seattle’s victory over the 49ers. Quinn’s new star pupil is Trufant, and like he did with Sherman, Quinn is keeping Trufant at home, and other teams are terrified to throw in his direction. If you split an NFL field up horizontally into five zones, the most frequently trafficked zone is the right sideline: 25.7 percent of passes have gone there this season; no other zone is above 22.6 percent. Can you guess which defense is seeing the smallest percentage of passes thrown against it heading to the right sideline? Sure enough, it’s Atlanta, at a league-low 17.1 percent. Teams have thrown 42 passes in that area, but many of those throws have been with other defenders in coverage. I watched Trufant against the Saints last week, and while breaking down coverages is a guessing game, my estimate is that Drew Brees targeted him maybe twice across 39 pass attempts. Most of the time, Brees didn’t even look over to that side of the field. Trufant is erasing the most popular space on the field for opposing quarterbacks. If Sherman is still the best cornerback in football, Trufant’s not far off. Baby Tommy Maddox: Kirk Cousins The bad news is that Kirk Cousins absolutely melted down against the Jets during the second half last week, going 9-of-20 for 75 yards with two interceptions while posting a QBR of 1.8. He is already up to eight interceptions in six games, having posted four two-pick games over that time span. He’s averaging a dismal 6.2 yards per attempt. The good news is that his interception rate is down by nearly a full percentage point from last year, having dropped all the way from 4.4 percent to 3.5 percent. OK, back to the bad news. Even with the slightly lower interception rate, Cousins is still turning the ball over far too frequently for his own good. I noted that Cousins had the worst era-adjusted interception rate in modern NFL history for quarterbacks through three seasons before the season; in comparing his career to the full careers of every other passer with 500 attempts or more since the merger, Pro-Football-Reference’s index statistics suggest that Cousins has been the eighth-worst quarterback since 1970 in terms of throwing interceptions. The same index statistics suggest that Cousins has been moderately below league-average at his other tasks, which provides for a seeming ancestor in Maddox: Maddox had to go to the XFL to prove his mettle before eventually winning a playoff game with the Steelers. I, for one, would love to see Kirk Cousins in the XFL. Baby Philip Rivers: Literally Philip Rivers’s Baby Philip Rivers’s eighth child is on the way. There’s no joke there. That’s just incredible. I can’t even watch television when I write without getting distracted, and Philip Rivers plays quarterback and comes home to seven kids. The due date for Rivers’s seventh child coincided with a trip to Jacksonville in 2013; the San Diego Union-Tribune asked what Rivers would do if the baby came while he was in Florida, to which he replied, “FaceTime, I reckon.” That’s the greatest quote I’ve ever heard in my life. Next time anybody asks how to get in touch with you, don’t give them a business card or your email address or anything like that. “FaceTime, I reckon.” That’s all you need. Baby Richard Seymour: Fletcher Cox The best part of a front seven that tormented poor Eli Manning last Monday night, Cox is coming into his own as a pass-rusher. He has shown flashes in the past, but we’re seeing the former first-rounder take a leap this season. Cox jumped off of the tape at times last year, but he finished the season with four sacks and seven quarterback knockdowns. Those are good figures for a player who often has to play the thankless, stat-shunning role of a two-gap interior lineman, but they undersell how gifted Cox is as an interior rusher. He has nearly matched those figures this year, and it has only taken six games. Cox already has five sacks and five quarterback knockdowns, highlighted by a three-sack performance against the Saints two weeks ago. Cox is never going to have the freedom to penetrate and make plays like a Warren Sapp/Geno Atkins–type interior tackle in a 4-3 while he’s in Philly’s 3-4, but there’s a lot of Seymour in his game, as a very good run defender who is simply too athletic to avoid getting into the backfield on a regular basis. Baby Mark Ingram of 2011 to 2013: Mark Ingram of 2015 The decision to trade up to grab Mark Ingram in 2011 was one of Mickey Loomis’s most baffling calls as Saints general manager. The team already had a cheap power back in the aforementioned Chris Ivory, and Ingram’s skill set didn’t seem to fit New Orleans’s pass-happy approach. Ingram struggled mightily in the offense during his first two seasons, averaging 3.9 yards per carry in an offense that typically created huge holes the rare times it chose to run the football. He showed brief signs of life during an abbreviated 2013, and after an impressive preseason, Ingram averaged 4.3 yards per carry over 226 carries in 2014, earning him a contract extension from Loomis this offseason. Things aren’t looking up in 2015, though. Ingram is back to his old self. He has looked slower this year, and has averaged just 3.5 yards per carry through his first 88 carries. New Orleans’s offensive line hasn’t been impressive, but Ingram hasn’t come close to breaking a big run, as his longest carry of the year has gone for just 17 yards. It’s too early to say that the decision to re-sign Ingram was foolish, but there’s far more evidence that he isn’t a very good NFL back than there is that he’s a meaningful game changer. While 2014 seemed like a breakthrough year, it might have simply been a blip. Baby Trent Richardson: Andre Williams Ingram is still a sight better than Andre Williams. Forever dedicated to running over defenders at the expense of literally doing anything else to get past them, Williams has been one of the least efficient runners in football during his first two seasons in the league. After averaging 3.3 yards per rush as a rookie, Williams is down to 2.8 yards per carry so far during his sophomore campaign. He had one 35-yard run against the Falcons in Week 2 on a play where an Atlanta linebacker horribly overpursued the play. His other 44 carries have gone for a total of 92 yards. That’s 2.1 yards per carry. There really aren’t many backs of this era who have been less efficient. Among guys with 250 carries or more since 2000, Williams’s rushing average is the third-worst, at 3.24 yards per attempt. Fourth? Trent Richardson, at 3.31 yards per rush. And Richardson, for his foibles, was a much better receiver than Williams is. It seems weird to say “was” for a back who is 25, but Richardson feels like a player from the past. At least until he signs with the Cardinals and runs for 2,000 yards. Speaking of … Baby Bill Belichick: Bruce Arians There hasn’t been quite as much Super Bowl success early in Arians’s career as a head coach, no. But think about it. Arians gets the most out of veterans (like Chris Johnson) other teams have discarded, just like Belichick. Arians had to be discarded by an organization from the AFC North that didn’t know what it had, just like Belichick, before finding success elsewhere. Arians even has a piece of signature clothing, with his Kangol a match for Belichick’s infamous hoodie. More than anything, Arians seems to love stomping on inferior teams the way Belichick does. Remember a few weeks ago, when the Cardinals were up 31-7 at halftime on the 49ers and Arians went into the locker room and said “If you relax, I’ll be looking for new people. Put your foot on their throat” to his team? And then promptly went for it on fourth down inside the red zone up 40-7 in the fourth quarter? Doesn’t that seem like something Belichick would do? Since 2001, nobody has destroyed bad teams like Belichick and his Patriots. They’ve beaten teams with losing records by 20 points or more a whopping 43 times. Nobody else in the league has done it 33 times. Arians’s Cardinals have already pulled that feat off three times across their past five games. They’ll be itching to pick up a fourth blowout win on Monday night. THIS WEEK: 1-0\n",
      "LAST WEEK: 7-6-1\n",
      "THIS SEASON: 50-38-4 (.565)\n",
      "\n",
      "\n",
      "Predicted: Barnwell\n",
      "Actual: Barnwell\n",
      "Article:\n",
      "\n",
      "\n",
      "Predicted: Mays\n",
      "Actual: Mays\n",
      "Article:\n",
      "\n",
      "\n",
      "Predicted: Baker\n",
      "Actual: Baker\n",
      "Article:\n",
      "\n",
      "\n",
      "Predicted: Serrano\n",
      "Actual: Serrano\n",
      "Article:\n",
      "\n",
      "\n",
      "Predicted: Sharp\n",
      "Actual: Sharp\n",
      "Article:\n",
      "\n",
      "\n",
      "Predicted: Baker\n",
      "Actual: Baker\n",
      "Article:\n",
      "\n",
      "\n",
      "Predicted: Mays\n",
      "Actual: Mays\n",
      "Article:\n",
      "\n",
      "\n",
      "Predicted: Baker\n",
      "Actual: Baker\n",
      "Article:\n",
      "\n",
      "\n",
      "Predicted: Baker\n",
      "Actual: Baker\n",
      "Article:\n",
      "\n",
      "\n",
      "Predicted: Browne\n",
      "Actual: Browne\n",
      "Article:\n",
      "\n",
      "\n",
      "Predicted: Lowe\n",
      "Actual: Lowe\n",
      "Article:\n",
      "\n",
      "\n",
      "Predicted: Serrano\n",
      "Actual: Serrano\n",
      "Article:\n",
      "\n",
      "\n",
      "Predicted: Simmons\n",
      "Actual: Simmons\n",
      "Article:\n",
      "\n",
      "\n",
      "Predicted: Sharp\n",
      "Actual: Sharp\n",
      "Article:\n",
      "\n",
      "\n",
      "Predicted: Goldsberry\n",
      "Actual: Goldsberry\n",
      "Article:\n",
      "\n",
      "\n",
      "Predicted: Anderson\n",
      "Actual: Anderson\n",
      "Article:\n",
      "\n",
      "\n",
      "Predicted: Mays\n",
      "Actual: Barnwell\n",
      "Article:\n",
      "It’s been a weird season, even by NFL standards. It seems bizarre to think that the Colts and Eagles were among the favorites to win the Super Bowl as recently as six weeks ago. That was a world in which Calvin Johnson was somehow an elite fantasy football receiver. Hell, Devonta Freeman looked plodding three weeks ago, when he had started the year with 43 rushing yards on 22 carries across Atlanta’s first two games. Now, he’s suddenly the second coming of Priest Holmes. Things move fast. So, as we start transitioning from just having a fast start to a full-blown breakout season, let’s run through the surprise packages around the league on the cusp of Week 6. There are new fantasy football juggernauts, useful players finally breaking through into stardom, and even an ancient mystic from the late ’90s playing on one arm. The All-Surprise Team starts, though, with its most obvious selection: QB: Andy Dalton, Bengals I’ve written about Dalton and the Bengals each of the past two Mondays, so I won’t go too deep into breathless Dalton coverage here. But we’re five weeks into the season and Dalton has posted an 83.7 QBR. That’s the second-best figure in the league behind Ben Roethlisberger. It’s better than Aaron Rodgers (81.4), Tom Brady (71.6), or Andrew Luck (a league-low 30.9). He is third in the league in passer rating and second in yards per attempt. Andy Dalton — Andy Dalton!! — is a monster. This brings up an interesting question. Let’s say Dalton stays at this level all season and is a borderline MVP candidate as the Bengals go, say, 12-4. Would it be fair to remain as skeptical of him in the playoffs as most have been in years past? If he’s not the same old Dalton on the same old Bengals during the regular season, it would be wrong to assume that he would have the same problems in the playoffs, no? QB: Tyrod Taylor, Bills Taylor is the argument for why the league would be able to find quarterbacks if it expanded to 40 teams and why organizations in desperate need of a quarterback should target players with unique, high-variance skill sets. Can you imagine this Bills offense with Matt Cassel at quarterback? Taylor is still a reasonably limited quarterback, and the scheme around him is really conservative, but he’s functional enough as a passer to keep from throwing away games and a good enough runner to make plays when the Bills desperately need them, as they did in Tennessee last week. If Taylor keeps it up, he is quietly one of the more valuable assets in football, given that he is in Year 1 of what amounts to a three-year, $3.4 million contract. The biggest concern might be injuries, given that Taylor is an inexperienced quarterback with run tendencies, and is currently questionable this week with a sprained MCL. RB: Dion Lewis, Patriots The running backs on this team keep Freeman1 off the list, which is pretty remarkable. Lewis spent most of 2014 out of football, having been cut by the Browns and Colts, the teams that each invested a first-round pick in Trent Richardson. Lewis beat out Travaris Cadet and James White in the competition to replace Shane Vereen and has basically turned into the supercharged version of the departed receiving back. Lewis is on pace to run for 720 yards and catch 92 passes for 952 yards, which would dwarf Vereen’s 2014 totals (391 rushing yards, 52 catches, 447 receiving yards). RB: Chris Johnson, Cardinals Of course, this is what the Cardinals do. General manager Steve Keim signs a washed-up veteran with a big name and injury issues in the middle of August for close to the league minimum, and when the Cardinals need him to step up, he suddenly becomes one of the better players at his position. Nobody was willing to offer Johnson any sort of guaranteed money throughout the offseason, but here we are in October, and he looks more like the guy who ran for 2,000 yards in 2009 than he has since, well, 2009. Johnson is averaging 5.1 yards per carry without the sort of 80-yard monster run that would have propped up his figures in years past. The last time he did that over a five-week stretch as a primary back was in 2012. It would be tough to expect him to keep this up, but then again, how likely was it that we would see the old Chris Johnson back for any stretch of time when he signed in August? WR: James Jones, Packers The Giants might very well be 5-0 if they had simply held on to James Jones and let go of Preston Parker, who dropped a handful of passes during Big Blue’s 0-2 start before being released. Jones is probably not going to keep averaging 20.7 yards per catch like he is prime DeSean Jackson. And sure, it’s fair to say that virtually all of this is happening because he’s playing alongside Aaron Rodgers. But remember how it looked like there was a huge hole in the Packers lineup when Jordy Nelson went down with a torn ACL? The Packers have barely missed a beat. WR: Travis Benjamin, Browns\n",
      "TE: Gary Barnidge, Browns Let’s take these two together. Nobody in football has a weirder depth chart than the Browns. The two guys they nominally signed to play as their starting wide receivers on the outside, Brian Hartline and Dwayne Bowe, have combined for 20 targets over five games. Their star wideout instead is Benjamin, an undersize downfield threat who has finally started catching passes. After catching an impossibly low 43.2 percent of his targets through his first three seasons, Benjamin has caught 22 of his 38 targets this year, a 57.9 percent clip. It could very well be the product of a small sample, but that sort of leap in catch rate is the difference between a speed merchant who bounces around practice squads and one who makes $9 million per year. And Benjamin might not even be the biggest surprise. Barnidge, a promising receiving prospect all the way back in 2010, has more receiving yards in the first five games (374) than he had in his previous five years combined (361). He’s gotten some help from playing the Raiders, who are abysmal against tight ends, and he’s not going to catch 18-yard Hail Marys from Josh McCown every week, like he did against Baltimore in Week 5. But Barnidge has shown enough to serve as a believable red zone threat. All he needs to do is don an elbow brace to turn into a Eifertian monster. OL: New York Giants This one is a group award, because nobody expected this out of the Giants. This was a unit that lost its best left tackle option, William Beatty, to a torn pec in May. Beatty will be back in a few weeks, and his return may make this one of the best offensive lines in football, given that he’ll take over for the unit’s weakest link, right tackle Marshall Newhouse. It’s unclear whether Tom Coughlin will move first-round pick Ereck Flowers back to right tackle, where he was expected to play this season before the Beatty injury, or leave alone the team’s left tackle of the future while slotting Beatty in on the right side. Flowers hasn’t been perfect, but he’s been far better early than anyone could have hoped for from a guy who was a long-term project coming out of Miami. The real strength of this line has been on the interior. Guard was an enormous problem for the Giants last year, but the combination of Justin Pugh and Geoff Schwartz has been among the best in football. Pugh was sorely overmatched at tackle — he was a disaster during last year’s ugly loss to the Eagles in Philadelphia, a trip the Giants will repeat this weekend — but the former first-rounder has looked like a natural at guard. Schwartz, who missed virtually all of last year with myriad injuries, has looked like the guy who excelled with the Chiefs in 2013. And second-year center Weston Richburg has quietly taken a big step forward: 4th qtr game on the line pic.twitter.com/6G1b04zHeP — OL Watchdog (@OLineScout) October 13, 2015  DE: Kerry Wynn, Giants Let’s start the defense with the other Giants player on this list. The Giants are second in run defense DVOA, and Wynn is one of the biggest reasons. The undrafted free agent played only 186 defensive snaps last season, but he’s living in the backfield after picking up many of the absent Jason Pierre-Paul’s snaps. The only defensive end with more than Wynn’s 16 tackles against the run is Calais Campbell. Wynn is nowhere near Campbell as a player, but finding an above-average run defender for $510,000 is a feather in GM Jerry Reese’s cap. Bill Barnwell's Week 6 PicksHome team in CAPS. All lines from VegasInsider.com. I took the Saints last night.    Broncos (-4) over BROWNS Bengals (-3) over BILLS Chiefs (+3.5) over VIKINGS JAGUARS (-1) over Texans Bears (+3) over LIONS Washington (+6.5) over JETS STEELERS (+3.5) over Cardinals TITANS (-1.5) over Dolphins Panthers (+7) over SEAHAWKS Chargers (+10.5) over PACKERS Ravens (-2) over 49ERS COLTS (+9) over Patriots EAGLES (-4.5) over Giants     This Week: 1-0 Last Week: 6-7-1 This Season: 43-32-3 (.571) DE: Carlos Dunlap, Bengals It’s not that Dunlap has been a bad player in the past, but the Bengals have perennially been waiting for the Florida product to turn into the superstar his athleticism has seemed to suggest he would become. He’s flashed moments of brilliance as a pro, but even after getting a large contract extension and moving into the starting lineup in 2013, Dunlap’s been too inconsistent of a player. That’s finally changed; after averaging seven sacks a year through his first five seasons, Dunlap already has five sacks and a league-high 14 quarterback knockdowns through five games. It’s another piece of evidence suggesting that quarterback hits are a good future indicator of sack production, given that Dunlap was second in the league with 28 knockdowns last season. DT: David Parry, Colts It’s hard to understand the bizarro-Colts, whose strength in 2015 is … run defense? They’re 16th in pass offense DVOA and 24th running the football. They’re 25th in DVOA against the pass, but after years of famously struggling to stop opposing rushing games, they’re 12th in rush defense DVOA. Teams are averaging just 3.8 yards per carry against the Colts, and part of that has been the work of rookies like Parry and Henry Anderson up front. They’ll be tested by Indy’s nightmare this week, as LeGarrette Blount and the Patriots come to town. LB: Derrick Morgan, Titans Alongside Dunlap in the perennial-breakout club, Morgan re-signed with the Titans this season and has been a critical component of their pass defense, which is third in DVOA. Morgan has 4.5 sacks through four games, which is heady territory for a guy who hasn’t topped 6.5 sacks in a season. He’s getting help from Brian Orakpo, who has only one sack but has managed to draw some attention away from Morgan. Unlike Dunlap, though, Morgan has only six quarterback hits, which suggests he hasn’t been quite the force that his sack total might indicate. LB: Aaron Lynch, 49ers The flip side of that argument is Lynch, who has been a monster without a ridiculous sack total. Lynch has three sacks, but he’s managed to knock down opposing passers 10 times. The other guys in the 10-hit club make for pretty impressive company: Dunlap, DeMarcus Ware, J.J. Watt, Clay Matthews, and Everson Griffen. Lynch was one of the breakout pass-rushers Robert Mays and I agreed upon this summer, and he looks to be a building block for the 49ers defense. LB: Kevin Minter, Cardinals This was a make-or-break year for Minter, a 2013 second-rounder who had struggled to get on the field during his first two seasons. Thrust into a starting role by the retirement of Larry Foote, now Minter’s inside linebackers coach, the LSU product has been excellent against the run and better than expected as a pass defender. It would have been reasonable to assume the Cardinals would use Sean Weatherspoon as a coverage linebacker and take Minter out for one of their many defensive backs in their sub-packages, but Weatherspoon has barely played and was a healthy scratch last week, while Minter has suited up for 88.9 percent of Arizona’s snaps. LB: Nate Stupar, Falcons While he was floored by Mark Ingram on a touchdown run last night, Stupar has been quietly effective as a backup linebacker for the Falcons in Dan Quinn’s new defense. He’s not much more than a rotation piece, but given that he was almost exclusively a special-teamer before seeing a few defensive snaps last season, turning Stupar into viable depth is promising for a team that has had massive injury issues in recent seasons.2 CB: Ronald Darby, Bills An absolute disaster during the preseason, Darby showed up in Week 1 against the Colts as a competent cornerback and hasn’t really looked back. He struggled against the Patriots, but that’s also to be expected, given that it’s the Patriots. With teams terrified of Stephon Gilmore on one side of the field, Darby sees plenty of action, and he’s managed to hold his own during what has been a very promising rookie campaign. CB: Kenneth Acker, 49ers Like Darby, Acker had his ugly day in Week 2, when Antonio Brown basically used him as the base for a Weisian highlight reel. Outside of that disastrous performance, though, Acker’s held up nicely as what basically amounts to a rookie cornerback, given that the 2014 sixth-rounder missed his entire rookie season with a foot injury. Acker’s the sort of tall, long-armed cornerback that NFL teams are drooling over these days; if he continues to improve in coverage, his ability to challenge opposing wideouts at the line of scrimmage and chip in as a willing run defender could make him a very valuable asset. S: Walter Thurmond, Eagles Chip Kelly’s offseason moves haven’t exactly impressed. The one move that’s been an unqualified success, though, has been signing Thurmond and moving him from cornerback to safety. The former Seahawks starter has taken comfortably to his positional switch, with him and Malcolm Jenkins giving the Eagles an above-average pair of starters at a position that’s been their bugaboo since Brian Dawkins left after 2008. Thurmond already has three picks and has been comfortable with the physical aspects of the position; if he can stay healthy, the Eagles will need to start thinking about locking up the impending free agent with an extension. And then trading him a year later, because, you know, Chip. S: Charles Woodson, Raiders Let’s finish with the legend. Woodson isn’t even supposed to be playing right now. Forget that he’s 39 years old and that the only other defensive back in league history to start five games during his age-39 season is Darrell Green. Woodson dislocated his shoulder in Week 1. Honestly, if I had dislocated my shoulder five weeks ago, I wouldn’t be typing this column right now, let alone playing football. And Woodson hasn’t just played. He has stood out. The future Hall of Famer has picked off four passes in those ensuing four games, including a pair of interceptions of Peyton Manning last week. It’s absurd. The Raiders are basically keeping a leaky defense afloat by playing excellent in the red zone, and Woodson’s playmaking ability there has been a big reason they’ve looked competent. This is all from a dude who is nice enough to keep playing so long that he makes sportswriters feel like they aren’t that old. What a great man.\n",
      "\n",
      "\n",
      "Predicted: Serrano\n",
      "Actual: Serrano\n",
      "Article:\n",
      "\n",
      "\n",
      "Predicted: Barnwell\n",
      "Actual: Barnwell\n",
      "Article:\n",
      "\n",
      "\n",
      "Predicted: Baker\n",
      "Actual: Baker\n",
      "Article:\n",
      "\n",
      "\n",
      "Predicted: Goldsberry\n",
      "Actual: Mays\n",
      "Article:\n",
      "No matter how you look at it, fantasy football belonged to the little guy last season. Antonio Brown, all 5-foot-10 of him, destroyed the rest of the wide receiver field by nearly two full games’ worth of points. The 5-foot-11 Odell Beckham Jr. averaged 17 points in his 12 games, the most of any receiver by far. For the season, Beckham finished fifth in total points among receivers, just ahead of Randall Cobb and Emmanuel Sanders, both of whom check in just shy of 6-foot. More 2015 NFL PreviewIt's almost here. For everything you need to know about the new season, follow all of Grantland's coverage.  Team Predictions: The Contenders Team Predictions: The Rising Team Predictions: Falling Stars Team Predictions: Cellar-Dwellers Can Chip Kelly Save Sam Bradford? The Curious Case of Jay Cutler Have We Seen Beckham's Best? The Tackle-to-Guard Conversion Antonio Brown and Shrinking WRs Joe Thomas, Cleveland's Rock Ascending Pass-Rushers to Watch The Value of Tom Brady The All-Bad-Contracts Team The NFL 100 Rankings, Part 1 The NFL 100 Rankings, Part 2 All of our NFL preview coverage! Expand the scope a bit further, and the ridiculousness of Brown’s 2014 campaign only grows. His 251.9 fantasy points1 were the ninth-most in a single season by any wide receiver since the merger, and five of the eight seasons ahead of him belong to Jerry Rice or Randy Moss. It was a historic showing, and even more historic when compared to the seasons a smaller wide receiver has ever had. Only one receiver shorter than 6-foot has ever come within 17 points of Brown’s total, and it took an absurd 18 touchdowns for the Dolphins’ Mark Clayton to even get close in 1984. Laundry-listing the Steelers receiver’s season may seem arduous, especially without the consideration of his formidable high-kick. But establishing just how singular Brown’s fantasy contributions were last year is crucial to understanding why some are worried about him — and last year’s other smaller superstars — when it comes to a fantasy replication this season. ??? Nick Wass/AP\n",
      "The guiding principle when it comes to drafting fantasy receivers mirrors the philosophy inside most NFL front offices: Bigger is better. Given the value of touchdowns, selecting a taller, more reliable red zone target has long been deemed the safe choice. Touchdown totals, so the thinking goes, tend to be all over the place for players who aren’t jump-ball monsters in the end zone. A cursory look at the numbers seems to bear this out. Since the merger, 31 receivers shorter than 6-foot have finished multiple years with 1,000 or more receiving yards, and almost the same number — 34 — has ended at least two seasons with 70 or more catches. Analyzing touchdown totals gets dicier. Only 12 such players have multiple seasons with 10 touchdowns or more, and only a handful of players have done it more than twice. That seems like a small number, but it makes sense when you consider that Steve Smith — a future Hall of Famer2 — had just one season with 10 touchdowns. And that was in 2005 when he won the receiving Triple Crown, leading the league in catches, yards, and scores. Part of the ping-pong-ing comes from the way in which many smaller receivers are used. Smith was always most dangerous as a long-ball threat outside the numbers, and many of the receivers who’ve compiled double-digit scores fall into that category. Terance Mathis averaged nearly 18 yards per reception when he did it for the Falcons in 1998. At 5-11, Joey Galloway wasn’t exactly short on speed — he nabbed 77 touchdowns in 16 seasons. But Brown, Beckham, and Cobb are different — they’re busting up the outside burner-or-benched archetype. Although all three can fly, none of them was relegated to the type of downfield duties reserved for a player like DeSean Jackson. Each hauled in double-digit touchdowns last year, largely because their teams weren’t afraid to feed them the ball when they got to the red zone. The league leader in red zone touchdowns last year wasn’t some behemoth tight end like Rob Gronkowski or Jimmy Graham. (OK, fine, they were tied for second.) Neither managed to beat out Cobb, who hauled in 10 touchdowns inside the 20 for the Packers. Both Brown and Beckham finished tied for seventh with eight. But the contrast among the players who finished in the top 10 is telling. It’s a group of players on different ends of the physical spectrum. Along with Cobb, Brown, and Beckham, the list also includes Gronkowski (9), Julius Thomas (9), Graham (9), Antonio Gates (9), and Dez Bryant (8). At 6-2 and 220 pounds, Bryant is the diminutive one in that second group. Even though these mighty mice managed to equal that predictable group of sasquatches, the pro-tall crowd gets a win when we examine efficiency. With his 33 red zone targets, Brown ranked second among all receivers, and Beckham and Cobb finished tied for third with 25. Some of the smaller star receivers in football were some of the most sought after down near the goal line. Those targets weren’t nearly as fruitful, though, as the ones that went to the big boys. Brown’s eight touchdowns on 33 throws came in just below the league touchdown average of 25 percent, whereas Gronkowski and Bryant blew that number away. It took Gronk only 16 targets to get his nine touchdowns, and for his eight, Bryant needed only 14 passes.3 Excluding the tight ends, it’s still a clear victory for the heightists. Mike Evans had six scores on just 12 targets, Jordan Matthews needed only 15 to get six, and Roddy White got his half-dozen on 14 throws. Otto Greule Jr./Getty Images\n",
      "Tall players are typically going to make more out of their targets in the red zone,4 and to get the same sort of touchdown totals, shorter receivers are going to need way more opportunities. Both Brown and Beckham got those opportunities last year at a clip unmatched by any other receiver in the league. From Beckham’s first game through the end of the season, he and Brown ranked third and second, respectively, in total targets. Just behind them, with six fewer targets than Beckham, was Julio Jones, who presents a solid counterpoint to the idea that bigger receivers are somehow more reliable. Over that stretch, Jones pulled in just three touchdown catches on his 122 targets, and his red zone efficiency for the entire season — two scores on 11 targets — was actually below the league average. DeAndre Hopkins, another breakout fantasy star from last year, also managed just two touchdowns on 12 targets inside the 20. The point here is that outside of the best red zone targets in football, touchdowns tend to be unpredictable. Even Calvin Johnson had just five during a 2012 season in which he totaled 122 receptions. Replicating fantasy success for smaller receivers tends to be difficult, but that’s in part because replicating fantasy success for any receiver is difficult. With the tumult at running back in recent years, building a fantasy team around wide receivers has been billed as the safer bet — but in league history, the number of pass-catchers who’ve been truly reliable fantasy stars is surprisingly small. Only 97 times since the merger has a receiver finished a season with more than 200 fantasy points, a bar that Brown, Beckham, Cobb, and Sanders all cleared last season. And that list is filled with one-year wonders who never turned into consistent fantasy producers. It’s happened nearly 100 times, but only 17 players have done it more than once. Of the 97 seasons, more than a quarter of them belong to Rice, Terrell Owens, Moss, and Marvin Harrison. The lack of consistency in this regard actually makes what Bryant’s done even more remarkable. Only seven players in league history — including the four players above, plus Calvin Johnson and Sterling Sharpe — own at least three of those 97 seasons, and Bryant is one of them. This lack of reliability is why anyone who’s keeping or looking to overpay for Antonio Brown or Odell Beckham should breathe a little easier. Yes, there’s a good chance neither manages to hit his touchdown total from a season ago, but that’s true for almost any receiver who’s ever played. Outside of Bryant and maybe Megatron, the truly safe bets at wide receiver aren’t easy to find. For smaller receivers, fantasy greatness is always going to be more dependent on workload than it is for a red zone beast. But that’s the nice part about fantasy football — raw totals are all that matters. And given what they showed last season, both the Steelers and Giants are better off throwing to their stars as often as possible. Last year may have been the year of the undersize wide receiver, but in 2015 there’s reason to believe the NFL might be getting small all over again.\n",
      "\n",
      "\n",
      "Predicted: Browne\n",
      "Actual: Browne\n",
      "Article:\n",
      "\n",
      "\n",
      "Predicted: Baker\n",
      "Actual: Baker\n",
      "Article:\n",
      "\n",
      "\n",
      "Predicted: Goldsberry\n",
      "Actual: Goldsberry\n",
      "Article:\n",
      "\n",
      "\n",
      "Predicted: Barnwell\n",
      "Actual: Barnwell\n",
      "Article:\n",
      "\n",
      "\n",
      "Predicted: Anderson\n",
      "Actual: Anderson\n",
      "Article:\n",
      "\n",
      "\n",
      "Predicted: Anderson\n",
      "Actual: Anderson\n",
      "Article:\n",
      "\n",
      "\n",
      "Predicted: Serrano\n",
      "Actual: Browne\n",
      "Article:\n",
      "This morning, the MacArthur Foundation announced its annual “genius grant” recipients. Playwright, composer, singer, rapper, and Washington Heights native Lin-Manuel Miranda was among the 24. The 35-year-old is currently on his second tour of turning Broadway on its head. His first, the musical In the Heights, which he composed and starred in, won four Tony Awards in 2008, including Best Musical, and a Grammy for Best Musical Show Album. It was a 2009 nominee for the Pulitzer Prize in Drama. Now he has delivered Hamilton, a musical based on the life and death (spoiler) of Alexander Hamilton, his decades-long feud with Aaron Burr, and, in turn, the birth of the United States. Like Hamilton himself, the reality of Broadway is that if your show is going well, you’re always doing that show. Catching Lin-Manuel when he’s not performing is a tough task. In mid-September, between a 2 p.m. matinee (in which his understudy, Javier Muñoz, played the lead)1 and an 8 p.m. show in which he would perform, we met at the Richard Rodgers Theatre. We spoke twice. The first time was in his dressing room as he ate the grocery store sushi that you get in the plastic case and which you always hope was made that day. After half an hour, he departed for his daily duties in the Hamilton lottery outside the theater. Dubbed “Ham 4 Ham,” it’s a beautiful, insane display of fandom, with people putting their names in a hat to get an opportunity to see the biggest show in town. Half an hour later, after the crowd had dispersed, we sat alone in the seats that he looks out on every night. It’s been interesting watching Hamilton become “a thing” beyond the crowd that follows Broadway. When I saw the show, Lenny Kravitz and Lee Daniels were sitting across from me — at first they were chill, but by the second act they were completely into it. That was wild for me to see. I’m sure it also is for you — not only seeing them after the show, but seeing them while you’re performing. So, the scariest show we have done — and it’s all been easy since then — was three weeks at the Public Theater. Busta Rhymes is in the front row. Listen, this is an unapologetic love letter to hip-hop. [Rappers] didn’t come see In the Heights. A couple people did, Run-D.M.C., a few other old heads that love the genre in any form — they came. I was so nervous, [Busta] was in the front row, he took a redeye to get there. And I remember we were doing “My Shot,” and back at the Public, it was literally a “Pass the Courvoisier” line — it was, “Rise up, don’t this shit make my people wanna rise up” — and I saw him go [mimics big smile] and whisper to Riggs [Morales, a longtime record label A&R]. My feet are off the ground I’m rapping so hard because, you know, I got into a fistfight to get the last copy of “Scenario” when I was 13 years old. It’s the only fistfight I’ve ever been in in my life. I was like, Don’t look at Busta, don’t look at Busta. Then I look into the second row and Mandy Patinkin is sitting above Busta Rhymes. If there is a Busta Rhymes of musical theater, it probably is Mandy Patinkin. And it was just fucking crazy, when the people you’ve emptied your pockets to see are seeing you. It’s a crazy feeling. It’s both ennobling and totally humbling and totally terrifying. But after Busta, everything was cool. Les Misérables is playing next door to the Richard Rodgers Theatre. I know you love Les Mis. It was my first show. It’s not just that you have a show on Broadway — if you literally take a step back on the street, your show and Les Mis, the show that helped mold who you are, are on the same block. The things that you can see in Hamilton that are affecting people are also present in Les Mis. One, it’s trying to capture so much of the human experience that even if we fall short, we’ve got a lot of it. I mean, Les Misérables starts in prison. It’s “Look down, look down, you’re standing in your grave.” And then it goes up from there. And in terms of musical theater, it’s the opposite of what most people’s prejudices with musical theater is: It’s not sunny and uplifting. I think that’s why it struck such a universal chord with people. This is not happy show tunes. The one they do give you, it’s prostitutes. And it comes with this ironic twist. It’s like a masterclass in how to use themes in order to take a short circuit to someone’s tear duct or heart or gut. You see Valjean at the end and they play that music that was playing when Fantine died and it’s like, we know what’s coming — OH SHIT. “NOW YOU ARE HERE.” — NO, FUCK FUCK FUCK. [Mimics wiping away tears from his eyes.] Like, we just know. And it’s a masterclass. So those are the things that I always responded to. There’s just so much in it, it’s such a full meal. I have so much fun quoting Les Mis to Twitter and shit, because I could do it forever. There’s literally a line for every occasion. It hits everything. The musicals that leave us kind of staggering on our feet are the ones that really reach for a lot. And so, we’re trying to do that. Backstage in Miranda’s dressing room at the Richard Rodgers Theater. In the Heights came out at an important time for me — 2008, the recession, terrified to leave college in this climate, not knowing what to do with my life. I knew I wanted to write, but then saw the show and felt like there was the option to create something. In The New Yorker, you mentioned two things that kind of showed you the light. One was Rent. Rent was the show that made me want to write. Or that showed me you’re allowed to write. And the other, your going to Wesleyan, taught you that you could write about (or even talk about) where you’re from.  I got into Hunter [College] Elementary when I was 6 years old. So already, it’s like, they call me Lin at school and Lin-Manuel at home. It’s also super stark when there’s another language involved. I speak Spanish at home and English at school. And I’ve had all white Jewish friends from the time I’m 6 years old. I saw Rent, I loved writing musicals, but the first two musicals I wrote in high school, they sound like Rent. There’s no Latin anything in them. It wasn’t out of shame or embarrassment, I just didn’t bring anything from home to what I was writing. It was just like, “This is for high school and I’m writing about high school shit.” So one of them was about an unchaperoned party and I think I gave one of the kids a Latino last name. But they were all white Jewish kids playing the parts in the show. And then I lived in a Latino program house my sophomore year at Wesleyan. It was called La Casa. It was such a dope house; you had to write an essay to get in about why you were a Latino community leader, and that was the first time — this was my version of your experience — there were kids whose parents owned bodegas, and there are kids whose parents were both Wesleyan alums and they always knew they were going to Wesleyan and they’re Latino, but they’ve got the code switch down easy like I do. And it was inspiring — like, we could make a Marc Anthony joke before the English-speaking world knew about Marc Anthony, and it was also coinciding with when Ricky Martin did “Cup of Life.” It was the Latin pop boom, suddenly Marc Anthony is singing in English, Enrique Iglesias was a thing — I was figuring out these things about myself at the same time that the world was figuring out that we had something of value to offer, musically. Oh, look at you guys. These were some of the perfect storms that led to In the Heights. One of the other parts was The Capeman, which was going to be the great brown moment in musical theater, and it lived and died my senior year of high school. I was directing West Side Story; I wanted a life in this business. And there was this show written by fucking Paul Simon, starring Marc Anthony and Ruben Blades, two of my heroes — it just came and went. And it was us as gang members in the ’50s, again. It’s like, two musicals about Latinos and they’re both about the same fight. And so a part of me was just fueled off of that — we should be able to be onstage without a knife in our hand. Once. So that was a big creative fire. The other real shit was that my high school girlfriend and I were still dating and we should have broken up like two years prior. And she suddenly went to study abroad, and then I had all this fucking time and angst about where we were and what we were doing. So there was this sad love story that took place in Washington Heights and I used hip-hop and I used the same cocktail that ended up in the final product. It was this love story about these two people who could never be together, because that’s what I was going through in my head. And so all of that formed to help make that first draft of In the Heights. I’ll never forget, there’s a scene when Usnavi [played by Miranda] and Benny [Christopher Jackson] are freestyling on the street and they’re rapping and looking out and seeing the audience physically go like this [mimics perking up]. Yes, they liked the show, it was well received at Wesleyan, but I saw a physical reaction on the hip-hop numbers. And was like, Oh, this is some new shit. I remember seeing In the Heights, but I also remember that in-between period. Living in the Village, going to Le Poisson Rouge to see your group Freestyle Love Supreme perform. But by 2012, I remember beginning to think, with regard to you, Was that it? And I know if I thought that, there had to be some extent to which you thought or felt that. Because so much of In the Heights is that classic first-album thing, where you put your entire life into that first thing, and then it’s like — so do you have anything left to say? I was pretty Zen about it, honestly. Well one, I had the idea for Hamilton when I was still in In the Heights. So, again, impossible to overstate: The success of In the Heights gave me a life as a writer, a career as a writer, it said, “You belong here.” Nothing will ever do for me what that show did — from broke to not broke — in every respect. But you actually felt like you belonged on Broadway? So that’s the interesting thing: When my wife and I got married in 2010, we went on our honeymoon and — again — I have the idea for Hamilton, and I wrote the King George song on our honeymoon without a piano around, and then when I got back from our honeymoon our producers were like, the show’s closing. So that was the starter pistol of Oh shit, I won’t have a show running on Broadway, which was my steady source of income. But at the same time, I was a big film buff growing up. And the book whose advice I really followed concerning that “first album-ness” of Heights was Robert Rodriguez, Rebel Without a Crew. And he said, “Just don’t let them know what your sophomore project is.” And he just went and did a bunch of random shit. He did Four Rooms. And he did a Showtime movie. And he did so many random little things that people couldn’t just say, “Well, when’s your next movie?” So I did this West Side Story translation. I cowrote the Bring It On musical. And I did each one — it was never in my soul and bones to write a musical about cheerleading. But I knew I’d learn a lot watching Andy [Blankenbuehler] direct and writing with Tom [Kitt], who to me is one of the best melodists of our generation. Watching him think through an idea and see it go through his filter — it was like, Oh, I’m going to learn some moves. It was a way to stay sharp. That, absolutely, but just learning new shit. I had to write backward for Bring It On, because Andy was so specific about the tempos of the songs he wanted. I’d start with the tempo, I’d start with BPM, and he would be like, “ca-ca-ca-ca-ca, ca-ca” and I would write that down, and then build a song backward from the rhythm, as he had it in his head. Which was great, because now I know how to do that. I knew I had Hamilton in my pocket and I knew I needed to focus and time to get it done, and that was the hard part, because I have a family and I’m trying to support them. Yeah, it’s hard to just stop. But Do No Harm was like a writing residency for me. It was a bad NBC show and I was sixth on the call sheet and I took the job because I was like, it shoots in Philly and you’re going to be killed off in the 11th episode. So it was like signing a potential seven-year contract, which I was not interested in doing or going to L.A. I wanted to have time to write. I would have days free in Philly to write. NBC Miranda in ‘Do No Harm.’ Even before you’d finished Hamilton, were you already writing a character with Chris Jackson in mind? He was always George Washington. He’s just got that moral authority. He had it as Benny. In the beginning, someone was like, “Why do you have Chris playing this Lothario? Chris is so much more interesting than the character you’re writing.” So once we started writing for Chris, it became this R&B sound within the Latino thing, and it totally elevated the character. So this time I started with Chris. We didn’t know if Chris was going to do it, but it was going to have Chris’s skill set. You’re going to be able to spit and then sing an R&B ballad, like he’s this mash-up of Common and John Legend, fused into one person. A reality of this musical is that there are many standout characters that are not your character. People come away from it raving about Daveed Diggs’s portrayal of Thomas Jefferson.  That’s most people. Like, maybe he did Thomas Jefferson better than the actual Thomas Jefferson. And Leslie Odom Jr. as Aaron Burr. I stupidly gave him a lot of the best songs. Just layups. “Wait for It” and “The Room Where It Happens” are two of the best songs I’ve ever written in my life and he got them both. It doesn’t feel like the Alexander Hamilton show, as in you and some background singers.  I don’t know how to do that. Heights wasn’t like that either. Usnavi is the narrator, but he’s offstage a lot of the time. I honestly think it’s because school plays were my way into theater. I think I’m always subconsciously trying to write the ideal school play. Lots of parts for everybody, great parts for women — don’t forget, more girls try out than boys in the school play; everyone gets to be in the school play. When this gets done in high schools, they probably won’t double the parts. So you’ll have two different actors to play. I think it has an enormous amount of resonance to double the way we’ve doubled, but it’s a way to get more people in the school play. But it’s interesting: With Heights, we studied Fiddler on the Roof a lot. That’s the best way to introduce an audience to a community that’s ever been written. So what can we learn from that? And there’s a lot of similarities between our opening number in Heights. With Hamilton, it’s not about a community. In the abstract, it’s about the creation of America, but it’s about this fucking one guy who just blazes through. Born, keeping score, and counting time. So we studied Sweeney Todd a lot. And we studied Gypsy a lot. Shows where the structure is, there’s one fucking character and they’re a life force and you’re either an obstacle or you’re a friend but get the fuck out of the way. But at the same time, it’s so much fun to get to write about these people we think we know, because they were in a history book. And be like, oh yeah — Jefferson’s going to be dressed like Morris Day. And that’s all Paul [Tazewell]. The leaps they took from the music into the other departments are so incredible. I grinned so hard when I saw Andy’s staging for this at first, and they introduced Jefferson and he’s walking down the staircase and everyone’s scrubbing the floor. They got it, before I even had to say anything. Like, yep — there’s Jefferson, talking eloquently about freedom while a slave shakes his hand and he goes like this [looks disgusted]. That’s Jefferson, write more eloquently about freedom than anybody, but didn’t live it. There are some artists — Kanye West stands out — who treat music secondarily to telling stories and changing people’s perceptions of things and fucking with people’s heads. But even if you hear him describe his music, he talks about it like paintings. It’s visual for him. Which I found really interesting. I saw some interview with him where he was talking about creating the beats and he’s like, “I’m making a painting here.” When it comes down to it, if you had to pinpoint one thing, is it making musicals? Is it telling stories? Is it filling in the gaps of American and New York history? Is it being part of a musical theater lineage that connects you to people like Sondheim and Hammerstein? Well, I’ve learned an enormous amount from that lineage, quite literally. Getting to work with [Stephen] Sondheim. Getting to talk to [John] Kander. Getting to talk to Sheldon Harnick. These are the guys that do it the best. That’s the thing the theater affords you. I don’t think Hollywood really affords you that, or even music. Because everyone kind of works in their own world. There’s a Nashville world, there’s an Atlanta world, there’s an L.A. world. But everyone that’s the best at this works in these blocks. These 15 blocks. And so I’ve been the beneficiary of an enormous amount of knowledge from that. I’ll tell you, the person I talk to the most about the show is John Weidman, who wrote the book to Assassins and Pacific Overtures. And I have emails to him where I’m like, “I’m getting lost in the research and I feel like I’m fucking drowning.” And he was super encouraging. And I think that’s just true of musical theater. I talk about this with Tommy [Kail, the director of Hamilton] a lot. Directors don’t ever get to work together. Like, there can be collegiality, but they’re all up for the same gigs. I can’t write Next to Normal. I can’t write Fiddler. It wouldn’t come out of me like that. And I also think because composers know they have to collaborate for the theater, composers for the theater are among the most generous creative artists I’ve ever met. Because there’s no competition between me and Bobby Lopez, you give us the same assignment, we’re going to write two totally different things. So we could just be friends and talk about that shit. And so, I find it a very welcoming world. And a world to learn from. That being said, there’s other shit I want to write. It’s interesting, I think of it as, What’s the thing that’s not in the world that should be in the world? Heights is very much like, there should be a show with Latino people where we aren’t gang members and drug dealers, because that’s been super well represented already. We’re good on that. What’s the other thing? With this, I read that book [Alexander Hamilton by Ron Chernow] and it was such a perfect marriage of form and subject, and it was like, this music is the only way you can tell this guy’s story. You could do a Les Mis–type musical about Hamilton, but it would have to be 12 hours long, because the amount of words on the bars when you’re writing a typical song — that’s maybe got 10 words per line. Whereas here we can cram all this shit in all the margins. One of the last things I wrote for the show was one more fast rap for Lafayette, before he hands off a letter. Because I had Daveed. And he’s just the fucking best. And there was an opportunity. It was just them vamping, like, “Get your right-hand man back, unh, get your right-hand man back [scratches].” And it was like, no — we will fill that with stuff. It’s like Mad Magazine, where Sergio Aragonés is drawing cartoons in between the cartoons. There’s a lot of that in the show. I could just fill it with everything I think I know and the story allows that because it’s such a rich story. So, OK, I’m going to write a “Peter Piper”–type rap for “Washington on Your Side” and have them all trading back and forth, yeah. It allowed me to make a paella because it’s so rich. One of the great buried ledes is how it does come back to New York, how it comes back uptown.  A detail that I couldn’t get into the show. It ends with Eliza [Hamilton] and it’s all about her 50 years alive after Hamilton died. Something else: Eliza established the first school in Washington Heights. Really? Yeah. And we had a line. And I put it in, where it was like “the first school” — and they went, in Washington Heights. I took the melody from my own shit in In the Heights, but it was just too on the nose. You just can’t. Even though it’s historically true, I can’t actually say “in Washington Heights” at the end of my fucking show. But it was there to be mine. You didn’t even make it up. So imagine, I’m reading this book. And then I read that in the closing chapter. It was a confirmation — I was supposed to do this. I did find it fascinating that one of the artists you’ve cited as a musical influence, and you can hear it from time to time, is Outkast. For me, Outkast did what both Rent and Wesleyan did for you: They taught me I could write and that I could write about home. Part of my job is to tell a story about my home when I’m not there. Because once you leave, you become a representative of what a lot of people know about a place, and people are going to take cues about a place off of what they get from me. You’re an ambassador. They gave a lot of people that confidence to do that about their home. That’s part of their arc. They’re our Lennon and McCartney. They’re hip-hop’s Lennon and McCartney. Down to the double album where they each do one thing, which was like the “White Album.” And you’re just grateful that they did shit together as long as they did. I’ve always treated everything we’ve gotten in recent years as playing with house money. Just grateful for anything. I remember one of my best friends from high school played me Southernplayalisticadillacmuzik, when I was too young to even fully absorb it. What I knew was all East Coast hip-hop. And nothing else would go into my brain, like, my body rejected it, was like “I don’t know what this is.” I literally don’t understand what’s happening, didn’t process it. And then Aquemini came out my freshman year of college. And it was the soundtrack of college. And then by Stankonia, it was all I listened to. This may be a tangent, but I think about Andre 3000’s verses on all these random songs as these little orphans. Like someone needs to put them together. Like, “Sixteen” on the Rick Ross album is the most incredible thing I’ve ever heard in my life: “while I’m jelly beans descending / into the palms of a child,” like what the fuck is even happening? And it’s hiding inside a Rick Ross song. And “Walk It Out.” And “Pink Matter.” How did you decide to essentially make Hamilton without dialogue? We actually went down the road with a playwright. There’s a version of Act 1 where we had songs and they were the songs that are in the show, but we found that if you start with our opening number, you can’t go back to speech. The ball is just thrown too high in the air. So then the challenge for me became, how do I write scenes that still have this hip-hop feel? And that’s when I would listen to “Friend or Foe” by Jay Z on a loop. And like, most people if they’re writing hip-hop for theater, think it needs to sound a certain way. And that’s where growing up with hip-hop actually comes in handy, because we know it contains everything. I can write the most conversational, Reasonable Doubt–era Jay-Z: “Don’t do that, you makin’ me nervous / my crew, well, they do pack / them dudes is murderers.” That level of conversationalism is what you’re trying for in the scenes. But then there’s the songs that are heightened. Something that happens so often with minority figures, in the arts or otherwise, is this sense of responsibility. Have you wrestled with that? I’m sure you felt it in In the Heights, too. I did, and I got pitched every Latin-themed anything that was coming from anywhere. So, we’re not Hollywood actors, in that we do the thing once and then we hope they like our movie in a year. We’re chefs. And not like Raekwon, like we got a five-star review and you’re coming to see our show tonight and we’ve got to cook the same meal for you that we cooked for the critic that gave us the five-star review. It has to keep going, and it keeps you humbled. I’m drinking this shit that’s fucking terrible with parsley and lemon and ginger and swiss chard, because it’s good for me. Because you have to keep making the meal. Just the work of that is humbling. But the relaxing two hours and 45 minutes of my day or spent during the show, because I’m not supposed to be doing anything else but that. Everything else is crazy. Good crazy or bad crazy? Just, Gerard Butler standing next to Justice Kennedy crazy. It’s famous person Mad Libs. Every night is Mad Libs. But also, you don’t ever want to get used to it or take it for granted. You want to be pinching yourself the whole time. There was a rapper that was supposed to be coming — not going to give his name up because he’ll come eventually. Anyway, they were trying to get him in, it was tough to get him a ticket, I helped get him a ticket, I literally kicked a friend out. And then he didn’t show. And I found out like 15 [before the performance]. And I spent the opening number pissed off. I can’t fucking believe I kicked my friend out for this rapper, and then I was like, “I don’t ever want to be the guy who is in my hit Broadway show and mad because the most fam— one of the most famous rappers ever isn’t there. I have to get that shit out of my system. Check your priv. It was the ultimate check my priv. I almost got hit with a chair [during] the number and I was like, “OK, check your privilege.” I can’t be in that headspace and make this thing. So doing the show keeps you honest, keeps you humble and focused and grounded. This interview has been condensed and edited. This post has been updated to correct one name and clarify another. Tom Kitt composed the music for Bring It On, and Tommy Kail is the director of Hamilton.\n",
      "\n",
      "\n",
      "Predicted: Lowe\n",
      "Actual: Lowe\n",
      "Article:\n",
      "\n",
      "\n",
      "Predicted: Simmons\n",
      "Actual: Simmons\n",
      "Article:\n",
      "\n",
      "\n",
      "Predicted: Sharp\n",
      "Actual: Sharp\n",
      "Article:\n",
      "\n",
      "\n",
      "Predicted: Mays\n",
      "Actual: Mays\n",
      "Article:\n",
      "\n",
      "\n",
      "Predicted: Lowe\n",
      "Actual: Lowe\n",
      "Article:\n",
      "\n",
      "\n",
      "Predicted: Mays\n",
      "Actual: Mays\n",
      "Article:\n",
      "\n",
      "\n",
      "Predicted: Baker\n",
      "Actual: Browne\n",
      "Article:\n",
      "Before TMZ, and even before the Internet, there was celebrity drama. But where was it? And who was involved? And how did people find out? Rembert Browne investigates.  Dixie didn’t show up. You see, on the first go-around in 1989, Dixie was very much present. So present, in fact, she was Delta’s matron of honor. But when it was time for Delta to renew her vows two years later, there was no Dixie. No Jean. No Annie. And not even Meshach. So what in Sugarbaker Design’s name did Delta do? That’s a long story. But what was set in stone — following this re-declaration of love in the summer of 1991 — was that the upcoming sixth season of Designing Women would go forward without Delta Burke.  ??? For five strong years, 1986 to 1991, Designing Women was the most important show in America starring four women who didn’t live in Miami. Considered by some as little more than a Golden Girls knockoff — that show debuted a year earlier, in 1985, to rave reviews, because it’s the most zinger-filled show we’ve ever had — the show struggled at first to find its footing. It bounced around from time slot to time slot, and CBS even threatened to cancel it, but a viewer campaign proved too strong, convincing CBS that the show did have a true audience. And by 1989, coupled back-to-back with Murphy Brown on Monday nights, it became a hit. The show, as you may remember, revolved around two sisters — Julia and Suzanne Sugarbaker — played by Dixie Carter and Delta Burke. Joining the two at their Atlanta interior design firm were Mary Jo Shively (Annie Potts), Charlene Frazier (Jean Smart), and Anthony Bouvier (Meshach Taylor). The infectious onscreen chemistry between the costars suggested that they were friends offscreen. And the hunch was right, because they were. But could it last? That was expertly instigated, as the foursome were guests on The Joan Rivers Show.  Joan: Now, you’re all still very good friends. All Four: Yes. Joan: At this point … so far … well, you know it’s going to start. A few things are clear after watching the cast as a real-life unit. Each woman is independently funny; as a group, the one-upsmanship that we see in the show carried into their real lives. When all cylinders were clicking, as they were in this appearance (and typically on the show, through their characters), it’s hard to top. But it’s also easy to see, with these types of strong personalities occupying one space (especially Dixie and Delta), how it could be an easy breeding ground for drama. Not that it would, but simply that it could.  And it did. ??? “Along with her talent, Delta, 34, carries into life a reputation for fiery southern passion that is as tangible as bayou moss.” —People, 1991  The 1991 People cover story on Delta and Designing Women was, in some ways, the final real-time chapter of the book, emerging the same week that the show began taping its sixth season, its first without Burke. But the early stages of the drama stem from one of the happiest days of Delta’s life, her 1989 marriage to actor Gerald McRaney. According to Burke — speaking to Barbara Walters in 1991 — her husband was the first man who let her, a former Miss Florida beauty queen, feel comfortable in her own skin, the first man who saw beyond her beauty. Around this time, Delta’s weight began to increase, in a way that was noticeable to everyone: the public, the network, the producers, the show’s costars, Delta, and Gerald. According to People, “her [Delta’s] husband stocked a room at home with pounds of chocolate, as a dramatic way of saying he loved her for herself, not for the way she looked.” Unfortunately for Delta, and the show, this weight gain unfairly became the focus for the public, creating a tabloid whirlwind surrounding this idea of Burke “letting herself go.” While some saw Delta’s husband as an enabler of this distraction, the weight gain wasn’t met with an ill response within the show, and thus was not the true reason for the mistrust surrounding McRaney. In fact, the weight gain — while noticeable — was not standing between Delta and her role. In December 1989, the show decided to acknowledge what much of the public had taken to be their business — Delta’s weight — by way of a very special episode, “They Shoot Fat Women, Don’t They?” in which Suzanne returns to her 15-year high school reunion and is ostracized for the weight she has gained. The episode became a landmark in Designing Women history, helping to earn Delta an Emmy nomination — tackling her tabloid drama was seen as a courageous act.  So there was support from her TV family concerning the negative publicity she’d received for her weight gain. But there was something else less-than-peripherally related to Delta’s husband, and again considered to be part of an ever-evolving attempt to prove his love to her. It was McRaney filling his wife’s head with a confidence that would later be seen as arrogance. The end result: Delta Burke convinced that she was the outright star of Designing Women. The issue was, no one else saw it that way.   ??? The most powerful couple in the Designing Women universe was not Burke and her husband Gerald McRaney. That designation would go to the Thomasons, Harry and Linda. The two were co-executive producers of the show; Linda was also the show’s creator. Burke, while a burgeoning star, was but a piece of the puzzle to their Designing Women universe. In the spring of 1990, however, Harry Thomason was approached by Burke’s agent to discuss the reality — or necessity — of that equality. In a classic “he said, he said,” the agent claimed the meeting was to patch up a tense relationship between Burke and the Thomasons; Harry claimed it was about “the emergence of Delta as the star of the show.” Some of this seemed to revolve around the critical acclaim “They Shoot Fat Women, Don’t They?” brought to the series — Burke claimed the episode was her idea, while Linda Bloodworth-Thomason said she had to spend hours convincing Burke that it was a good idea. This was the point at which the private bickering became a public feud. Burke, to her hometown paper, The Orlando Sentinel, on August 2, 1990, the day her Emmy nomination was announced: There are a lot of things wonderful about it, but I have not wanted to be there for some time now. It is not a good workplace, not a good environment … It’s so strange, being part of something that’s so wonderful and so awful at the same time. The Thomasons, responding in a press release: We are all mentally exhausted from the daily trials and tribulations of Delta Burke. As 1990 progressed, Delta said more about the Thomasons in the press, claiming they forced the cast to go on “extreme diets,” and that Harry Thomason had, at one point, locked the cast in a room and screamed at them. The public beef reached its most visible point in November 1990, as Burke joined Barbara Walters for a tell-all conversation — and did so without telling the Thomasons. In this talk with Walters, while focusing much of her critique on the Thomasons, Burke revealed one thing about her costar, Dixie Carter: She was disappointed that Carter, someone she considered a close longtime friend, had publicly sided with the Thomasons. But it wasn’t just Carter siding with the Thomasons, it was the entire cast, ultimately leaving Burke out on her own.  While all of this drama was swirling, Designing Women was at its ratings peak in its fifth season. The week before the Barbara Walters special, Designing Women was the fifth-highest-rated television show. At this same time, however, Burke had asked for a release from her contract, something that was initially perceived to be a negotiation tactic to garner a higher salary. But then she asked to be written out of the show in a series of transitory episodes. The Thomasons, despite the public chaos they were embroiled in, still wanted her character onboard, so they refused. And two months later, in January 1991, Burke sued the Thomasons on the grounds of being written out of an episode as punishment. The public quarrels were reaching a fever pitch — with still months left in the fifth season — but it’s what happened privately a few months later that ultimately signified the beginning of the end. Burke came to the set on March 28 to film her segments, then left. Once she was gone, a meeting with the cast and producers took place, with the purpose of voting on whether Burke should return for the sixth season. The vote was that she shouldn’t. The following week, Harry Thomason wrote a letter to the chairman of Columbia Pictures, asking him to release Burke from her contract. On May 13, 1991, the finale of Season 5 of Designing Women aired, and it was the final time Delta Burke appeared as Suzanne Sugarbaker on Designing Women.  ??? “I’ll be friends with these women for the rest of my life” —Delta Burke, 1986 In 1991, this sure didn’t seem like it would ring true. Designing Women went on for two more seasons, with Burke (and soon Jean Smart) replaced by Julia Duffy and Jan Hooks. But the show was never the same. While pulling in great post-fallout ratings in Season 6, the show tanked in Season 7 and was soon off the air. In the years that passed, some of those lingering beefs from the show’s glory years remained. But time heals. People grow up. There’s beef, and then there’s squashed beef. And eventually, some of the more tense relationships were ultimately patched up. After years of bickering, Burke and Linda Bloodworth-Thomason reunited for the second life of Suzanne Sugarbaker in the 1995 sitcom Women of the House. While the show only lasted a season, its ultimate legacy is the professional and personal mending of fences between the actress and the writer. As for Burke and her costar, onscreen rival, friend turned foe WOE Dixie Carter, their fallout lasted far longer. After not attending the renewal of Burke’s vows in 1991, more than a decade passed before the two began to reconcile. But it happened — privately, and eventually publicly. In 2002, Delta Burke appeared as a guest star on Family Law, a show in which Dixie Carter was a costar.  While their first foray into drama as a unit, it marked the third time Carter and Burke appeared on a show together and the third time they played relatives.1 As the years went on and nostalgia became an increasingly valuable form of currency, the gang found ways to reassemble. Perhaps the most notable was in 2006, when the Museum of Television & Radio (now known as the Paley Center for Media) honored Linda Bloodworth-Thomason and, in doing so, presented a panel with Thomason and her four Designing Women.   There’s nothing like pushing through drama. As the years progress, and the sad reality of death hits the cast of Designing Women (Dixie Carter in 2010, Meshach Taylor and Jan Hooks in 2014), it’s a relief to know that things were patched up voluntarily, instead of at the moment when it’s too late. Long live Designing Women, long live the non-Floridian South, and most importantly, long live beefing and then, years later, learning to laugh about it.\n",
      "\n",
      "\n",
      "Predicted: Mays\n",
      "Actual: Mays\n",
      "Article:\n",
      "\n",
      "\n",
      "Predicted: Sharp\n",
      "Actual: Sharp\n",
      "Article:\n",
      "\n",
      "\n",
      "Predicted: Anderson\n",
      "Actual: Anderson\n",
      "Article:\n",
      "\n",
      "\n",
      "Predicted: Goldsberry\n",
      "Actual: Goldsberry\n",
      "Article:\n",
      "\n",
      "\n",
      "Predicted: Simmons\n",
      "Actual: Simmons\n",
      "Article:\n",
      "\n",
      "\n",
      "Predicted: Sharp\n",
      "Actual: Sharp\n",
      "Article:\n",
      "\n",
      "\n",
      "Predicted: Serrano\n",
      "Actual: Serrano\n",
      "Article:\n",
      "\n",
      "\n",
      "Predicted: Barnwell\n",
      "Actual: Barnwell\n",
      "Article:\n",
      "\n",
      "\n",
      "Predicted: Lowe\n",
      "Actual: Lowe\n",
      "Article:\n",
      "\n",
      "\n",
      "Predicted: Anderson\n",
      "Actual: Anderson\n",
      "Article:\n",
      "\n",
      "\n",
      "Predicted: Browne\n",
      "Actual: Browne\n",
      "Article:\n",
      "\n",
      "\n",
      "Predicted: Serrano\n",
      "Actual: Serrano\n",
      "Article:\n",
      "\n",
      "\n",
      "Predicted: Anderson\n",
      "Actual: Anderson\n",
      "Article:\n",
      "\n",
      "\n",
      "Predicted: Simmons\n",
      "Actual: Simmons\n",
      "Article:\n",
      "\n",
      "\n",
      "Predicted: Serrano\n",
      "Actual: Serrano\n",
      "Article:\n",
      "\n",
      "\n",
      "Predicted: Goldsberry\n",
      "Actual: Goldsberry\n",
      "Article:\n",
      "\n",
      "\n",
      "Predicted: Lowe\n",
      "Actual: Lowe\n",
      "Article:\n",
      "\n",
      "\n",
      "Predicted: Goldsberry\n",
      "Actual: Goldsberry\n",
      "Article:\n",
      "\n",
      "\n",
      "Predicted: Browne\n",
      "Actual: Browne\n",
      "Article:\n",
      "\n",
      "\n",
      "Predicted: Lowe\n",
      "Actual: Lowe\n",
      "Article:\n",
      "\n",
      "\n",
      "Predicted: Simmons\n",
      "Actual: Simmons\n",
      "Article:\n",
      "\n",
      "\n",
      "Predicted: Goldsberry\n",
      "Actual: Goldsberry\n",
      "Article:\n",
      "\n",
      "\n"
     ]
    },
    {
     "ename": "TypeError",
     "evalue": "unsupported operand type(s) for +: 'int' and 'str'",
     "output_type": "error",
     "traceback": [
      "\u001b[0;31m---------------------------------------------------------------------------\u001b[0m",
      "\u001b[0;31mTypeError\u001b[0m                                 Traceback (most recent call last)",
      "\u001b[0;32m<ipython-input-36-be8e96948a0c>\u001b[0m in \u001b[0;36m<module>\u001b[0;34m()\u001b[0m\n\u001b[1;32m     26\u001b[0m     \u001b[0mprint\u001b[0m\u001b[1;33m(\u001b[0m\u001b[1;34m'\\n'\u001b[0m\u001b[1;33m)\u001b[0m\u001b[1;33m\u001b[0m\u001b[0m\n\u001b[1;32m     27\u001b[0m \u001b[1;33m\u001b[0m\u001b[0m\n\u001b[0;32m---> 28\u001b[0;31m \u001b[0mprint\u001b[0m\u001b[1;33m(\u001b[0m\u001b[0mcount\u001b[0m \u001b[1;33m+\u001b[0m \u001b[1;34m' articles were Misclassified.'\u001b[0m\u001b[1;33m)\u001b[0m\u001b[1;33m\u001b[0m\u001b[0m\n\u001b[0m",
      "\u001b[0;31mTypeError\u001b[0m: unsupported operand type(s) for +: 'int' and 'str'"
     ]
    }
   ],
   "source": [
    "classifier = LogisticRegression()\n",
    "classifier.fit(train_features_tokenized, authors_train)\n",
    "\n",
    "# test new classifier\n",
    "test_features_tokenized = vectorizer2.transform(articles_test)\n",
    "print(classifier.score(test_features_tokenized, authors_test))\n",
    "\n",
    "\n",
    "count = 0\n",
    "for i in range(len(authors_test)):\n",
    "    content = articles_test[i]\n",
    "    writer = authors_test[i]\n",
    "    \n",
    "    features = vectorizer.transform([content])\n",
    "    prediction = classifier.predict(test_features_tokenized)[i]\n",
    "    \n",
    "    print('Predicted:', prediction)\n",
    "    print('Actual:', writer)\n",
    "    print('Article:')\n",
    "    \n",
    "    \n",
    "\n",
    "    if prediction != writer:\n",
    "        print(content)\n",
    "        count += 1\n",
    "    print('\\n')\n",
    "    \n",
    "print(count + ' articles were Misclassified.')"
   ]
  },
  {
   "cell_type": "markdown",
   "metadata": {},
   "source": [
    "Of the 60 articles in the test set, 6 were misclassified by the Logistic Regression Model."
   ]
  },
  {
   "cell_type": "markdown",
   "metadata": {},
   "source": [
    "Andrew Sharp was misclassified once as Katie Baker once. Sharp primarily covers the NBA, but his article discussing the intersection of the government and stadium financing must have deviated from his normal writing style enough to throw off the classifier.\n",
    "\n",
    "Bill Barnwell was misclassified twice as Robert Mays. Both of these writers primarily cover the NFL and deploy similar articles. \n",
    "\n",
    "Rembert Browne was misclassified twice, once as Shea Serrano and another as Katie Baker. Serrano and Browne both write primarily about pop culture and their mixup is understandable.\n",
    "\n",
    "Kirk Goldsberry was misclassified once as Robert Mays. Goldsberry writes about both the NBA and the NFL. One of Goldsberry's NFL articles must have resembled Mays' just enough to mess up the classification."
   ]
  },
  {
   "cell_type": "markdown",
   "metadata": {},
   "source": [
    "## Clustering"
   ]
  },
  {
   "cell_type": "code",
   "execution_count": 146,
   "metadata": {
    "collapsed": true
   },
   "outputs": [],
   "source": [
    "from sklearn.feature_extraction.text import TfidfVectorizer\n",
    "\n",
    "from nltk.corpus import stopwords\n",
    "from sklearn.cluster import AffinityPropagation\n",
    "from sklearn.decomposition import TruncatedSVD\n",
    "from sklearn.feature_extraction.text import HashingVectorizer\n",
    "from sklearn.feature_extraction.text import TfidfTransformer\n",
    "from sklearn.pipeline import make_pipeline\n",
    "from sklearn.preprocessing import Normalizer\n",
    "from sklearn import metrics"
   ]
  },
  {
   "cell_type": "code",
   "execution_count": 141,
   "metadata": {
    "collapsed": true
   },
   "outputs": [],
   "source": [
    "df = pd.DataFrame({'article':articles, 'cluster':clusters, 'topic':topics, 'author':authors})"
   ]
  },
  {
   "cell_type": "code",
   "execution_count": 142,
   "metadata": {
    "collapsed": true
   },
   "outputs": [],
   "source": [
    "replace_topics = {\n",
    "    'NBA': ['2015 NBA Preview', '2015 NBA Playoffs'],\n",
    "    'NFL': ['2015 NFL Preview', '2015 NFL Playoffs', 'New England Patriots'],\n",
    "    'NHL': ['2015 NHL Playoffs'],\n",
    "    'College Football': ['2015 College Football Preview'],\n",
    "    'MLB': ['2015 MLB Playoffs'],\n",
    "    'Soccer': [\"2015 Women's World Cup\"]\n",
    "}"
   ]
  },
  {
   "cell_type": "code",
   "execution_count": 143,
   "metadata": {
    "collapsed": false
   },
   "outputs": [
    {
     "name": "stderr",
     "output_type": "stream",
     "text": [
      "C:\\Users\\johna\\Anaconda3\\lib\\site-packages\\ipykernel\\__main__.py:5: SettingWithCopyWarning: \n",
      "A value is trying to be set on a copy of a slice from a DataFrame\n",
      "\n",
      "See the caveats in the documentation: http://pandas.pydata.org/pandas-docs/stable/indexing.html#indexing-view-versus-copy\n"
     ]
    }
   ],
   "source": [
    "# replaces certain categories with broder term\n",
    "for topic in df.topic:\n",
    "    for k, v in replace_topics.items():\n",
    "        if topic in v:\n",
    "            df.topic[df.topic == topic] = k"
   ]
  },
  {
   "cell_type": "code",
   "execution_count": 151,
   "metadata": {
    "collapsed": false
   },
   "outputs": [],
   "source": [
    "tfidf_vectorizer = TfidfVectorizer(tokenizer=tokenize_and_stem,\n",
    "                            stop_words=stopwords.words('english'),\n",
    "                            max_df=0.5,\n",
    "                            min_df=0.1,\n",
    "                            lowercase=True)"
   ]
  },
  {
   "cell_type": "code",
   "execution_count": 147,
   "metadata": {
    "collapsed": true
   },
   "outputs": [],
   "source": [
    "labels = df.author\n",
    "true_k = np.unique(labels).shape[0]"
   ]
  },
  {
   "cell_type": "code",
   "execution_count": 152,
   "metadata": {
    "collapsed": false
   },
   "outputs": [],
   "source": [
    "X = tfidf_vectorizer.fit_transform(df['article'])"
   ]
  },
  {
   "cell_type": "code",
   "execution_count": 153,
   "metadata": {
    "collapsed": true
   },
   "outputs": [],
   "source": [
    "svd = TruncatedSVD(true_k)\n",
    "lsa = make_pipeline(svd,Normalizer(copy=False))"
   ]
  },
  {
   "cell_type": "code",
   "execution_count": 154,
   "metadata": {
    "collapsed": true
   },
   "outputs": [],
   "source": [
    "X = lsa.fit_transform(X)"
   ]
  },
  {
   "cell_type": "code",
   "execution_count": 156,
   "metadata": {
    "collapsed": false
   },
   "outputs": [
    {
     "data": {
      "text/plain": [
       "KMeans(algorithm='auto', copy_x=True, init='k-means++', max_iter=100,\n",
       "    n_clusters=10, n_init=10, n_jobs=1, precompute_distances='auto',\n",
       "    random_state=None, tol=0.0001, verbose=0)"
      ]
     },
     "execution_count": 156,
     "metadata": {},
     "output_type": "execute_result"
    }
   ],
   "source": [
    "km = KMeans(n_clusters=true_k, init='k-means++', max_iter=100)\n",
    "km.fit(X)"
   ]
  },
  {
   "cell_type": "code",
   "execution_count": 157,
   "metadata": {
    "collapsed": false
   },
   "outputs": [
    {
     "data": {
      "text/plain": [
       "array([6, 6, 6, 6, 6, 5, 6, 6, 5, 5, 6, 6, 6, 6, 6, 6, 6, 5, 6, 6, 3, 5, 5,\n",
       "       3, 9, 3, 5, 3, 3, 3, 5, 3, 3, 3, 3, 3, 3, 3, 3, 3, 0, 0, 0, 0, 0, 0,\n",
       "       9, 9, 0, 9, 0, 0, 0, 0, 0, 0, 0, 0, 0, 9, 8, 8, 8, 4, 8, 8, 8, 8, 4,\n",
       "       8, 4, 8, 4, 4, 5, 8, 8, 4, 8, 8, 7, 7, 7, 7, 1, 7, 1, 7, 7, 7, 7, 0,\n",
       "       7, 7, 7, 1, 7, 7, 7, 7, 2, 3, 1, 2, 1, 2, 2, 2, 2, 1, 2, 2, 2, 2, 2,\n",
       "       2, 2, 2, 2, 2, 0, 0, 0, 0, 0, 0, 0, 0, 0, 9, 0, 0, 0, 0, 0, 0, 5, 5,\n",
       "       0, 0, 4, 8, 4, 4, 8, 8, 8, 4, 4, 4, 4, 4, 4, 4, 8, 4, 4, 4, 4, 8, 1,\n",
       "       1, 1, 9, 1, 1, 9, 5, 5, 9, 1, 1, 1, 9, 5, 5, 1, 5, 5, 5, 9, 9, 9, 9,\n",
       "       1, 9, 9, 1, 1, 1, 1, 9, 1, 9, 9, 1, 1, 1, 9, 9])"
      ]
     },
     "execution_count": 157,
     "metadata": {},
     "output_type": "execute_result"
    }
   ],
   "source": [
    "km.labels_"
   ]
  },
  {
   "cell_type": "code",
   "execution_count": 218,
   "metadata": {
    "collapsed": false
   },
   "outputs": [
    {
     "data": {
      "text/plain": [
       "(array([ 34.,  24.,  16.,  16.,  20.,  18.,  16.,  16.,  19.,  21.]),\n",
       " array([ 0. ,  0.9,  1.8,  2.7,  3.6,  4.5,  5.4,  6.3,  7.2,  8.1,  9. ]),\n",
       " <a list of 10 Patch objects>)"
      ]
     },
     "execution_count": 218,
     "metadata": {},
     "output_type": "execute_result"
    },
    {
     "data": {
      "image/png": "[encoded data removed]",
      "text/plain": [
       "<matplotlib.figure.Figure at 0x18726661128>"
      ]
     },
     "metadata": {},
     "output_type": "display_data"
    }
   ],
   "source": [
    "plt.hist(km.labels_)"
   ]
  },
  {
   "cell_type": "code",
   "execution_count": 158,
   "metadata": {
    "collapsed": false
   },
   "outputs": [
    {
     "data": {
      "text/plain": [
       "0.70097604203912434"
      ]
     },
     "execution_count": 158,
     "metadata": {},
     "output_type": "execute_result"
    }
   ],
   "source": [
    "# metric of label giving ground truth\n",
    "metrics.homogeneity_score(labels, km.labels_)"
   ]
  },
  {
   "cell_type": "code",
   "execution_count": 159,
   "metadata": {
    "collapsed": false
   },
   "outputs": [
    {
     "data": {
      "text/plain": [
       "0.71068204472693297"
      ]
     },
     "execution_count": 159,
     "metadata": {},
     "output_type": "execute_result"
    }
   ],
   "source": [
    "metrics.completeness_score(labels, km.labels_)"
   ]
  },
  {
   "cell_type": "code",
   "execution_count": 160,
   "metadata": {
    "collapsed": false
   },
   "outputs": [
    {
     "data": {
      "text/plain": [
       "0.70579567606517069"
      ]
     },
     "execution_count": 160,
     "metadata": {},
     "output_type": "execute_result"
    }
   ],
   "source": [
    "metrics.v_measure_score(labels, km.labels_)"
   ]
  },
  {
   "cell_type": "code",
   "execution_count": 161,
   "metadata": {
    "collapsed": false
   },
   "outputs": [
    {
     "data": {
      "text/plain": [
       "0.50918846867345591"
      ]
     },
     "execution_count": 161,
     "metadata": {},
     "output_type": "execute_result"
    }
   ],
   "source": [
    "# rand index adjusted for change\n",
    "metrics.adjusted_rand_score(labels, km.labels_)"
   ]
  },
  {
   "cell_type": "code",
   "execution_count": 205,
   "metadata": {
    "collapsed": false
   },
   "outputs": [],
   "source": [
    "df['k'] = km.labels_"
   ]
  },
  {
   "cell_type": "code",
   "execution_count": 209,
   "metadata": {
    "collapsed": false
   },
   "outputs": [
    {
     "data": {
      "text/html": [
       "<div>\n",
       "<table border=\"1\" class=\"dataframe\">\n",
       "  <thead>\n",
       "    <tr style=\"text-align: right;\">\n",
       "      <th>author</th>\n",
       "      <th>Anderson</th>\n",
       "      <th>Baker</th>\n",
       "      <th>Barnwell</th>\n",
       "      <th>Browne</th>\n",
       "      <th>Goldsberry</th>\n",
       "      <th>Lowe</th>\n",
       "      <th>Mays</th>\n",
       "      <th>Serrano</th>\n",
       "      <th>Sharp</th>\n",
       "      <th>Simmons</th>\n",
       "    </tr>\n",
       "    <tr>\n",
       "      <th>k</th>\n",
       "      <th></th>\n",
       "      <th></th>\n",
       "      <th></th>\n",
       "      <th></th>\n",
       "      <th></th>\n",
       "      <th></th>\n",
       "      <th></th>\n",
       "      <th></th>\n",
       "      <th></th>\n",
       "      <th></th>\n",
       "    </tr>\n",
       "  </thead>\n",
       "  <tbody>\n",
       "    <tr>\n",
       "      <th>0</th>\n",
       "      <td>0</td>\n",
       "      <td>0</td>\n",
       "      <td>16</td>\n",
       "      <td>0</td>\n",
       "      <td>1</td>\n",
       "      <td>0</td>\n",
       "      <td>17</td>\n",
       "      <td>0</td>\n",
       "      <td>0</td>\n",
       "      <td>0</td>\n",
       "    </tr>\n",
       "    <tr>\n",
       "      <th>1</th>\n",
       "      <td>0</td>\n",
       "      <td>0</td>\n",
       "      <td>0</td>\n",
       "      <td>0</td>\n",
       "      <td>3</td>\n",
       "      <td>3</td>\n",
       "      <td>0</td>\n",
       "      <td>0</td>\n",
       "      <td>9</td>\n",
       "      <td>9</td>\n",
       "    </tr>\n",
       "    <tr>\n",
       "      <th>2</th>\n",
       "      <td>0</td>\n",
       "      <td>0</td>\n",
       "      <td>0</td>\n",
       "      <td>0</td>\n",
       "      <td>0</td>\n",
       "      <td>16</td>\n",
       "      <td>0</td>\n",
       "      <td>0</td>\n",
       "      <td>0</td>\n",
       "      <td>0</td>\n",
       "    </tr>\n",
       "    <tr>\n",
       "      <th>3</th>\n",
       "      <td>0</td>\n",
       "      <td>15</td>\n",
       "      <td>0</td>\n",
       "      <td>0</td>\n",
       "      <td>0</td>\n",
       "      <td>1</td>\n",
       "      <td>0</td>\n",
       "      <td>0</td>\n",
       "      <td>0</td>\n",
       "      <td>0</td>\n",
       "    </tr>\n",
       "    <tr>\n",
       "      <th>4</th>\n",
       "      <td>0</td>\n",
       "      <td>0</td>\n",
       "      <td>0</td>\n",
       "      <td>6</td>\n",
       "      <td>0</td>\n",
       "      <td>0</td>\n",
       "      <td>0</td>\n",
       "      <td>14</td>\n",
       "      <td>0</td>\n",
       "      <td>0</td>\n",
       "    </tr>\n",
       "    <tr>\n",
       "      <th>5</th>\n",
       "      <td>4</td>\n",
       "      <td>4</td>\n",
       "      <td>0</td>\n",
       "      <td>1</td>\n",
       "      <td>0</td>\n",
       "      <td>0</td>\n",
       "      <td>2</td>\n",
       "      <td>0</td>\n",
       "      <td>7</td>\n",
       "      <td>0</td>\n",
       "    </tr>\n",
       "    <tr>\n",
       "      <th>6</th>\n",
       "      <td>16</td>\n",
       "      <td>0</td>\n",
       "      <td>0</td>\n",
       "      <td>0</td>\n",
       "      <td>0</td>\n",
       "      <td>0</td>\n",
       "      <td>0</td>\n",
       "      <td>0</td>\n",
       "      <td>0</td>\n",
       "      <td>0</td>\n",
       "    </tr>\n",
       "    <tr>\n",
       "      <th>7</th>\n",
       "      <td>0</td>\n",
       "      <td>0</td>\n",
       "      <td>0</td>\n",
       "      <td>0</td>\n",
       "      <td>16</td>\n",
       "      <td>0</td>\n",
       "      <td>0</td>\n",
       "      <td>0</td>\n",
       "      <td>0</td>\n",
       "      <td>0</td>\n",
       "    </tr>\n",
       "    <tr>\n",
       "      <th>8</th>\n",
       "      <td>0</td>\n",
       "      <td>0</td>\n",
       "      <td>0</td>\n",
       "      <td>13</td>\n",
       "      <td>0</td>\n",
       "      <td>0</td>\n",
       "      <td>0</td>\n",
       "      <td>6</td>\n",
       "      <td>0</td>\n",
       "      <td>0</td>\n",
       "    </tr>\n",
       "    <tr>\n",
       "      <th>9</th>\n",
       "      <td>0</td>\n",
       "      <td>1</td>\n",
       "      <td>4</td>\n",
       "      <td>0</td>\n",
       "      <td>0</td>\n",
       "      <td>0</td>\n",
       "      <td>1</td>\n",
       "      <td>0</td>\n",
       "      <td>4</td>\n",
       "      <td>11</td>\n",
       "    </tr>\n",
       "  </tbody>\n",
       "</table>\n",
       "</div>"
      ],
      "text/plain": [
       "author  Anderson  Baker  Barnwell  Browne  Goldsberry  Lowe  Mays  Serrano  \\\n",
       "k                                                                            \n",
       "0              0      0        16       0           1     0    17        0   \n",
       "1              0      0         0       0           3     3     0        0   \n",
       "2              0      0         0       0           0    16     0        0   \n",
       "3              0     15         0       0           0     1     0        0   \n",
       "4              0      0         0       6           0     0     0       14   \n",
       "5              4      4         0       1           0     0     2        0   \n",
       "6             16      0         0       0           0     0     0        0   \n",
       "7              0      0         0       0          16     0     0        0   \n",
       "8              0      0         0      13           0     0     0        6   \n",
       "9              0      1         4       0           0     0     1        0   \n",
       "\n",
       "author  Sharp  Simmons  \n",
       "k                       \n",
       "0           0        0  \n",
       "1           9        9  \n",
       "2           0        0  \n",
       "3           0        0  \n",
       "4           0        0  \n",
       "5           7        0  \n",
       "6           0        0  \n",
       "7           0        0  \n",
       "8           0        0  \n",
       "9           4       11  "
      ]
     },
     "execution_count": 209,
     "metadata": {},
     "output_type": "execute_result"
    }
   ],
   "source": [
    "pd.crosstab(df['k'], df['author'])"
   ]
  },
  {
   "cell_type": "code",
   "execution_count": 210,
   "metadata": {
    "collapsed": false
   },
   "outputs": [
    {
     "data": {
      "text/html": [
       "<div>\n",
       "<table border=\"1\" class=\"dataframe\">\n",
       "  <thead>\n",
       "    <tr style=\"text-align: right;\">\n",
       "      <th>topic</th>\n",
       "      <th>2015 NCAA Tournament</th>\n",
       "      <th>Booze</th>\n",
       "      <th>College Football</th>\n",
       "      <th>D-Bags</th>\n",
       "      <th>MLB</th>\n",
       "      <th>Movies</th>\n",
       "      <th>Music</th>\n",
       "      <th>NBA</th>\n",
       "      <th>NFL</th>\n",
       "      <th>NHL</th>\n",
       "      <th>Papal Affairs</th>\n",
       "      <th>Soccer</th>\n",
       "      <th>TV</th>\n",
       "      <th>The Great Outdoors</th>\n",
       "      <th>Theater</th>\n",
       "      <th>UFC</th>\n",
       "    </tr>\n",
       "    <tr>\n",
       "      <th>k</th>\n",
       "      <th></th>\n",
       "      <th></th>\n",
       "      <th></th>\n",
       "      <th></th>\n",
       "      <th></th>\n",
       "      <th></th>\n",
       "      <th></th>\n",
       "      <th></th>\n",
       "      <th></th>\n",
       "      <th></th>\n",
       "      <th></th>\n",
       "      <th></th>\n",
       "      <th></th>\n",
       "      <th></th>\n",
       "      <th></th>\n",
       "      <th></th>\n",
       "    </tr>\n",
       "  </thead>\n",
       "  <tbody>\n",
       "    <tr>\n",
       "      <th>0</th>\n",
       "      <td>0</td>\n",
       "      <td>0</td>\n",
       "      <td>0</td>\n",
       "      <td>0</td>\n",
       "      <td>0</td>\n",
       "      <td>0</td>\n",
       "      <td>0</td>\n",
       "      <td>0</td>\n",
       "      <td>34</td>\n",
       "      <td>0</td>\n",
       "      <td>0</td>\n",
       "      <td>0</td>\n",
       "      <td>0</td>\n",
       "      <td>0</td>\n",
       "      <td>0</td>\n",
       "      <td>0</td>\n",
       "    </tr>\n",
       "    <tr>\n",
       "      <th>1</th>\n",
       "      <td>0</td>\n",
       "      <td>0</td>\n",
       "      <td>0</td>\n",
       "      <td>0</td>\n",
       "      <td>0</td>\n",
       "      <td>0</td>\n",
       "      <td>0</td>\n",
       "      <td>24</td>\n",
       "      <td>0</td>\n",
       "      <td>0</td>\n",
       "      <td>0</td>\n",
       "      <td>0</td>\n",
       "      <td>0</td>\n",
       "      <td>0</td>\n",
       "      <td>0</td>\n",
       "      <td>0</td>\n",
       "    </tr>\n",
       "    <tr>\n",
       "      <th>2</th>\n",
       "      <td>0</td>\n",
       "      <td>0</td>\n",
       "      <td>0</td>\n",
       "      <td>0</td>\n",
       "      <td>0</td>\n",
       "      <td>0</td>\n",
       "      <td>0</td>\n",
       "      <td>16</td>\n",
       "      <td>0</td>\n",
       "      <td>0</td>\n",
       "      <td>0</td>\n",
       "      <td>0</td>\n",
       "      <td>0</td>\n",
       "      <td>0</td>\n",
       "      <td>0</td>\n",
       "      <td>0</td>\n",
       "    </tr>\n",
       "    <tr>\n",
       "      <th>3</th>\n",
       "      <td>0</td>\n",
       "      <td>0</td>\n",
       "      <td>0</td>\n",
       "      <td>0</td>\n",
       "      <td>2</td>\n",
       "      <td>0</td>\n",
       "      <td>0</td>\n",
       "      <td>0</td>\n",
       "      <td>0</td>\n",
       "      <td>12</td>\n",
       "      <td>0</td>\n",
       "      <td>2</td>\n",
       "      <td>0</td>\n",
       "      <td>0</td>\n",
       "      <td>0</td>\n",
       "      <td>0</td>\n",
       "    </tr>\n",
       "    <tr>\n",
       "      <th>4</th>\n",
       "      <td>0</td>\n",
       "      <td>0</td>\n",
       "      <td>0</td>\n",
       "      <td>0</td>\n",
       "      <td>0</td>\n",
       "      <td>13</td>\n",
       "      <td>0</td>\n",
       "      <td>0</td>\n",
       "      <td>0</td>\n",
       "      <td>0</td>\n",
       "      <td>2</td>\n",
       "      <td>0</td>\n",
       "      <td>4</td>\n",
       "      <td>0</td>\n",
       "      <td>0</td>\n",
       "      <td>1</td>\n",
       "    </tr>\n",
       "    <tr>\n",
       "      <th>5</th>\n",
       "      <td>0</td>\n",
       "      <td>0</td>\n",
       "      <td>5</td>\n",
       "      <td>1</td>\n",
       "      <td>0</td>\n",
       "      <td>0</td>\n",
       "      <td>0</td>\n",
       "      <td>1</td>\n",
       "      <td>7</td>\n",
       "      <td>2</td>\n",
       "      <td>0</td>\n",
       "      <td>0</td>\n",
       "      <td>1</td>\n",
       "      <td>1</td>\n",
       "      <td>0</td>\n",
       "      <td>0</td>\n",
       "    </tr>\n",
       "    <tr>\n",
       "      <th>6</th>\n",
       "      <td>0</td>\n",
       "      <td>0</td>\n",
       "      <td>16</td>\n",
       "      <td>0</td>\n",
       "      <td>0</td>\n",
       "      <td>0</td>\n",
       "      <td>0</td>\n",
       "      <td>0</td>\n",
       "      <td>0</td>\n",
       "      <td>0</td>\n",
       "      <td>0</td>\n",
       "      <td>0</td>\n",
       "      <td>0</td>\n",
       "      <td>0</td>\n",
       "      <td>0</td>\n",
       "      <td>0</td>\n",
       "    </tr>\n",
       "    <tr>\n",
       "      <th>7</th>\n",
       "      <td>2</td>\n",
       "      <td>0</td>\n",
       "      <td>0</td>\n",
       "      <td>0</td>\n",
       "      <td>0</td>\n",
       "      <td>0</td>\n",
       "      <td>0</td>\n",
       "      <td>14</td>\n",
       "      <td>0</td>\n",
       "      <td>0</td>\n",
       "      <td>0</td>\n",
       "      <td>0</td>\n",
       "      <td>0</td>\n",
       "      <td>0</td>\n",
       "      <td>0</td>\n",
       "      <td>0</td>\n",
       "    </tr>\n",
       "    <tr>\n",
       "      <th>8</th>\n",
       "      <td>0</td>\n",
       "      <td>1</td>\n",
       "      <td>0</td>\n",
       "      <td>0</td>\n",
       "      <td>0</td>\n",
       "      <td>1</td>\n",
       "      <td>16</td>\n",
       "      <td>0</td>\n",
       "      <td>0</td>\n",
       "      <td>0</td>\n",
       "      <td>0</td>\n",
       "      <td>0</td>\n",
       "      <td>0</td>\n",
       "      <td>0</td>\n",
       "      <td>1</td>\n",
       "      <td>0</td>\n",
       "    </tr>\n",
       "    <tr>\n",
       "      <th>9</th>\n",
       "      <td>0</td>\n",
       "      <td>0</td>\n",
       "      <td>0</td>\n",
       "      <td>0</td>\n",
       "      <td>0</td>\n",
       "      <td>0</td>\n",
       "      <td>0</td>\n",
       "      <td>0</td>\n",
       "      <td>21</td>\n",
       "      <td>0</td>\n",
       "      <td>0</td>\n",
       "      <td>0</td>\n",
       "      <td>0</td>\n",
       "      <td>0</td>\n",
       "      <td>0</td>\n",
       "      <td>0</td>\n",
       "    </tr>\n",
       "  </tbody>\n",
       "</table>\n",
       "</div>"
      ],
      "text/plain": [
       "topic  2015 NCAA Tournament  Booze  College Football  D-Bags  MLB  Movies  \\\n",
       "k                                                                           \n",
       "0                         0      0                 0       0    0       0   \n",
       "1                         0      0                 0       0    0       0   \n",
       "2                         0      0                 0       0    0       0   \n",
       "3                         0      0                 0       0    2       0   \n",
       "4                         0      0                 0       0    0      13   \n",
       "5                         0      0                 5       1    0       0   \n",
       "6                         0      0                16       0    0       0   \n",
       "7                         2      0                 0       0    0       0   \n",
       "8                         0      1                 0       0    0       1   \n",
       "9                         0      0                 0       0    0       0   \n",
       "\n",
       "topic  Music  NBA  NFL  NHL  Papal Affairs  Soccer  TV  The Great Outdoors  \\\n",
       "k                                                                            \n",
       "0          0    0   34    0              0       0   0                   0   \n",
       "1          0   24    0    0              0       0   0                   0   \n",
       "2          0   16    0    0              0       0   0                   0   \n",
       "3          0    0    0   12              0       2   0                   0   \n",
       "4          0    0    0    0              2       0   4                   0   \n",
       "5          0    1    7    2              0       0   1                   1   \n",
       "6          0    0    0    0              0       0   0                   0   \n",
       "7          0   14    0    0              0       0   0                   0   \n",
       "8         16    0    0    0              0       0   0                   0   \n",
       "9          0    0   21    0              0       0   0                   0   \n",
       "\n",
       "topic  Theater  UFC  \n",
       "k                    \n",
       "0            0    0  \n",
       "1            0    0  \n",
       "2            0    0  \n",
       "3            0    0  \n",
       "4            0    1  \n",
       "5            0    0  \n",
       "6            0    0  \n",
       "7            0    0  \n",
       "8            1    0  \n",
       "9            0    0  "
      ]
     },
     "execution_count": 210,
     "metadata": {},
     "output_type": "execute_result"
    }
   ],
   "source": [
    "pd.crosstab(df['k'], df['topic'])"
   ]
  },
  {
   "cell_type": "markdown",
   "metadata": {},
   "source": [
    "Observations:\n",
    "    - Barnwell and Mays are grouped together very closely as NFL writers.\n",
    "    - Serrano and Browne are grouped together as music and movie writers.\n",
    "    - Sharp and Simmons are grouped together as NBA and NFL writers.\n",
    "    - Zach Lowe is the easiest of the NBA writers to discern.\n",
    "    - Those clustered in group 5 are more miscellaneous writers. NCAA football and NFL are conflated here, as well as topics less easily categorized due to infrequency."
   ]
  },
  {
   "cell_type": "code",
   "execution_count": 219,
   "metadata": {
    "collapsed": false
   },
   "outputs": [],
   "source": [
    "original_space_centroids = svd.inverse_transform(km.cluster_centers_)\n",
    "order_centroids = original_space_centroids.argsort()[:, ::-1]"
   ]
  },
  {
   "cell_type": "code",
   "execution_count": 214,
   "metadata": {
    "collapsed": false
   },
   "outputs": [],
   "source": [
    "terms = tfidf_vectorizer.get_feature_names()"
   ]
  },
  {
   "cell_type": "code",
   "execution_count": 217,
   "metadata": {
    "collapsed": false
   },
   "outputs": [
    {
     "name": "stdout",
     "output_type": "stream",
     "text": [
      "Cluster 0: yard quarterback touchdown footbal throw eagl receiv sack yesterday dvoa nfl field jone percent per bradford cardin dolphin bengal sunday\n",
      "\n",
      "Cluster 1: nba basketbal trade fan lebron love rocket shot spur lotteri seri clipper houston month round boston harden cleveland philli mayb\n",
      "\n",
      "Cluster 2: million nba deal cap trade thompson shot shoot per percent contract free forward space salari 3s defend wing philli money\n",
      "\n",
      "Cluster 3: goal cup cooper fan tampa score period seri ice york arena lead minut net bay chicago johnson confer took home\n",
      "\n",
      "Cluster 4: movi kill die charact kid love old ask girl person walk dad space insid jame life houston super fuck film\n",
      "\n",
      "Cluster 5: footbal nfl quarterback state sport colleg bradford stadium fan august kelli athlet predict local program bowl florida million receiv money\n",
      "\n",
      "Cluster 6: state espn footbal saturday texa 8 7 alabama florida program south colleg confer quarterback kansa carolina schedul weekend visit oklahoma\n",
      "\n",
      "Cluster 7: shot nba percent shooter shoot curri assist per attempt 3s jordan score effici basketbal paul possess chart goal jumper averag\n",
      "\n",
      "Cluster 8: song music video rap danc movi listen jay cool love world true human march boy brown month smith scream free\n",
      "\n",
      "Cluster 9: bowl nfl patriot bradi super fan footbal seahawk yard raven qb seattl lion colt giant believ sport percent quarterback wilson\n",
      "\n"
     ]
    }
   ],
   "source": [
    "for i in range(true_k):\n",
    "    print(\"Cluster %d:\" % i, end='')\n",
    "    for ind in order_centroids[i, :20]:\n",
    "        print(' %s' % terms[ind], end='')\n",
    "    print('\\n')"
   ]
  },
  {
   "cell_type": "markdown",
   "metadata": {},
   "source": [
    "The 10 clusters created in our K Means model should correspond to the writings of the 10 authors. The 20 most popular words in each cluster are shown above.\n",
    "\n",
    "Clusters 0, 5, and 9 deal primarily with the NFL.\n",
    "\n",
    "Clusters 1, 2, and 7 deal primarily with the NBA.\n",
    "\n",
    "Cluster 8's main focus is Music.\n",
    "\n",
    "Cluster 4's main focus is movie talk. \n",
    "\n",
    "Cluster 6's main focus is college football."
   ]
  },
  {
   "cell_type": "markdown",
   "metadata": {},
   "source": [
    "The least represented topics (Booze, UFC, Papal Affairs) do not show up, as they have less term frequency."
   ]
  },
  {
   "cell_type": "code",
   "execution_count": null,
   "metadata": {
    "collapsed": true
   },
   "outputs": [],
   "source": []
  }
 ],
 "metadata": {
  "kernelspec": {
   "display_name": "Python 3",
   "language": "python",
   "name": "python3"
  },
  "language_info": {
   "codemirror_mode": {
    "name": "ipython",
    "version": 3
   },
   "file_extension": ".py",
   "mimetype": "text/x-python",
   "name": "python",
   "nbconvert_exporter": "python",
   "pygments_lexer": "ipython3",
   "version": "3.6.0"
  }
 },
 "nbformat": 4,
 "nbformat_minor": 2
}
