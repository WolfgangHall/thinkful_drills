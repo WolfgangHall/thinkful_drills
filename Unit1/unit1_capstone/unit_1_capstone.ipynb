{
 "cells": [
  {
   "cell_type": "code",
   "execution_count": 1,
   "metadata": {
    "collapsed": false,
    "deletable": true,
    "editable": true
   },
   "outputs": [],
   "source": [
    "import numpy as np\n",
    "import pandas as pd\n",
    "import matplotlib.pyplot as plt\n",
    "import seaborn as sns\n",
    "from scipy import stats\n",
    "from statsmodels.sandbox.stats.runs import mcnemar\n",
    "%matplotlib inline"
   ]
  },
  {
   "cell_type": "code",
   "execution_count": 2,
   "metadata": {
    "collapsed": true,
    "deletable": true,
    "editable": true
   },
   "outputs": [],
   "source": [
    "df = pd.read_csv('no-show-issue-300k.csv')"
   ]
  },
  {
   "cell_type": "code",
   "execution_count": 3,
   "metadata": {
    "collapsed": false,
    "deletable": true,
    "editable": true
   },
   "outputs": [],
   "source": [
    "# assigns boolean values to status messages\n",
    "d = {'No-Show': False, 'Show-Up': True}\n",
    "\n",
    "# converts status messages to boolean values\n",
    "df.Status = df.Status.map(d)"
   ]
  },
  {
   "cell_type": "code",
   "execution_count": 4,
   "metadata": {
    "collapsed": false,
    "deletable": true,
    "editable": true
   },
   "outputs": [],
   "source": [
    "# converts waiting time positive integers\n",
    "df.AwaitingTime = df.AwaitingTime.abs()"
   ]
  },
  {
   "cell_type": "code",
   "execution_count": 5,
   "metadata": {
    "collapsed": false,
    "deletable": true,
    "editable": true,
    "scrolled": true
   },
   "outputs": [
    {
     "data": {
      "text/html": [
       "<div>\n",
       "<table border=\"1\" class=\"dataframe\">\n",
       "  <thead>\n",
       "    <tr style=\"text-align: right;\">\n",
       "      <th></th>\n",
       "      <th>Age</th>\n",
       "      <th>Gender</th>\n",
       "      <th>AppointmentRegistration</th>\n",
       "      <th>ApointmentData</th>\n",
       "      <th>DayOfTheWeek</th>\n",
       "      <th>Status</th>\n",
       "      <th>Diabetes</th>\n",
       "      <th>Alcoolism</th>\n",
       "      <th>HiperTension</th>\n",
       "      <th>Handcap</th>\n",
       "      <th>Smokes</th>\n",
       "      <th>Scholarship</th>\n",
       "      <th>Tuberculosis</th>\n",
       "      <th>Sms_Reminder</th>\n",
       "      <th>AwaitingTime</th>\n",
       "    </tr>\n",
       "  </thead>\n",
       "  <tbody>\n",
       "    <tr>\n",
       "      <th>0</th>\n",
       "      <td>19</td>\n",
       "      <td>M</td>\n",
       "      <td>2014-12-16T14:46:25Z</td>\n",
       "      <td>2015-01-14T00:00:00Z</td>\n",
       "      <td>Wednesday</td>\n",
       "      <td>True</td>\n",
       "      <td>0</td>\n",
       "      <td>0</td>\n",
       "      <td>0</td>\n",
       "      <td>0</td>\n",
       "      <td>0</td>\n",
       "      <td>0</td>\n",
       "      <td>0</td>\n",
       "      <td>0</td>\n",
       "      <td>29</td>\n",
       "    </tr>\n",
       "    <tr>\n",
       "      <th>1</th>\n",
       "      <td>24</td>\n",
       "      <td>F</td>\n",
       "      <td>2015-08-18T07:01:26Z</td>\n",
       "      <td>2015-08-19T00:00:00Z</td>\n",
       "      <td>Wednesday</td>\n",
       "      <td>True</td>\n",
       "      <td>0</td>\n",
       "      <td>0</td>\n",
       "      <td>0</td>\n",
       "      <td>0</td>\n",
       "      <td>0</td>\n",
       "      <td>0</td>\n",
       "      <td>0</td>\n",
       "      <td>0</td>\n",
       "      <td>1</td>\n",
       "    </tr>\n",
       "    <tr>\n",
       "      <th>2</th>\n",
       "      <td>4</td>\n",
       "      <td>F</td>\n",
       "      <td>2014-02-17T12:53:46Z</td>\n",
       "      <td>2014-02-18T00:00:00Z</td>\n",
       "      <td>Tuesday</td>\n",
       "      <td>True</td>\n",
       "      <td>0</td>\n",
       "      <td>0</td>\n",
       "      <td>0</td>\n",
       "      <td>0</td>\n",
       "      <td>0</td>\n",
       "      <td>0</td>\n",
       "      <td>0</td>\n",
       "      <td>0</td>\n",
       "      <td>1</td>\n",
       "    </tr>\n",
       "    <tr>\n",
       "      <th>3</th>\n",
       "      <td>5</td>\n",
       "      <td>M</td>\n",
       "      <td>2014-07-23T17:02:11Z</td>\n",
       "      <td>2014-08-07T00:00:00Z</td>\n",
       "      <td>Thursday</td>\n",
       "      <td>True</td>\n",
       "      <td>0</td>\n",
       "      <td>0</td>\n",
       "      <td>0</td>\n",
       "      <td>0</td>\n",
       "      <td>0</td>\n",
       "      <td>0</td>\n",
       "      <td>0</td>\n",
       "      <td>1</td>\n",
       "      <td>15</td>\n",
       "    </tr>\n",
       "    <tr>\n",
       "      <th>4</th>\n",
       "      <td>38</td>\n",
       "      <td>M</td>\n",
       "      <td>2015-10-21T15:20:09Z</td>\n",
       "      <td>2015-10-27T00:00:00Z</td>\n",
       "      <td>Tuesday</td>\n",
       "      <td>True</td>\n",
       "      <td>0</td>\n",
       "      <td>0</td>\n",
       "      <td>0</td>\n",
       "      <td>0</td>\n",
       "      <td>0</td>\n",
       "      <td>0</td>\n",
       "      <td>0</td>\n",
       "      <td>1</td>\n",
       "      <td>6</td>\n",
       "    </tr>\n",
       "    <tr>\n",
       "      <th>5</th>\n",
       "      <td>5</td>\n",
       "      <td>F</td>\n",
       "      <td>2014-06-17T06:47:27Z</td>\n",
       "      <td>2014-07-22T00:00:00Z</td>\n",
       "      <td>Tuesday</td>\n",
       "      <td>False</td>\n",
       "      <td>0</td>\n",
       "      <td>0</td>\n",
       "      <td>0</td>\n",
       "      <td>0</td>\n",
       "      <td>0</td>\n",
       "      <td>0</td>\n",
       "      <td>0</td>\n",
       "      <td>1</td>\n",
       "      <td>35</td>\n",
       "    </tr>\n",
       "    <tr>\n",
       "      <th>6</th>\n",
       "      <td>46</td>\n",
       "      <td>F</td>\n",
       "      <td>2015-06-19T19:53:58Z</td>\n",
       "      <td>2015-07-07T00:00:00Z</td>\n",
       "      <td>Tuesday</td>\n",
       "      <td>True</td>\n",
       "      <td>0</td>\n",
       "      <td>0</td>\n",
       "      <td>0</td>\n",
       "      <td>0</td>\n",
       "      <td>0</td>\n",
       "      <td>0</td>\n",
       "      <td>0</td>\n",
       "      <td>1</td>\n",
       "      <td>18</td>\n",
       "    </tr>\n",
       "    <tr>\n",
       "      <th>7</th>\n",
       "      <td>4</td>\n",
       "      <td>F</td>\n",
       "      <td>2015-08-07T08:19:19Z</td>\n",
       "      <td>2015-08-21T00:00:00Z</td>\n",
       "      <td>Friday</td>\n",
       "      <td>True</td>\n",
       "      <td>0</td>\n",
       "      <td>0</td>\n",
       "      <td>0</td>\n",
       "      <td>0</td>\n",
       "      <td>0</td>\n",
       "      <td>1</td>\n",
       "      <td>0</td>\n",
       "      <td>1</td>\n",
       "      <td>14</td>\n",
       "    </tr>\n",
       "    <tr>\n",
       "      <th>8</th>\n",
       "      <td>20</td>\n",
       "      <td>F</td>\n",
       "      <td>2014-10-14T11:46:36Z</td>\n",
       "      <td>2014-10-28T00:00:00Z</td>\n",
       "      <td>Tuesday</td>\n",
       "      <td>True</td>\n",
       "      <td>0</td>\n",
       "      <td>0</td>\n",
       "      <td>0</td>\n",
       "      <td>0</td>\n",
       "      <td>0</td>\n",
       "      <td>0</td>\n",
       "      <td>0</td>\n",
       "      <td>0</td>\n",
       "      <td>14</td>\n",
       "    </tr>\n",
       "    <tr>\n",
       "      <th>9</th>\n",
       "      <td>51</td>\n",
       "      <td>F</td>\n",
       "      <td>2014-06-13T07:50:43Z</td>\n",
       "      <td>2014-06-17T00:00:00Z</td>\n",
       "      <td>Tuesday</td>\n",
       "      <td>True</td>\n",
       "      <td>1</td>\n",
       "      <td>0</td>\n",
       "      <td>1</td>\n",
       "      <td>0</td>\n",
       "      <td>0</td>\n",
       "      <td>0</td>\n",
       "      <td>0</td>\n",
       "      <td>1</td>\n",
       "      <td>4</td>\n",
       "    </tr>\n",
       "  </tbody>\n",
       "</table>\n",
       "</div>"
      ],
      "text/plain": [
       "   Age Gender AppointmentRegistration        ApointmentData DayOfTheWeek  \\\n",
       "0   19      M    2014-12-16T14:46:25Z  2015-01-14T00:00:00Z    Wednesday   \n",
       "1   24      F    2015-08-18T07:01:26Z  2015-08-19T00:00:00Z    Wednesday   \n",
       "2    4      F    2014-02-17T12:53:46Z  2014-02-18T00:00:00Z      Tuesday   \n",
       "3    5      M    2014-07-23T17:02:11Z  2014-08-07T00:00:00Z     Thursday   \n",
       "4   38      M    2015-10-21T15:20:09Z  2015-10-27T00:00:00Z      Tuesday   \n",
       "5    5      F    2014-06-17T06:47:27Z  2014-07-22T00:00:00Z      Tuesday   \n",
       "6   46      F    2015-06-19T19:53:58Z  2015-07-07T00:00:00Z      Tuesday   \n",
       "7    4      F    2015-08-07T08:19:19Z  2015-08-21T00:00:00Z       Friday   \n",
       "8   20      F    2014-10-14T11:46:36Z  2014-10-28T00:00:00Z      Tuesday   \n",
       "9   51      F    2014-06-13T07:50:43Z  2014-06-17T00:00:00Z      Tuesday   \n",
       "\n",
       "  Status  Diabetes  Alcoolism  HiperTension  Handcap  Smokes  Scholarship  \\\n",
       "0   True         0          0             0        0       0            0   \n",
       "1   True         0          0             0        0       0            0   \n",
       "2   True         0          0             0        0       0            0   \n",
       "3   True         0          0             0        0       0            0   \n",
       "4   True         0          0             0        0       0            0   \n",
       "5  False         0          0             0        0       0            0   \n",
       "6   True         0          0             0        0       0            0   \n",
       "7   True         0          0             0        0       0            1   \n",
       "8   True         0          0             0        0       0            0   \n",
       "9   True         1          0             1        0       0            0   \n",
       "\n",
       "   Tuberculosis  Sms_Reminder  AwaitingTime  \n",
       "0             0             0            29  \n",
       "1             0             0             1  \n",
       "2             0             0             1  \n",
       "3             0             1            15  \n",
       "4             0             1             6  \n",
       "5             0             1            35  \n",
       "6             0             1            18  \n",
       "7             0             1            14  \n",
       "8             0             0            14  \n",
       "9             0             1             4  "
      ]
     },
     "execution_count": 5,
     "metadata": {},
     "output_type": "execute_result"
    }
   ],
   "source": [
    "df.head(10)"
   ]
  },
  {
   "cell_type": "code",
   "execution_count": 6,
   "metadata": {
    "collapsed": false
   },
   "outputs": [
    {
     "name": "stdout",
     "output_type": "stream",
     "text": [
      "<class 'pandas.core.frame.DataFrame'>\n",
      "RangeIndex: 300000 entries, 0 to 299999\n",
      "Data columns (total 15 columns):\n",
      "Age                        300000 non-null int64\n",
      "Gender                     300000 non-null object\n",
      "AppointmentRegistration    300000 non-null object\n",
      "ApointmentData             300000 non-null object\n",
      "DayOfTheWeek               300000 non-null object\n",
      "Status                     300000 non-null bool\n",
      "Diabetes                   300000 non-null int64\n",
      "Alcoolism                  300000 non-null int64\n",
      "HiperTension               300000 non-null int64\n",
      "Handcap                    300000 non-null int64\n",
      "Smokes                     300000 non-null int64\n",
      "Scholarship                300000 non-null int64\n",
      "Tuberculosis               300000 non-null int64\n",
      "Sms_Reminder               300000 non-null int64\n",
      "AwaitingTime               300000 non-null int64\n",
      "dtypes: bool(1), int64(10), object(4)\n",
      "memory usage: 27.8+ MB\n"
     ]
    }
   ],
   "source": [
    "df.info()"
   ]
  },
  {
   "cell_type": "code",
   "execution_count": 7,
   "metadata": {
    "collapsed": false
   },
   "outputs": [
    {
     "data": {
      "text/plain": [
       "1    170654\n",
       "0    128547\n",
       "2       799\n",
       "Name: Sms_Reminder, dtype: int64"
      ]
     },
     "execution_count": 7,
     "metadata": {},
     "output_type": "execute_result"
    }
   ],
   "source": [
    "df.Sms_Reminder.value_counts()"
   ]
  },
  {
   "cell_type": "code",
   "execution_count": 14,
   "metadata": {
    "collapsed": false
   },
   "outputs": [],
   "source": [
    "# remove outlier values\n",
    "df = df.loc[(df.Sms_Reminder < 2)]"
   ]
  },
  {
   "cell_type": "markdown",
   "metadata": {
    "deletable": true,
    "editable": true
   },
   "source": [
    "### The Problem"
   ]
  },
  {
   "cell_type": "markdown",
   "metadata": {
    "deletable": true,
    "editable": true
   },
   "source": [
    "How do we decrease the amount of no-show appointments for this doctor's office?"
   ]
  },
  {
   "cell_type": "code",
   "execution_count": 9,
   "metadata": {
    "collapsed": false,
    "deletable": true,
    "editable": true
   },
   "outputs": [
    {
     "name": "stdout",
     "output_type": "stream",
     "text": [
      "Appointments made: 208738\n",
      "Appointments missed: 90463\n",
      "ratio 0.3023485884071243\n"
     ]
    }
   ],
   "source": [
    "# rate of no-shows to people who showed up\n",
    "\n",
    "made_appointments = len(df[df.Status == True])\n",
    "missed_appointments = len(df[df.Status == False])\n",
    "\n",
    "print('Appointments made:', made_appointments)\n",
    "print('Appointments missed:', missed_appointments)\n",
    "print('ratio', missed_appointments/ (made_appointments + missed_appointments))"
   ]
  },
  {
   "cell_type": "markdown",
   "metadata": {
    "deletable": true,
    "editable": true
   },
   "source": [
    "30% of appointments for this office are missed.\n",
    "\n",
    "Missed appointments are problematic for a couple of reasons.\n",
    "\n",
    "Firstly, we care about the well-being and health of our patients. Whenever a person misses out on a potential meeting, the less likely we are to find and diagnose potentially damaging health issues. \n",
    "\n",
    "Secondly, missed appointments lead to a lack of revenue on our end because we miss out on co-pays."
   ]
  },
  {
   "cell_type": "markdown",
   "metadata": {
    "deletable": true,
    "editable": true
   },
   "source": [
    "### The Potential Solution"
   ]
  },
  {
   "cell_type": "markdown",
   "metadata": {
    "deletable": true,
    "editable": true
   },
   "source": [
    "Increasing the rate at which we remind patients about appointments via SMS will decrease the number of no-show appointments."
   ]
  },
  {
   "cell_type": "code",
   "execution_count": 10,
   "metadata": {
    "collapsed": false,
    "deletable": true,
    "editable": true
   },
   "outputs": [
    {
     "name": "stdout",
     "output_type": "stream",
     "text": [
      "SMS reminded sample size: 170654\n",
      "Not SMS reminded sample size: 128547\n",
      "SMS proportion: 0.570365740756\n"
     ]
    }
   ],
   "source": [
    "# rate of those who received sms reminders and those that did not\n",
    "\n",
    "sms_reminder_y = len(df[df.Sms_Reminder == 1])\n",
    "sms_reminder_n = len(df[df.Sms_Reminder == 0])\n",
    "\n",
    "print('SMS reminded sample size:', sms_reminder_y)\n",
    "print('Not SMS reminded sample size:', sms_reminder_n)\n",
    "print('SMS proportion:', df.Sms_Reminder.mean())"
   ]
  },
  {
   "cell_type": "markdown",
   "metadata": {
    "deletable": true,
    "editable": true
   },
   "source": [
    "Currently, only about 57% of our patients receive the SMS reminder about an appointment."
   ]
  },
  {
   "cell_type": "code",
   "execution_count": 11,
   "metadata": {
    "collapsed": false,
    "deletable": true,
    "editable": true
   },
   "outputs": [
    {
     "name": "stdout",
     "output_type": "stream",
     "text": [
      "0.697938518874\n",
      "0.697270259127\n"
     ]
    }
   ],
   "source": [
    "# What is the rate that patients show up based on whether or not they\n",
    "# receive a text message or not?\n",
    "\n",
    "print(df[df.Sms_Reminder == 1].Status.mean())\n",
    "print(df[df.Sms_Reminder == 0].Status.mean())"
   ]
  },
  {
   "cell_type": "code",
   "execution_count": 28,
   "metadata": {
    "collapsed": false
   },
   "outputs": [],
   "source": [
    "yy = len(df[(df.Status == True) & (df.Sms_Reminder == 1)])\n",
    "yn = len(df[(df.Status == True) & (df.Sms_Reminder == 0)])\n",
    "ny = len(df[(df.Status == False) & (df.Sms_Reminder == 1)])\n",
    "nn = len(df[(df.Status == False) & (df.Sms_Reminder == 0)])"
   ]
  },
  {
   "cell_type": "code",
   "execution_count": 32,
   "metadata": {
    "collapsed": false
   },
   "outputs": [
    {
     "data": {
      "text/plain": [
       "(51548, 0.0)"
      ]
     },
     "execution_count": 32,
     "metadata": {},
     "output_type": "execute_result"
    }
   ],
   "source": [
    "obs = [[yy, yn],\n",
    "       [ny, nn]]\n",
    "mcnemar(obs)"
   ]
  },
  {
   "cell_type": "markdown",
   "metadata": {
    "deletable": true,
    "editable": true
   },
   "source": [
    "The differences in status between groups that received a text message and groups that did not receive a text message reminder does not seem very significant. The show-up rate is only slightly higher for patients that received a text message than those that did not.\n",
    "\n",
    "There may be some other factors at play concerning the significance of the data."
   ]
  },
  {
   "cell_type": "code",
   "execution_count": 34,
   "metadata": {
    "collapsed": false,
    "deletable": true,
    "editable": true
   },
   "outputs": [
    {
     "data": {
      "text/plain": [
       "<matplotlib.text.Text at 0x8be8690>"
      ]
     },
     "execution_count": 34,
     "metadata": {},
     "output_type": "execute_result"
    },
    {
     "data": {
      "image/png": "[encoded data removed]",
      "text/plain": [
       "<matplotlib.figure.Figure at 0x11c05b0>"
      ]
     },
     "metadata": {},
     "output_type": "display_data"
    }
   ],
   "source": [
    "ax = sns.distplot(df.AwaitingTime)\n",
    "plt.title('Distribution of Waiting Time')"
   ]
  },
  {
   "cell_type": "markdown",
   "metadata": {
    "deletable": true,
    "editable": true
   },
   "source": [
    "Many patients wait less than 75 days between setting an appointment and actually going to the clinic. Narrowing the data to only include patients waiting 75 days or less will provide data for the most prolific days a patient must wait."
   ]
  },
  {
   "cell_type": "code",
   "execution_count": 35,
   "metadata": {
    "collapsed": false,
    "deletable": true,
    "editable": true
   },
   "outputs": [],
   "source": [
    "# creates data frame for waiting time of less than 76 days\n",
    "df2 = df.loc[(df.AwaitingTime < 76)]"
   ]
  },
  {
   "cell_type": "code",
   "execution_count": 36,
   "metadata": {
    "collapsed": false,
    "deletable": true,
    "editable": true
   },
   "outputs": [
    {
     "data": {
      "image/png": "[encoded data removed]",
      "text/plain": [
       "<matplotlib.figure.Figure at 0x8b4df10>"
      ]
     },
     "metadata": {},
     "output_type": "display_data"
    }
   ],
   "source": [
    "fig = df2[df2.Sms_Reminder==1][\n",
    "    ['AwaitingTime', 'Status']].groupby('AwaitingTime').mean().plot()\n",
    "df2[df2.Sms_Reminder==0][\n",
    "    ['AwaitingTime', 'Status']].groupby('AwaitingTime').mean().plot(ax=fig)\n",
    "plt.legend(['SMS', 'No SMS'])\n",
    "plt.tight_layout()\n",
    "plt.show()"
   ]
  },
  {
   "cell_type": "markdown",
   "metadata": {
    "deletable": true,
    "editable": true
   },
   "source": [
    "The longer the duration of waiting time, the more unpredictable the status results become.\n",
    "\n",
    "However, within the first 75 days, show-up rates are greater for the group that receives a text message reminder than those that don't.\n",
    "\n",
    "The difference could be a result of time in conjunction with a text message reminder but the status rates are significantly lower for the reminded group."
   ]
  },
  {
   "cell_type": "markdown",
   "metadata": {
    "deletable": true,
    "editable": true
   },
   "source": [
    "### The Method of Testing the Solution"
   ]
  },
  {
   "cell_type": "markdown",
   "metadata": {
    "deletable": true,
    "editable": true
   },
   "source": [
    "Increase the number of patients that receive SMS notifications prior to an appointment to 80%. Currently, 57% of patients receive the reminder. \n",
    "\n",
    "The variable of interest is the status (show-up or no-show) in groups that received an SMS reminder and those that did not.\n",
    "\n",
    "This is an A/B manipulation where a text message reminder is sent or not sent.\n",
    "\n",
    "We will compute the status rates for 75 days before the study and compare it to the status rates between those who received a reminder after 75 days during the study. I am choosing 75 days as the benchmark because most of our patients are waiting less than 75 days between setting an appointment and arriving at the clinic.\n",
    "\n",
    "If the no-show rates in the next two months decrease by 5% with the increased number of patients getting text messages, conclude that increasing SMS reminders is effective and send text messages to more, willing patients with cellphones.\n",
    "\n",
    "If the no-show rates do not decrease within the 75-day period, observe for 75 more days. If the no-show rates still do not increase, revert back to the old method of assigning SMS reminders to patients."
   ]
  }
 ],
 "metadata": {
  "kernelspec": {
   "display_name": "Python 3",
   "language": "python",
   "name": "python3"
  },
  "language_info": {
   "codemirror_mode": {
    "name": "ipython",
    "version": 3
   },
   "file_extension": ".py",
   "mimetype": "text/x-python",
   "name": "python",
   "nbconvert_exporter": "python",
   "pygments_lexer": "ipython3",
   "version": "3.6.0"
  }
 },
 "nbformat": 4,
 "nbformat_minor": 2
}
