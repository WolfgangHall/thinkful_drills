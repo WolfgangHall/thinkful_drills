{
 "cells": [
  {
   "cell_type": "markdown",
   "metadata": {},
   "source": [
    "The Consumer Price Index is a measure of the average monthly change in the price of goods and services paid by urban consumers between any two time periods.\n",
    "\n",
    "The Unemployment rate represents the number of unemployed as a percentage of the labor force."
   ]
  },
  {
   "cell_type": "code",
   "execution_count": 1,
   "metadata": {
    "collapsed": true
   },
   "outputs": [],
   "source": [
    "import numpy as np\n",
    "import pandas as pd\n",
    "import matplotlib.pyplot as plt\n",
    "%matplotlib inline"
   ]
  },
  {
   "cell_type": "code",
   "execution_count": 17,
   "metadata": {
    "collapsed": false
   },
   "outputs": [],
   "source": [
    "raw_cpi_data = pd.read_csv('CPIAUCSL.csv')\n",
    "unemploy_data = pd.read_csv('UNRATE.csv')"
   ]
  },
  {
   "cell_type": "code",
   "execution_count": 18,
   "metadata": {
    "collapsed": false
   },
   "outputs": [],
   "source": [
    "raw_cpi_data['DATE'] = pd.to_datetime(raw_cpi_data['DATE'])\n",
    "unemploy_data['DATE'] = pd.to_datetime(unemploy_data['DATE'])"
   ]
  },
  {
   "cell_type": "code",
   "execution_count": 19,
   "metadata": {
    "collapsed": false
   },
   "outputs": [],
   "source": [
    "raw_cpi_data.set_index('DATE', inplace=True)\n",
    "unemploy_data.set_index('DATE', inplace=True)"
   ]
  },
  {
   "cell_type": "code",
   "execution_count": 20,
   "metadata": {
    "collapsed": true
   },
   "outputs": [],
   "source": [
    "cpi = raw_cpi_data.loc['1960-01-01':'2017-09-30']"
   ]
  },
  {
   "cell_type": "code",
   "execution_count": 21,
   "metadata": {
    "collapsed": true
   },
   "outputs": [],
   "source": [
    "unemploy = unemploy_data.loc['1960-01-01':'2017-09-30']"
   ]
  },
  {
   "cell_type": "code",
   "execution_count": 22,
   "metadata": {
    "collapsed": false
   },
   "outputs": [
    {
     "name": "stdout",
     "output_type": "stream",
     "text": [
      "<class 'pandas.core.frame.DataFrame'>\n",
      "DatetimeIndex: 693 entries, 1960-01-01 to 2017-09-01\n",
      "Data columns (total 1 columns):\n",
      "CPIAUCSL    693 non-null float64\n",
      "dtypes: float64(1)\n",
      "memory usage: 10.8 KB\n"
     ]
    }
   ],
   "source": [
    "cpi.info()"
   ]
  },
  {
   "cell_type": "code",
   "execution_count": 23,
   "metadata": {
    "collapsed": false
   },
   "outputs": [
    {
     "name": "stdout",
     "output_type": "stream",
     "text": [
      "<class 'pandas.core.frame.DataFrame'>\n",
      "DatetimeIndex: 693 entries, 1960-01-01 to 2017-09-01\n",
      "Data columns (total 1 columns):\n",
      "UNRATE    693 non-null float64\n",
      "dtypes: float64(1)\n",
      "memory usage: 10.8 KB\n"
     ]
    }
   ],
   "source": [
    "unemploy.info()"
   ]
  },
  {
   "cell_type": "code",
   "execution_count": 24,
   "metadata": {
    "collapsed": true
   },
   "outputs": [],
   "source": [
    "df = pd.concat([cpi, unemploy], axis=1)"
   ]
  },
  {
   "cell_type": "code",
   "execution_count": 28,
   "metadata": {
    "collapsed": false
   },
   "outputs": [],
   "source": [
    "df2 = df.iloc[::3, :]"
   ]
  },
  {
   "cell_type": "code",
   "execution_count": 30,
   "metadata": {
    "collapsed": false
   },
   "outputs": [
    {
     "data": {
      "text/html": [
       "<div>\n",
       "<table border=\"1\" class=\"dataframe\">\n",
       "  <thead>\n",
       "    <tr style=\"text-align: right;\">\n",
       "      <th></th>\n",
       "      <th>CPIAUCSL</th>\n",
       "      <th>UNRATE</th>\n",
       "    </tr>\n",
       "    <tr>\n",
       "      <th>DATE</th>\n",
       "      <th></th>\n",
       "      <th></th>\n",
       "    </tr>\n",
       "  </thead>\n",
       "  <tbody>\n",
       "    <tr>\n",
       "      <th>1960-01-01</th>\n",
       "      <td>29.37</td>\n",
       "      <td>5.2</td>\n",
       "    </tr>\n",
       "    <tr>\n",
       "      <th>1960-04-01</th>\n",
       "      <td>29.54</td>\n",
       "      <td>5.2</td>\n",
       "    </tr>\n",
       "    <tr>\n",
       "      <th>1960-07-01</th>\n",
       "      <td>29.55</td>\n",
       "      <td>5.5</td>\n",
       "    </tr>\n",
       "    <tr>\n",
       "      <th>1960-10-01</th>\n",
       "      <td>29.75</td>\n",
       "      <td>6.1</td>\n",
       "    </tr>\n",
       "    <tr>\n",
       "      <th>1961-01-01</th>\n",
       "      <td>29.84</td>\n",
       "      <td>6.6</td>\n",
       "    </tr>\n",
       "  </tbody>\n",
       "</table>\n",
       "</div>"
      ],
      "text/plain": [
       "            CPIAUCSL  UNRATE\n",
       "DATE                        \n",
       "1960-01-01     29.37     5.2\n",
       "1960-04-01     29.54     5.2\n",
       "1960-07-01     29.55     5.5\n",
       "1960-10-01     29.75     6.1\n",
       "1961-01-01     29.84     6.6"
      ]
     },
     "execution_count": 30,
     "metadata": {},
     "output_type": "execute_result"
    }
   ],
   "source": [
    "df2.head()"
   ]
  },
  {
   "cell_type": "code",
   "execution_count": 33,
   "metadata": {
    "collapsed": false
   },
   "outputs": [
    {
     "data": {
      "text/plain": [
       "DATE\n",
       "1960-01-01      NaN\n",
       "1960-04-01    0.170\n",
       "1960-07-01    0.010\n",
       "1960-10-01    0.200\n",
       "1961-01-01    0.090\n",
       "1961-04-01   -0.030\n",
       "1961-07-01    0.110\n",
       "1961-10-01    0.060\n",
       "1962-01-01    0.060\n",
       "1962-04-01    0.170\n",
       "1962-07-01    0.010\n",
       "1962-10-01    0.160\n",
       "1963-01-01    0.060\n",
       "1963-04-01    0.040\n",
       "1963-07-01    0.210\n",
       "1963-10-01    0.060\n",
       "1964-01-01    0.190\n",
       "1964-04-01    0.010\n",
       "1964-07-01    0.070\n",
       "1964-10-01    0.100\n",
       "1965-01-01    0.160\n",
       "1965-04-01    0.100\n",
       "1965-07-01    0.200\n",
       "1965-10-01    0.070\n",
       "1966-01-01    0.230\n",
       "1966-04-01    0.400\n",
       "1966-07-01    0.170\n",
       "1966-10-01    0.400\n",
       "1967-01-01    0.050\n",
       "1967-04-01    0.200\n",
       "              ...  \n",
       "2010-04-01   -0.085\n",
       "2010-07-01    0.202\n",
       "2010-10-01    1.430\n",
       "2011-01-01    2.152\n",
       "2011-04-01    2.906\n",
       "2011-07-01    1.302\n",
       "2011-10-01    1.355\n",
       "2012-01-01    1.092\n",
       "2012-04-01    1.345\n",
       "2012-07-01   -0.597\n",
       "2012-10-01    3.048\n",
       "2013-01-01   -0.026\n",
       "2013-04-01    0.183\n",
       "2013-07-01    1.094\n",
       "2013-10-01    0.829\n",
       "2014-01-01    1.667\n",
       "2014-04-01    1.086\n",
       "2014-07-01    0.953\n",
       "2014-10-01    0.082\n",
       "2015-01-01   -2.593\n",
       "2015-04-01    1.288\n",
       "2015-07-01    1.675\n",
       "2015-10-01   -0.084\n",
       "2016-01-01    0.314\n",
       "2016-04-01    0.802\n",
       "2016-07-01    0.990\n",
       "2016-10-01    1.796\n",
       "2017-01-01    2.464\n",
       "2017-04-01    0.000\n",
       "2017-07-01   -0.110\n",
       "Freq: 3MS, Name: CPIAUCSL, dtype: float64"
      ]
     },
     "execution_count": 33,
     "metadata": {},
     "output_type": "execute_result"
    }
   ],
   "source": [
    "df2['CPIAUCSL'].diff()"
   ]
  },
  {
   "cell_type": "code",
   "execution_count": 16,
   "metadata": {
    "collapsed": false
   },
   "outputs": [
    {
     "data": {
      "text/plain": [
       "count    452.000000\n",
       "mean       0.002552\n",
       "std        0.002936\n",
       "min       -0.017705\n",
       "25%        0.001246\n",
       "50%        0.002325\n",
       "75%        0.003729\n",
       "max        0.013924\n",
       "Name: cpi_pct_change, dtype: float64"
      ]
     },
     "execution_count": 16,
     "metadata": {},
     "output_type": "execute_result"
    }
   ],
   "source": [
    "df['cpi_pct_change'].describe()"
   ]
  },
  {
   "cell_type": "code",
   "execution_count": 84,
   "metadata": {
    "collapsed": true
   },
   "outputs": [],
   "source": [
    "from sklearn.linear_model import LinearRegression"
   ]
  },
  {
   "cell_type": "code",
   "execution_count": 85,
   "metadata": {
    "collapsed": true
   },
   "outputs": [],
   "source": [
    "lm = LinearRegression()"
   ]
  },
  {
   "cell_type": "code",
   "execution_count": 88,
   "metadata": {
    "collapsed": true
   },
   "outputs": [],
   "source": [
    "X = pd.DataFrame(df.CPIAUCSL)"
   ]
  },
  {
   "cell_type": "code",
   "execution_count": 89,
   "metadata": {
    "collapsed": true
   },
   "outputs": [],
   "source": [
    "y = list(df.UNRATE)"
   ]
  },
  {
   "cell_type": "code",
   "execution_count": 90,
   "metadata": {
    "collapsed": false
   },
   "outputs": [
    {
     "data": {
      "text/plain": [
       "LinearRegression(copy_X=True, fit_intercept=True, n_jobs=1, normalize=False)"
      ]
     },
     "execution_count": 90,
     "metadata": {},
     "output_type": "execute_result"
    }
   ],
   "source": [
    "lm.fit(X, y)"
   ]
  },
  {
   "cell_type": "code",
   "execution_count": 91,
   "metadata": {
    "collapsed": false
   },
   "outputs": [
    {
     "name": "stdout",
     "output_type": "stream",
     "text": [
      "coefficients: [-0.006883]\n",
      "intercept: 7.48642553855\n",
      "score: 0.0415976397095\n"
     ]
    }
   ],
   "source": [
    "print('coefficients: ' + str(lm.coef_))\n",
    "print('intercept: ' + str(lm.intercept_))\n",
    "print('score: ' + str(lm.score(X,y)))"
   ]
  },
  {
   "cell_type": "code",
   "execution_count": 15,
   "metadata": {
    "collapsed": false
   },
   "outputs": [
    {
     "data": {
      "text/plain": [
       "<matplotlib.axes._subplots.AxesSubplot at 0x20066c31be0>"
      ]
     },
     "execution_count": 15,
     "metadata": {},
     "output_type": "execute_result"
    },
    {
     "data": {
      "image/png": "[encoded data removed]",
      "text/plain": [
       "<matplotlib.figure.Figure at 0x20066c47b70>"
      ]
     },
     "metadata": {},
     "output_type": "display_data"
    }
   ],
   "source": [
    "df[['UNRATE', 'cpi_pct_change']].plot()"
   ]
  },
  {
   "cell_type": "code",
   "execution_count": null,
   "metadata": {
    "collapsed": true
   },
   "outputs": [],
   "source": []
  }
 ],
 "metadata": {
  "kernelspec": {
   "display_name": "Python 3",
   "language": "python",
   "name": "python3"
  },
  "language_info": {
   "codemirror_mode": {
    "name": "ipython",
    "version": 3
   },
   "file_extension": ".py",
   "mimetype": "text/x-python",
   "name": "python",
   "nbconvert_exporter": "python",
   "pygments_lexer": "ipython3",
   "version": "3.6.0"
  }
 },
 "nbformat": 4,
 "nbformat_minor": 2
}
