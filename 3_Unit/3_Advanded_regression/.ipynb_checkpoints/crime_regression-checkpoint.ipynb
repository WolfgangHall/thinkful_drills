{
 "cells": [
  {
   "cell_type": "code",
   "execution_count": 38,
   "metadata": {
    "collapsed": true
   },
   "outputs": [],
   "source": [
    "import numpy as np\n",
    "import pandas as pd\n",
    "\n",
    "import matplotlib.pyplot as plt\n",
    "import seaborn as sns\n",
    "%matplotlib inline\n",
    "\n",
    "from sklearn import preprocessing"
   ]
  },
  {
   "cell_type": "code",
   "execution_count": 39,
   "metadata": {
    "collapsed": false
   },
   "outputs": [],
   "source": [
    "df = pd.read_csv('crime_data.csv')"
   ]
  },
  {
   "cell_type": "code",
   "execution_count": 40,
   "metadata": {
    "collapsed": false
   },
   "outputs": [
    {
     "data": {
      "text/html": [
       "<div>\n",
       "<style>\n",
       "    .dataframe thead tr:only-child th {\n",
       "        text-align: right;\n",
       "    }\n",
       "\n",
       "    .dataframe thead th {\n",
       "        text-align: left;\n",
       "    }\n",
       "\n",
       "    .dataframe tbody tr th {\n",
       "        vertical-align: top;\n",
       "    }\n",
       "</style>\n",
       "<table border=\"1\" class=\"dataframe\">\n",
       "  <thead>\n",
       "    <tr style=\"text-align: right;\">\n",
       "      <th></th>\n",
       "      <th>State</th>\n",
       "      <th>City</th>\n",
       "      <th>Population</th>\n",
       "      <th>Violent crime</th>\n",
       "      <th>Murder and manslaughter</th>\n",
       "      <th>Rape</th>\n",
       "      <th>Rape (legacy definition)</th>\n",
       "      <th>Robbery</th>\n",
       "      <th>Aggravated assault</th>\n",
       "      <th>Property crime</th>\n",
       "      <th>Burglary</th>\n",
       "      <th>Larceny</th>\n",
       "      <th>Motor vehicle theft</th>\n",
       "      <th>Arson</th>\n",
       "    </tr>\n",
       "  </thead>\n",
       "  <tbody>\n",
       "    <tr>\n",
       "      <th>0</th>\n",
       "      <td>ALABAMA</td>\n",
       "      <td>Abbeville</td>\n",
       "      <td>2,645</td>\n",
       "      <td>11</td>\n",
       "      <td>1</td>\n",
       "      <td>1</td>\n",
       "      <td>NaN</td>\n",
       "      <td>2</td>\n",
       "      <td>7</td>\n",
       "      <td>63</td>\n",
       "      <td>21</td>\n",
       "      <td>39</td>\n",
       "      <td>3</td>\n",
       "      <td>NaN</td>\n",
       "    </tr>\n",
       "    <tr>\n",
       "      <th>1</th>\n",
       "      <td>NaN</td>\n",
       "      <td>Adamsville</td>\n",
       "      <td>4,481</td>\n",
       "      <td>19</td>\n",
       "      <td>1</td>\n",
       "      <td>0</td>\n",
       "      <td>NaN</td>\n",
       "      <td>7</td>\n",
       "      <td>11</td>\n",
       "      <td>321</td>\n",
       "      <td>58</td>\n",
       "      <td>252</td>\n",
       "      <td>11</td>\n",
       "      <td>NaN</td>\n",
       "    </tr>\n",
       "    <tr>\n",
       "      <th>2</th>\n",
       "      <td>NaN</td>\n",
       "      <td>Addison</td>\n",
       "      <td>744</td>\n",
       "      <td>1</td>\n",
       "      <td>0</td>\n",
       "      <td>1</td>\n",
       "      <td>NaN</td>\n",
       "      <td>0</td>\n",
       "      <td>0</td>\n",
       "      <td>25</td>\n",
       "      <td>6</td>\n",
       "      <td>17</td>\n",
       "      <td>2</td>\n",
       "      <td>NaN</td>\n",
       "    </tr>\n",
       "    <tr>\n",
       "      <th>3</th>\n",
       "      <td>NaN</td>\n",
       "      <td>Alabaster</td>\n",
       "      <td>31,170</td>\n",
       "      <td>44</td>\n",
       "      <td>0</td>\n",
       "      <td>2</td>\n",
       "      <td>NaN</td>\n",
       "      <td>11</td>\n",
       "      <td>31</td>\n",
       "      <td>640</td>\n",
       "      <td>70</td>\n",
       "      <td>544</td>\n",
       "      <td>26</td>\n",
       "      <td>NaN</td>\n",
       "    </tr>\n",
       "    <tr>\n",
       "      <th>4</th>\n",
       "      <td>NaN</td>\n",
       "      <td>Alexander City</td>\n",
       "      <td>14,692</td>\n",
       "      <td>119</td>\n",
       "      <td>2</td>\n",
       "      <td>16</td>\n",
       "      <td>NaN</td>\n",
       "      <td>12</td>\n",
       "      <td>89</td>\n",
       "      <td>661</td>\n",
       "      <td>121</td>\n",
       "      <td>510</td>\n",
       "      <td>30</td>\n",
       "      <td>NaN</td>\n",
       "    </tr>\n",
       "  </tbody>\n",
       "</table>\n",
       "</div>"
      ],
      "text/plain": [
       "     State            City Population Violent crime  Murder and manslaughter  \\\n",
       "0  ALABAMA       Abbeville      2,645            11                        1   \n",
       "1      NaN      Adamsville      4,481            19                        1   \n",
       "2      NaN         Addison        744             1                        0   \n",
       "3      NaN       Alabaster     31,170            44                        0   \n",
       "4      NaN  Alexander City     14,692           119                        2   \n",
       "\n",
       "  Rape Rape (legacy definition) Robbery Aggravated assault Property crime  \\\n",
       "0    1                      NaN       2                  7             63   \n",
       "1    0                      NaN       7                 11            321   \n",
       "2    1                      NaN       0                  0             25   \n",
       "3    2                      NaN      11                 31            640   \n",
       "4   16                      NaN      12                 89            661   \n",
       "\n",
       "  Burglary Larceny Motor vehicle theft Arson  \n",
       "0       21      39                   3   NaN  \n",
       "1       58     252                  11   NaN  \n",
       "2        6      17                   2   NaN  \n",
       "3       70     544                  26   NaN  \n",
       "4      121     510                  30   NaN  "
      ]
     },
     "execution_count": 40,
     "metadata": {},
     "output_type": "execute_result"
    }
   ],
   "source": [
    "df.head()"
   ]
  },
  {
   "cell_type": "code",
   "execution_count": 41,
   "metadata": {
    "collapsed": false
   },
   "outputs": [
    {
     "data": {
      "text/plain": [
       "Index(['State', 'City', 'Population', 'Violent crime',\n",
       "       'Murder and manslaughter', 'Rape', 'Rape (legacy definition)',\n",
       "       'Robbery', 'Aggravated assault', 'Property crime', 'Burglary',\n",
       "       'Larceny', 'Motor vehicle theft', 'Arson'],\n",
       "      dtype='object')"
      ]
     },
     "execution_count": 41,
     "metadata": {},
     "output_type": "execute_result"
    }
   ],
   "source": [
    "df.columns"
   ]
  },
  {
   "cell_type": "code",
   "execution_count": 42,
   "metadata": {
    "collapsed": false
   },
   "outputs": [],
   "source": [
    "df.drop(['State', 'City', 'Rape (legacy definition)', 'Arson'], axis=1, inplace=True)"
   ]
  },
  {
   "cell_type": "code",
   "execution_count": 43,
   "metadata": {
    "collapsed": false
   },
   "outputs": [
    {
     "name": "stdout",
     "output_type": "stream",
     "text": [
      "<class 'pandas.core.frame.DataFrame'>\n",
      "RangeIndex: 9292 entries, 0 to 9291\n",
      "Data columns (total 10 columns):\n",
      "Population                 9289 non-null object\n",
      "Violent crime              9288 non-null object\n",
      "Murder and manslaughter    9292 non-null int64\n",
      "Rape                       5431 non-null object\n",
      "Robbery                    9292 non-null object\n",
      "Aggravated assault         9289 non-null object\n",
      "Property crime             9288 non-null object\n",
      "Burglary                   9290 non-null object\n",
      "Larceny                    9290 non-null object\n",
      "Motor vehicle theft        9292 non-null object\n",
      "dtypes: int64(1), object(9)\n",
      "memory usage: 726.0+ KB\n"
     ]
    }
   ],
   "source": [
    "df.info()"
   ]
  },
  {
   "cell_type": "code",
   "execution_count": 44,
   "metadata": {
    "collapsed": false
   },
   "outputs": [],
   "source": [
    "df.dropna(axis=0, inplace=True)"
   ]
  },
  {
   "cell_type": "code",
   "execution_count": 45,
   "metadata": {
    "collapsed": false
   },
   "outputs": [],
   "source": [
    "for item in ['Violent crime', 'Rape', 'Aggravated assault', 'Property crime',\n",
    "    'Burglary', 'Larceny', 'Motor vehicle theft', 'Robbery', 'Population']:\n",
    "    df[item] = df[item].str.replace(',', '').astype(int)"
   ]
  },
  {
   "cell_type": "code",
   "execution_count": 46,
   "metadata": {
    "collapsed": false
   },
   "outputs": [
    {
     "name": "stdout",
     "output_type": "stream",
     "text": [
      "<class 'pandas.core.frame.DataFrame'>\n",
      "Int64Index: 5425 entries, 0 to 9255\n",
      "Data columns (total 10 columns):\n",
      "Population                 5425 non-null int32\n",
      "Violent crime              5425 non-null int32\n",
      "Murder and manslaughter    5425 non-null int64\n",
      "Rape                       5425 non-null int32\n",
      "Robbery                    5425 non-null int32\n",
      "Aggravated assault         5425 non-null int32\n",
      "Property crime             5425 non-null int32\n",
      "Burglary                   5425 non-null int32\n",
      "Larceny                    5425 non-null int32\n",
      "Motor vehicle theft        5425 non-null int32\n",
      "dtypes: int32(9), int64(1)\n",
      "memory usage: 275.5 KB\n"
     ]
    }
   ],
   "source": [
    "df.info()"
   ]
  },
  {
   "cell_type": "code",
   "execution_count": 47,
   "metadata": {
    "collapsed": false
   },
   "outputs": [],
   "source": [
    "df = pd.DataFrame(preprocessing.scale(df), columns = df.columns)"
   ]
  },
  {
   "cell_type": "code",
   "execution_count": 48,
   "metadata": {
    "collapsed": false
   },
   "outputs": [],
   "source": [
    "df['Population2'] = df['Population'] ** 2\n",
    "df['Population3'] = df['Population'] ** 3"
   ]
  },
  {
   "cell_type": "code",
   "execution_count": 49,
   "metadata": {
    "collapsed": false
   },
   "outputs": [
    {
     "data": {
      "text/html": [
       "<div>\n",
       "<style>\n",
       "    .dataframe thead tr:only-child th {\n",
       "        text-align: right;\n",
       "    }\n",
       "\n",
       "    .dataframe thead th {\n",
       "        text-align: left;\n",
       "    }\n",
       "\n",
       "    .dataframe tbody tr th {\n",
       "        vertical-align: top;\n",
       "    }\n",
       "</style>\n",
       "<table border=\"1\" class=\"dataframe\">\n",
       "  <thead>\n",
       "    <tr style=\"text-align: right;\">\n",
       "      <th></th>\n",
       "      <th>Population</th>\n",
       "      <th>Violent crime</th>\n",
       "      <th>Murder and manslaughter</th>\n",
       "      <th>Rape</th>\n",
       "      <th>Robbery</th>\n",
       "      <th>Aggravated assault</th>\n",
       "      <th>Property crime</th>\n",
       "      <th>Burglary</th>\n",
       "      <th>Larceny</th>\n",
       "      <th>Motor vehicle theft</th>\n",
       "      <th>Population2</th>\n",
       "      <th>Population3</th>\n",
       "    </tr>\n",
       "  </thead>\n",
       "  <tbody>\n",
       "    <tr>\n",
       "      <th>0</th>\n",
       "      <td>-0.272875</td>\n",
       "      <td>-0.123591</td>\n",
       "      <td>0.027145</td>\n",
       "      <td>-0.173987</td>\n",
       "      <td>-0.099642</td>\n",
       "      <td>-0.132037</td>\n",
       "      <td>-0.213101</td>\n",
       "      <td>-0.168071</td>\n",
       "      <td>-0.235997</td>\n",
       "      <td>-0.125142</td>\n",
       "      <td>0.074461</td>\n",
       "      <td>-0.020318</td>\n",
       "    </tr>\n",
       "    <tr>\n",
       "      <th>1</th>\n",
       "      <td>-0.234326</td>\n",
       "      <td>-0.107066</td>\n",
       "      <td>0.027145</td>\n",
       "      <td>-0.204052</td>\n",
       "      <td>-0.072167</td>\n",
       "      <td>-0.117411</td>\n",
       "      <td>-0.090246</td>\n",
       "      <td>-0.094137</td>\n",
       "      <td>-0.083777</td>\n",
       "      <td>-0.094970</td>\n",
       "      <td>0.054909</td>\n",
       "      <td>-0.012866</td>\n",
       "    </tr>\n",
       "    <tr>\n",
       "      <th>2</th>\n",
       "      <td>-0.312788</td>\n",
       "      <td>-0.144248</td>\n",
       "      <td>-0.108205</td>\n",
       "      <td>-0.173987</td>\n",
       "      <td>-0.110632</td>\n",
       "      <td>-0.157632</td>\n",
       "      <td>-0.231196</td>\n",
       "      <td>-0.198043</td>\n",
       "      <td>-0.251719</td>\n",
       "      <td>-0.128913</td>\n",
       "      <td>0.097837</td>\n",
       "      <td>-0.030602</td>\n",
       "    </tr>\n",
       "    <tr>\n",
       "      <th>3</th>\n",
       "      <td>0.326041</td>\n",
       "      <td>-0.055424</td>\n",
       "      <td>-0.108205</td>\n",
       "      <td>-0.143923</td>\n",
       "      <td>-0.050187</td>\n",
       "      <td>-0.044284</td>\n",
       "      <td>0.061656</td>\n",
       "      <td>-0.070159</td>\n",
       "      <td>0.124900</td>\n",
       "      <td>-0.038398</td>\n",
       "      <td>0.106303</td>\n",
       "      <td>0.034659</td>\n",
       "    </tr>\n",
       "    <tr>\n",
       "      <th>4</th>\n",
       "      <td>-0.019934</td>\n",
       "      <td>0.099501</td>\n",
       "      <td>0.162495</td>\n",
       "      <td>0.276983</td>\n",
       "      <td>-0.044692</td>\n",
       "      <td>0.167785</td>\n",
       "      <td>0.071656</td>\n",
       "      <td>0.031749</td>\n",
       "      <td>0.100602</td>\n",
       "      <td>-0.023312</td>\n",
       "      <td>0.000397</td>\n",
       "      <td>-0.000008</td>\n",
       "    </tr>\n",
       "  </tbody>\n",
       "</table>\n",
       "</div>"
      ],
      "text/plain": [
       "   Population  Violent crime  Murder and manslaughter      Rape   Robbery  \\\n",
       "0   -0.272875      -0.123591                 0.027145 -0.173987 -0.099642   \n",
       "1   -0.234326      -0.107066                 0.027145 -0.204052 -0.072167   \n",
       "2   -0.312788      -0.144248                -0.108205 -0.173987 -0.110632   \n",
       "3    0.326041      -0.055424                -0.108205 -0.143923 -0.050187   \n",
       "4   -0.019934       0.099501                 0.162495  0.276983 -0.044692   \n",
       "\n",
       "   Aggravated assault  Property crime  Burglary   Larceny  \\\n",
       "0           -0.132037       -0.213101 -0.168071 -0.235997   \n",
       "1           -0.117411       -0.090246 -0.094137 -0.083777   \n",
       "2           -0.157632       -0.231196 -0.198043 -0.251719   \n",
       "3           -0.044284        0.061656 -0.070159  0.124900   \n",
       "4            0.167785        0.071656  0.031749  0.100602   \n",
       "\n",
       "   Motor vehicle theft  Population2  Population3  \n",
       "0            -0.125142     0.074461    -0.020318  \n",
       "1            -0.094970     0.054909    -0.012866  \n",
       "2            -0.128913     0.097837    -0.030602  \n",
       "3            -0.038398     0.106303     0.034659  \n",
       "4            -0.023312     0.000397    -0.000008  "
      ]
     },
     "execution_count": 49,
     "metadata": {},
     "output_type": "execute_result"
    }
   ],
   "source": [
    "df.head()"
   ]
  },
  {
   "cell_type": "markdown",
   "metadata": {},
   "source": [
    "### Vanilla Logistic Model"
   ]
  },
  {
   "cell_type": "code",
   "execution_count": 11,
   "metadata": {
    "collapsed": true
   },
   "outputs": [],
   "source": [
    "from sklearn.linear_model import LogisticRegression\n",
    "from sklearn import linear_model"
   ]
  },
  {
   "cell_type": "code",
   "execution_count": 12,
   "metadata": {
    "collapsed": true
   },
   "outputs": [],
   "source": [
    "X = df.drop('Violent crime', axis=1)\n",
    "y = df['Violent crime']"
   ]
  },
  {
   "cell_type": "code",
   "execution_count": 13,
   "metadata": {
    "collapsed": true
   },
   "outputs": [],
   "source": [
    "from sklearn.model_selection import train_test_split"
   ]
  },
  {
   "cell_type": "code",
   "execution_count": 14,
   "metadata": {
    "collapsed": true
   },
   "outputs": [],
   "source": [
    "X_train, X_test, y_train, y_test = train_test_split(X, y, test_size=0.3, random_state=101)"
   ]
  },
  {
   "cell_type": "code",
   "execution_count": null,
   "metadata": {
    "collapsed": true
   },
   "outputs": [],
   "source": []
  },
  {
   "cell_type": "markdown",
   "metadata": {},
   "source": [
    "### Ridge Model"
   ]
  },
  {
   "cell_type": "code",
   "execution_count": 15,
   "metadata": {
    "collapsed": false
   },
   "outputs": [],
   "source": [
    "ridgemodel = linear_model.Ridge(alpha=10, fit_intercept=False)"
   ]
  },
  {
   "cell_type": "code",
   "execution_count": 16,
   "metadata": {
    "collapsed": false
   },
   "outputs": [
    {
     "data": {
      "text/plain": [
       "Ridge(alpha=10, copy_X=True, fit_intercept=False, max_iter=None,\n",
       "   normalize=False, random_state=None, solver='auto', tol=0.001)"
      ]
     },
     "execution_count": 16,
     "metadata": {},
     "output_type": "execute_result"
    }
   ],
   "source": [
    "ridgemodel.fit(X_train, y_train)"
   ]
  },
  {
   "cell_type": "code",
   "execution_count": 17,
   "metadata": {
    "collapsed": false
   },
   "outputs": [],
   "source": [
    "ridge_pred = ridgemodel.predict(X_test)"
   ]
  },
  {
   "cell_type": "code",
   "execution_count": 22,
   "metadata": {
    "collapsed": false
   },
   "outputs": [
    {
     "data": {
      "text/plain": [
       "0.99997217278889361"
      ]
     },
     "execution_count": 22,
     "metadata": {},
     "output_type": "execute_result"
    }
   ],
   "source": [
    "ridgemodel.score(X_train, y_train)"
   ]
  },
  {
   "cell_type": "code",
   "execution_count": 29,
   "metadata": {
    "collapsed": false
   },
   "outputs": [
    {
     "data": {
      "text/plain": [
       "array([ -1.78847733e-05,   2.88488926e-02,   7.12885219e-02,\n",
       "         3.70224162e-01,   5.44033711e-01,   2.13678520e-03,\n",
       "         7.46333324e-03,   5.45917954e-04,  -4.37260062e-05])"
      ]
     },
     "execution_count": 29,
     "metadata": {},
     "output_type": "execute_result"
    }
   ],
   "source": [
    "ridgemodel.coef_"
   ]
  },
  {
   "cell_type": "markdown",
   "metadata": {},
   "source": [
    "### Lasso Model"
   ]
  },
  {
   "cell_type": "code",
   "execution_count": 24,
   "metadata": {
    "collapsed": true
   },
   "outputs": [],
   "source": [
    "lassomodel = linear_model.Lasso(alpha=.35)"
   ]
  },
  {
   "cell_type": "code",
   "execution_count": 50,
   "metadata": {
    "collapsed": true
   },
   "outputs": [],
   "source": [
    "lassofit = lassomodel.fit(X_train, y_train)"
   ]
  },
  {
   "cell_type": "code",
   "execution_count": 51,
   "metadata": {
    "collapsed": true
   },
   "outputs": [],
   "source": [
    "lasso_pred = lassomodel.predict(X_test)"
   ]
  },
  {
   "cell_type": "code",
   "execution_count": 26,
   "metadata": {
    "collapsed": false
   },
   "outputs": [
    {
     "name": "stdout",
     "output_type": "stream",
     "text": [
      "0.91305200776\n"
     ]
    }
   ],
   "source": [
    "print(lassomodel.score(X_train, y_train))"
   ]
  },
  {
   "cell_type": "code",
   "execution_count": 27,
   "metadata": {
    "collapsed": false
   },
   "outputs": [
    {
     "data": {
      "text/plain": [
       "array([ 0.        ,  0.0031626 ,  0.        ,  0.33252325,  0.38343746,\n",
       "        0.        ,  0.        ,  0.        ,  0.        ])"
      ]
     },
     "execution_count": 27,
     "metadata": {},
     "output_type": "execute_result"
    }
   ],
   "source": [
    "lassomodel.coef_"
   ]
  },
  {
   "cell_type": "code",
   "execution_count": 28,
   "metadata": {
    "collapsed": false
   },
   "outputs": [
    {
     "data": {
      "text/plain": [
       "0.00276737325236435"
      ]
     },
     "execution_count": 28,
     "metadata": {},
     "output_type": "execute_result"
    }
   ],
   "source": [
    "lassomodel.intercept_"
   ]
  },
  {
   "cell_type": "code",
   "execution_count": null,
   "metadata": {
    "collapsed": true
   },
   "outputs": [],
   "source": []
  }
 ],
 "metadata": {
  "kernelspec": {
   "display_name": "Python 3",
   "language": "python",
   "name": "python3"
  },
  "language_info": {
   "codemirror_mode": {
    "name": "ipython",
    "version": 3
   },
   "file_extension": ".py",
   "mimetype": "text/x-python",
   "name": "python",
   "nbconvert_exporter": "python",
   "pygments_lexer": "ipython3",
   "version": "3.6.0"
  }
 },
 "nbformat": 4,
 "nbformat_minor": 2
}
